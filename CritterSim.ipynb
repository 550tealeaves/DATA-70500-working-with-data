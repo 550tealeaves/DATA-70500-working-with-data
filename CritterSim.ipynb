{
  "nbformat": 4,
  "nbformat_minor": 0,
  "metadata": {
    "colab": {
      "provenance": [],
      "authorship_tag": "ABX9TyPVpcavQNzVkKS3/+/uoeVx",
      "include_colab_link": true
    },
    "kernelspec": {
      "name": "python3",
      "display_name": "Python 3"
    },
    "language_info": {
      "name": "python"
    }
  },
  "cells": [
    {
      "cell_type": "markdown",
      "metadata": {
        "id": "view-in-github",
        "colab_type": "text"
      },
      "source": [
        "<a href=\"https://colab.research.google.com/github/550tealeaves/DATA-70500-working-with-data/blob/main/CritterSim.ipynb\" target=\"_parent\"><img src=\"https://colab.research.google.com/assets/colab-badge.svg\" alt=\"Open In Colab\"/></a>"
      ]
    },
    {
      "cell_type": "code",
      "execution_count": 43,
      "metadata": {
        "id": "bTZVU0_XRXcl"
      },
      "outputs": [],
      "source": [
        "# import libraries\n",
        "import random\n",
        "import matplotlib.pyplot as plt"
      ]
    },
    {
      "cell_type": "code",
      "source": [
        "\"\"\"\"Global variables can be accessed from anywhere.\n",
        "Keep them to min b/c makes program confusing and requires lots of computing power\n",
        "Local variables have limited scope - can only be accessed in the function they reside\"\"\"\n",
        "\n",
        "# initial global parameters - variables that can be accessed anywhere\n",
        "startPopulation = 50 # starting pop\n",
        "year = 0 # starting year\n",
        "resources = 2 # # units of food each able critter can make\n",
        "food = 0 # total value of food available (able critters*resources)\n",
        "fertility_x = 10 # lowest age critter can give birth\n",
        "fertility_y = 20 # highest age critter can give birth\n",
        "disasterChance = 10 # chance of disaster occurring\n",
        "critterList = [] # list to hold all critter objects\n",
        "popList = [] # list for plot graph"
      ],
      "metadata": {
        "id": "nSS4ehC1ReaP"
      },
      "execution_count": 44,
      "outputs": []
    },
    {
      "cell_type": "code",
      "source": [
        "# Define class Critter & pass parameters\n",
        "# 1st parameter = self\n",
        "# 2nd is age\n",
        "# Every critter created will have age that we are tracking/modifying\n",
        "\n",
        "class Critter:\n",
        "    # add self & age to init b/c tracking age for all critters\n",
        "    def __init__(self, age):\n",
        "        #Parameters should include characteristics you want EVERY NEWLY CREATED CRITTER to have\n",
        "        self.sex = random.randint(0,1) # 0=male, 1=female assigns random value of 0 or 1 to each critter\n",
        "        self.age = age #set age differently based on diff factors\n",
        "\n",
        "\n",
        "    # create gather() method so each critter can gather food\n",
        "    # pass in the food & resources as parameters (arguments) - already declared as global vars\n",
        "    def gather(food, resources):\n",
        "        ableCritters = 0 # start w/ fresh value & then add on based on current pop\n",
        "        # create for loop\n",
        "        # if critter is b/w age 10-40, then they can go gather food\n",
        "        for critter in critterList:\n",
        "            # can set multiple conditions with and\n",
        "            if critter.age > 10 and critter.age < 40: # if critter.age b/w 10 & 40 (11-39)\n",
        "                ableCritters +=1 #increment ableCritters by 1 (+= shorthand for add 1)\n",
        "        # OUTSIDE for loop calculate current food stores quantity\n",
        "        food += ableCritters * resources # for every ableCritter will produce 2 units of food\n",
        "        print(f\"Food stockpile: {food}.\") # print result of food stockpile\n",
        "        print(f\"Able critters: {ableCritters}.\") # print # of ableCritters\n",
        "\n",
        "\n",
        "\n",
        "\n",
        "      # Starvation/Death - If the current food stockpile can't feed every critter in a year,\n",
        "        # need to reduce our critter population\n",
        "        # include this in the gather() method b/c that handles food, resources\n",
        "\n",
        "        # if there is less ableCritters to make food, then food depletes\n",
        "        # check if food stockpile < than the amount of existing critters\n",
        "        if food < len(critterList):\n",
        "            del critterList[0:int(len(critterList) - food)] # delete slice of list based on # starving critters\n",
        "                # b/c we start at begining of list, most likely killing older critters b/c they age\n",
        "                # remove slice of list that's equal to amt of excess critters\n",
        "            food = 0 # means no food = starvation\n",
        "            #print statement if critter starve (food=0)\n",
        "            print(f\"Some critters starved! :-(\")\n",
        "        else:\n",
        "            #if there is food, remove food equal to amt of critters, rest is stored for next yr\n",
        "            food -= len(critterList)\n",
        "\n",
        "        #print the overall results\n",
        "        print(f\"Population after starvation/feeding is: {len(critterList)}.\")\n",
        "        print(f\"After eating, food stockpile is currently at {food}.\")\n",
        "\n",
        "\n",
        "    # Create reproduce() method so each critter can reproduce\n",
        "    def reproduce(fertility_x, fertility_y): # Add 2 aged related fertility parameters (defined in global var)\n",
        "\n",
        "        #Right below the def reproduce() but before for loop, create local variable to record initial # of critters\n",
        "        # Set that equal to the length of the critterList (prior to successful reproduction)\n",
        "        initial_pop = len(critterList)\n",
        "\n",
        "        # Create for loop to check if each critter is a good candidate for birth\n",
        "        for critter in critterList: # cycle through each critter in the list\n",
        "            # Create nested if statements to check if female critters of reprod age have a chance for successful reprod\n",
        "            if critter.sex == 1:    # if the critter is female and of defined fertile age\n",
        "                if critter.age >= fertility_x: # if female critter is >= 10\n",
        "                    if critter.age <= fertility_y: # and if female critter is <= 20\n",
        "                        if random.randint(0, 4) == 1:  # if first 3 if statements are TRUE = 1 in 5 (20%) chance of pregnancy\n",
        "                            critterList.append(Critter(0)) # add newborn critter to critterList w/ age 0\n",
        "\n",
        "\n",
        "        # After reprod if statements & OUTSIDE for loop, compare initial value w/ new length of critterList post reproduction\n",
        "        if initial_pop < len(critterList): #if critterList post repro > than initial pop\n",
        "            print(\"New critters were born!\") # print statement\n"
      ],
      "metadata": {
        "id": "Lr-EDaPMRe09"
      },
      "execution_count": 45,
      "outputs": []
    },
    {
      "cell_type": "code",
      "source": [
        "# populate simulation w/ critters\n",
        "# create function\n",
        "\n",
        "def popSim():\n",
        "    # for each # from 0-50 (startpop=50), do next line - loop happens 50x\n",
        "    for x in range(startPopulation):\n",
        "        #append a new Critter object in the critterList w/ a random age b/w 2 and 45\n",
        "        #Class Critter requires an age parameter (so that is what random.randin(2,45))\n",
        "        critterList.append(Critter(random.randint(2, 45)))\n",
        "    # print the length of the critterList (50)\n",
        "    print(len(critterList))\n",
        "\n",
        "\n",
        "    #CHALLENGE - How can you see each critter's age?\n",
        "    # print out age for each critter in critterList\n",
        "    # need a for loop - for each critter object in the critterList\n",
        "    # Each critter object has age parameter\n",
        "\n",
        "    # for critter in critterList:\n",
        "    #     print(critter.age) # print out the age (object.age)"
      ],
      "metadata": {
        "id": "yUvCxDEFRhNC"
      },
      "execution_count": 46,
      "outputs": []
    },
    {
      "cell_type": "code",
      "source": [
        "# call the function\n",
        "popSim()\n",
        "\n",
        "# call the methods - methods require object or class to act upon\n",
        "#class.method(parameter1, parameter2...)\n",
        "Critter.gather(food, resources) #should be 2:1 food:critter ratio\n",
        "Critter.reproduce(fertility_x, fertility_y)"
      ],
      "metadata": {
        "colab": {
          "base_uri": "https://localhost:8080/"
        },
        "id": "nLbQHJWdRjw-",
        "outputId": "fd9d4da7-9297-45b4-fe3d-da8377529934"
      },
      "execution_count": 47,
      "outputs": [
        {
          "output_type": "stream",
          "name": "stdout",
          "text": [
            "50\n",
            "Food stockpile: 70.\n",
            "Able critters: 35.\n",
            "Population after starvation/feeding is: 50.\n",
            "After eating, food stockpile is currently at 20.\n",
            "New critters were born!\n"
          ]
        }
      ]
    },
    {
      "cell_type": "code",
      "source": [
        "# Create function that lets simulation run through year & age of critters\n",
        "# Standalone function = create in new cell below popSim() function & method calls\n",
        "\n",
        "# include 4 arguments b/c want to pass them into Critter method calls\n",
        "def runYear(food, resources, fertility_x, fertility_y):\n",
        "    # call gather() & reproduce() methods at beginning of year\n",
        "    #B/c we call them OUTSIDE of class = must include class Critter before method names\n",
        "    Critter.gather(food, resources)\n",
        "    Critter.reproduce(fertility_x, fertility_y)\n",
        "\n",
        "    # Goal - age existing critters by 1, if over age 50, they die = remove from critterList\n",
        "    # for loop to loop through all critters\n",
        "    for critter in critterList:\n",
        "        # if critters > 50 = die, then remove from list\n",
        "        if critter.age > 50:\n",
        "            critterList.remove(critter)\n",
        "        # else if they are < 50, age them up (increment) by 1\n",
        "        else:\n",
        "            critter.age += 1\n",
        "\n",
        "\n",
        "        # Environmental Disasters\n",
        "    # Include under runYear() b/c each yr has potential disaster\n",
        "    # IF statement - if random # b/w (0, 100) is < 10 (disaster chance 0-9)\n",
        "    if random.randint(0, 10) < disasterChance:\n",
        "        # delete critters from list by taking slice\n",
        "        # generate random # b/w 5-20% to see how much damage happens\n",
        "        # multiply above value by length of critterList to get 5-20% of pop & delete slice\n",
        "        del critterList[0:int(random.uniform(0.05, 0.2)* len(critterList))]\n",
        "        # print out statement if disaster happens\n",
        "        print(f\"A disaster has occurred!\")\n",
        "        # print out survivng pop\n",
        "        print(f\"There are now {len(critterList)} surviving critters.\")\n",
        "\n",
        "    #OUTSIDE OF FOR LOOP - print out survivng critters post reprod & disaster\n",
        "    print(f\"After reproducing and/or disasters, critter population is currently {len(critterList)}.\")\n",
        "    popList.append(len(critterList)) # adds current pop to list at end of year"
      ],
      "metadata": {
        "id": "9pRj_4jSRmnT"
      },
      "execution_count": 48,
      "outputs": []
    },
    {
      "cell_type": "code",
      "source": [
        "#Plan is to run simulation for X # of years & print out annual results\n",
        "#Must create while loop that runs simulation until certain conditions met\n",
        "# 1. Print msg to say the simulation started\n",
        "# 2. Run the popSim() function to initially populate critter species\n",
        "# 3. Use while loop to make sure program fulfills certain conditions: pop < 100, pop > 1\n",
        "# 4. If the pop conditions satisfied, continue to run year function & increment year by 1\n",
        "# 5. \t5. Print year to screen to track sim - use f-string\n",
        "\n",
        "\n",
        "print(\"--------The Critter Simulation has begun!---------\\n\\n\")\n",
        "popSim()\n",
        "while len(critterList) < 100 and len(critterList) > 1:\n",
        "    runYear(food, resources, fertility_x, fertility_y)\n",
        "    year += 1\n",
        "    print(f\"Current year: {year}\\n\")\n",
        "\n",
        "\n",
        "# Visualize the results - much more user friendly than the reports\n",
        "# plot the results AFTER the while loop (outside of it)\n",
        "\n",
        "# evenly sampled time at 200ms intervals\n",
        "plt.plot(popList, color= '#00FF00', lw=1, ls='--', marker='.', ms='2')\n",
        "plt.ylabel('Population')\n",
        "plt.xlabel('Year')\n",
        "plt.show()"
      ],
      "metadata": {
        "colab": {
          "base_uri": "https://localhost:8080/",
          "height": 520
        },
        "id": "4WJyW4cd5gjA",
        "outputId": "9feaf9e9-1470-4e2a-871d-eafc196556fc"
      },
      "execution_count": 49,
      "outputs": [
        {
          "output_type": "stream",
          "name": "stdout",
          "text": [
            "--------The Critter Simulation has begun!---------\n",
            "\n",
            "\n",
            "101\n"
          ]
        },
        {
          "output_type": "display_data",
          "data": {
            "text/plain": [
              "<Figure size 640x480 with 1 Axes>"
            ],
            "image/png": "[encoded data removed]"
          },
          "metadata": {}
        }
      ]
    }
  ]
}