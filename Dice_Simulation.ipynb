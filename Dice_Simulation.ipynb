{
  "nbformat": 4,
  "nbformat_minor": 0,
  "metadata": {
    "colab": {
      "provenance": [],
      "authorship_tag": "ABX9TyPSYxOLv0hcxint6Wun7HKD",
      "include_colab_link": true
    },
    "kernelspec": {
      "name": "python3",
      "display_name": "Python 3"
    },
    "language_info": {
      "name": "python"
    }
  },
  "cells": [
    {
      "cell_type": "markdown",
      "metadata": {
        "id": "view-in-github",
        "colab_type": "text"
      },
      "source": [
        "<a href=\"https://colab.research.google.com/github/550tealeaves/DATA-70500-working-with-data/blob/main/Dice_Simulation.ipynb\" target=\"_parent\"><img src=\"https://colab.research.google.com/assets/colab-badge.svg\" alt=\"Open In Colab\"/></a>"
      ]
    },
    {
      "cell_type": "code",
      "execution_count": 1,
      "metadata": {
        "id": "ptFEi9ltW8kP"
      },
      "outputs": [],
      "source": [
        "# import 2 libraries that automatically come with Python\n",
        "import random\n",
        "import statistics as stats"
      ]
    },
    {
      "cell_type": "code",
      "source": [
        "# create a new die class (class = blueprint)\n",
        "# use uppercase for class names\n",
        "# initialize the class (way you put all the info) - uses 2 __init__ fill in all the data the Die object should have\n",
        "# always include self in initialization - allows each object in class to refer to itself\n",
        "# include sides b/c die have sides\n",
        "# to allow all die objects to access sides, type self.sides = sides - if we create a die object, it can refer to the sides variable - gives objects the parameters\n",
        "class Die:\n",
        "    def __init__(self, sides):\n",
        "        self.sides = sides\n",
        "\n",
        "\n",
        "    # Create a roll method (method = function w/in a class and has to be indented)\n",
        "    # A die can do what? roll\n",
        "    def roll(self):\n",
        "        return random.randint(1, self.sides) #return a random int b/w 1 & total # of sides"
      ],
      "metadata": {
        "id": "cA-aNVcDXBTy"
      },
      "execution_count": 2,
      "outputs": []
    },
    {
      "cell_type": "code",
      "source": [
        "# displaying results\n",
        "die = Die(6) #set die to 6  - die belongs to class Die & can use every method created in class\n",
        "print(die.roll()) # die is using the method (roll) in Die class\n",
        "\n",
        "# Can create as many objects of a class - & each object will have parameter (self.sides) & all the methods (roll)\n",
        "die1 = Die(50)\n",
        "print(die1.roll())"
      ],
      "metadata": {
        "colab": {
          "base_uri": "https://localhost:8080/"
        },
        "id": "8b3G40lxXDmw",
        "outputId": "3bc20f4b-6a7e-4dcb-beef-9b43c0556a36"
      },
      "execution_count": 3,
      "outputs": [
        {
          "output_type": "stream",
          "name": "stdout",
          "text": [
            "5\n",
            "37\n"
          ]
        }
      ]
    },
    {
      "cell_type": "markdown",
      "source": [
        "### Challenge\n",
        "If the user rolls a six, tell them that they're a winner and get a prize. If they didn't roll a 6, display that they're a loser."
      ],
      "metadata": {
        "id": "iojv_AVFXHrQ"
      }
    },
    {
      "cell_type": "code",
      "source": [
        "# assign the die.roll() to variable so that it returns random integer\n",
        "x = die.roll()\n",
        "\n",
        "# if the result of the random die roll is 6, then this statement\n",
        "# use f-strings to include the results of the roll in the printed statemments\n",
        "if x == 6:\n",
        "    print(f\"You won a great prize for rolling {x}! Yayy\")\n",
        "\n",
        "# if the result of the random die roll is NOT 6, then that statement\n",
        "else:\n",
        "    print(f\"Sorry, you lost because you rolled {x}. whomp, whomp, whooooooomp\")"
      ],
      "metadata": {
        "colab": {
          "base_uri": "https://localhost:8080/"
        },
        "id": "dS3IQeRjXFTo",
        "outputId": "834ddd04-c2d2-4a60-8b23-8e697e2315c5"
      },
      "execution_count": 4,
      "outputs": [
        {
          "output_type": "stream",
          "name": "stdout",
          "text": [
            "Sorry, you lost because you rolled 3. whomp, whomp, whooooooomp\n"
          ]
        }
      ]
    },
    {
      "cell_type": "markdown",
      "source": [
        "### Creating a New Class\n",
        "- Let's call our class DiceSim. As we mentioned, what we want this class to do is to roll our die x amount of times, and print the results. Thinking this through, we will likely want two methods as part of this class: \\\n",
        "-- A method that utilizes our roll() method we've already created above and runs it 1000 times, instead of just once.\\\n",
        "-- A method that analyzes the results of those 1000 rolls."
      ],
      "metadata": {
        "id": "1nCfXcaMXOuJ"
      }
    },
    {
      "cell_type": "code",
      "source": [
        "# use \"\"\"\" to create a multi-line comment = don't have to use # for each comment line\n",
        "class DiceSim:\n",
        "    \"\"\"Rolls our dice x amount of times and prints the results\n",
        "\n",
        "    Parameters:\n",
        "        self\n",
        "        dice_method: The dice method that we'll pass in\n",
        "        iterations: The number of times to run the sim\"\"\"\n",
        "\n",
        "    def __init__(self, dice_method, iterations):\n",
        "        # setup initial parameters\n",
        "        self.dice_method = dice_method\n",
        "        self.iterations = iterations\n",
        "        # create new paramters\n",
        "        self.results = [] # will store results of 1K roll in empty list\n",
        "        self.run() #will get the simulation to start\n",
        "\n",
        "\n",
        "    # create methods - use for loop\n",
        "    # range is built-in Python function to convert to range instead of 1 static #\n",
        "    def run(self):\n",
        "        for i in range(self.iterations): # self.iterations will be # of rolls = 1000\n",
        "            result = self.dice_method() # for each roll, store result in variable result (result 1-6)\n",
        "            self.results.append(result) # every roll will be added (appended) to results list (will have 1000 entries)\n",
        "        self.report() # create method that automatically runs and analyzes it - must be OUTSIDE of for loop\n",
        "\n",
        "    # analyze and report the results from run()\n",
        "    def report(self):\n",
        "        # set the parameters all using self.results\n",
        "        max_num = max(self.results) # report max # w/ max function (6)\n",
        "        min_num = min(self.results) # report min # w/ min function (1)\n",
        "        # Use the statistics (stats) library that we imported\n",
        "        mean = stats.mean(self.results) # report mean using mean function\n",
        "        median = stats.median(self.results) # report median using median function\n",
        "        mode = stats.mode(self.results) # report mode using mode function\n",
        "        std_dev = stats.stdev(self.results) # report SD using stdev function\n",
        "        variance = stats.variance(self.results) # report variance using variance function\n",
        "        # print multi-line f-string using \"\"\"\n",
        "        print(\n",
        "            f\"\"\"Number of Simulations: {self.iterations}\n",
        "            Max: {max_num}\n",
        "            Min: {min_num}\n",
        "            Mean: {mean}\n",
        "            Median: {median}\n",
        "            Mode: {mode}\n",
        "            Standard Deviation: {std_dev}\n",
        "            Variance: {variance}\"\"\"\n",
        "        )"
      ],
      "metadata": {
        "id": "EGynls6nXLD8"
      },
      "execution_count": 5,
      "outputs": []
    },
    {
      "cell_type": "code",
      "source": [
        "# create new object (instance) of simulator class - can create as many as you want\n",
        "die1 = Die(6)\n",
        "# create new sim object w/ parameters (roll) method & iterations)\n",
        "sim = DiceSim(die1.roll, 1000)\n",
        "\n",
        "# created 2nd object (must relabel the variables)\n",
        "die2 = Die(40)\n",
        "sim2 = DiceSim(die2.roll, 8000)\n",
        "\n",
        "# created 3rd object (relabel variables)\n",
        "die3 = Die(137)\n",
        "sim3 = DiceSim(die3.roll, 6341)"
      ],
      "metadata": {
        "colab": {
          "base_uri": "https://localhost:8080/"
        },
        "id": "sTU9yFlGXSDx",
        "outputId": "dd3e7bfb-d5e4-4842-f433-8b884ac61883"
      },
      "execution_count": 7,
      "outputs": [
        {
          "output_type": "stream",
          "name": "stdout",
          "text": [
            "Number of Simulations: 1000\n",
            "            Max: 6\n",
            "            Min: 1\n",
            "            Mean: 3.438\n",
            "            Median: 3.0\n",
            "            Mode: 1\n",
            "            Standard Deviation: 1.7300720069260553\n",
            "            Variance: 2.9931491491491493\n",
            "Number of Simulations: 8000\n",
            "            Max: 40\n",
            "            Min: 1\n",
            "            Mean: 20.44175\n",
            "            Median: 20.0\n",
            "            Mode: 32\n",
            "            Standard Deviation: 11.491741141002372\n",
            "            Variance: 132.06011445180647\n",
            "Number of Simulations: 6341\n",
            "            Max: 137\n",
            "            Min: 1\n",
            "            Mean: 69.29490616621985\n",
            "            Median: 70\n",
            "            Mode: 74\n",
            "            Standard Deviation: 39.69921716021537\n",
            "            Variance: 1576.0278431339384\n"
          ]
        }
      ]
    }
  ]
}