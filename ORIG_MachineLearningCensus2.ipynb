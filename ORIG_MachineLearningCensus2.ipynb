{
  "cells": [
    {
      "cell_type": "markdown",
      "metadata": {
        "id": "view-in-github",
        "colab_type": "text"
      },
      "source": [
        "<a href=\"https://colab.research.google.com/github/550tealeaves/DATA-70500-working-with-data/blob/main/ORIG_MachineLearningCensus2.ipynb\" target=\"_parent\"><img src=\"https://colab.research.google.com/assets/colab-badge.svg\" alt=\"Open In Colab\"/></a>"
      ]
    },
    {
      "cell_type": "markdown",
      "source": [
        "## Machine Learning with Categorical Data: Multinomial Models\n",
        "\n",
        "Building on the work we did in part I on maching learning models with categorical Census data, we'll look at a few techniques for models when the criterion variable (the dependent variable in the model, usually designated as Y) has more than two categories."
      ],
      "metadata": {
        "id": "v0qV9O2n6BZV"
      }
    },
    {
      "cell_type": "code",
      "execution_count": null,
      "metadata": {
        "id": "oYoj9kdf0tKl"
      },
      "outputs": [],
      "source": [
        "import warnings\n",
        "warnings.filterwarnings('ignore')"
      ]
    },
    {
      "cell_type": "code",
      "execution_count": null,
      "metadata": {
        "colab": {
          "base_uri": "https://localhost:8080/"
        },
        "id": "xAtJaUggzW_V",
        "outputId": "e0ec02b3-2e75-47f6-ccdf-6b3778bffe4d"
      },
      "outputs": [
        {
          "output_type": "stream",
          "name": "stdout",
          "text": [
            "Collecting pyreadstat\n",
            "  Downloading pyreadstat-1.2.8-cp310-cp310-manylinux_2_17_x86_64.manylinux2014_x86_64.whl.metadata (1.0 kB)\n",
            "Requirement already satisfied: pandas>=1.2.0 in /usr/local/lib/python3.10/dist-packages (from pyreadstat) (2.2.2)\n",
            "Requirement already satisfied: numpy>=1.22.4 in /usr/local/lib/python3.10/dist-packages (from pandas>=1.2.0->pyreadstat) (1.26.4)\n",
            "Requirement already satisfied: python-dateutil>=2.8.2 in /usr/local/lib/python3.10/dist-packages (from pandas>=1.2.0->pyreadstat) (2.8.2)\n",
            "Requirement already satisfied: pytz>=2020.1 in /usr/local/lib/python3.10/dist-packages (from pandas>=1.2.0->pyreadstat) (2024.2)\n",
            "Requirement already satisfied: tzdata>=2022.7 in /usr/local/lib/python3.10/dist-packages (from pandas>=1.2.0->pyreadstat) (2024.2)\n",
            "Requirement already satisfied: six>=1.5 in /usr/local/lib/python3.10/dist-packages (from python-dateutil>=2.8.2->pandas>=1.2.0->pyreadstat) (1.16.0)\n",
            "Downloading pyreadstat-1.2.8-cp310-cp310-manylinux_2_17_x86_64.manylinux2014_x86_64.whl (2.8 MB)\n",
            "\u001b[2K   \u001b[90m━━━━━━━━━━━━━━━━━━━━━━━━━━━━━━━━━━━━━━━━\u001b[0m \u001b[32m2.8/2.8 MB\u001b[0m \u001b[31m24.6 MB/s\u001b[0m eta \u001b[36m0:00:00\u001b[0m\n",
            "\u001b[?25hInstalling collected packages: pyreadstat\n",
            "Successfully installed pyreadstat-1.2.8\n",
            "Collecting researchpy\n",
            "  Downloading researchpy-0.3.6-py3-none-any.whl.metadata (1.2 kB)\n",
            "Requirement already satisfied: scipy in /usr/local/lib/python3.10/dist-packages (from researchpy) (1.13.1)\n",
            "Requirement already satisfied: numpy in /usr/local/lib/python3.10/dist-packages (from researchpy) (1.26.4)\n",
            "Requirement already satisfied: pandas in /usr/local/lib/python3.10/dist-packages (from researchpy) (2.2.2)\n",
            "Requirement already satisfied: statsmodels in /usr/local/lib/python3.10/dist-packages (from researchpy) (0.14.4)\n",
            "Requirement already satisfied: patsy in /usr/local/lib/python3.10/dist-packages (from researchpy) (1.0.1)\n",
            "Requirement already satisfied: python-dateutil>=2.8.2 in /usr/local/lib/python3.10/dist-packages (from pandas->researchpy) (2.8.2)\n",
            "Requirement already satisfied: pytz>=2020.1 in /usr/local/lib/python3.10/dist-packages (from pandas->researchpy) (2024.2)\n",
            "Requirement already satisfied: tzdata>=2022.7 in /usr/local/lib/python3.10/dist-packages (from pandas->researchpy) (2024.2)\n",
            "Requirement already satisfied: packaging>=21.3 in /usr/local/lib/python3.10/dist-packages (from statsmodels->researchpy) (24.2)\n",
            "Requirement already satisfied: six>=1.5 in /usr/local/lib/python3.10/dist-packages (from python-dateutil>=2.8.2->pandas->researchpy) (1.16.0)\n",
            "Downloading researchpy-0.3.6-py3-none-any.whl (34 kB)\n",
            "Installing collected packages: researchpy\n",
            "Successfully installed researchpy-0.3.6\n"
          ]
        }
      ],
      "source": [
        "# We need to install these libraries to use some of the tools below.\n",
        "!pip install pyreadstat\n",
        "!pip install researchpy\n"
      ]
    },
    {
      "cell_type": "code",
      "execution_count": null,
      "metadata": {
        "id": "b6kTWy09caYT"
      },
      "outputs": [],
      "source": [
        "# Code block 1: importing libraries\n",
        "import pandas as pd\n",
        "import numpy as np\n",
        "import researchpy as rp\n",
        "from pandas.api.types import CategoricalDtype\n",
        "import seaborn as sb\n",
        "import matplotlib.pyplot as plt\n",
        "from scipy.stats import fisher_exact\n",
        "from scipy.stats.contingency import odds_ratio\n",
        "import statsmodels.api as sm\n",
        "import gzip\n"
      ]
    },
    {
      "cell_type": "code",
      "execution_count": null,
      "metadata": {
        "id": "OZ9Y6fu_PjIC"
      },
      "outputs": [],
      "source": [
        "# Because this Census data file is larger than ones we've used, we'll read the file\n",
        "# as a compressed file using the gzip library.\n",
        "\n",
        "census_df = pd.read_stata(gzip.open('/content/drive/MyDrive/Data/usa_00022.dta.gz', 'rb'))"
      ]
    },
    {
      "cell_type": "code",
      "execution_count": null,
      "metadata": {
        "colab": {
          "base_uri": "https://localhost:8080/"
        },
        "id": "cOksGx-_hyi8",
        "outputId": "d6708f22-379a-4d8a-e013-7bda3e1d2b64"
      },
      "outputs": [
        {
          "output_type": "stream",
          "name": "stdout",
          "text": [
            "<class 'pandas.core.frame.DataFrame'>\n",
            "RangeIndex: 3405809 entries, 0 to 3405808\n",
            "Data columns (total 49 columns):\n",
            " #   Column      Dtype   \n",
            "---  ------      -----   \n",
            " 0   year        category\n",
            " 1   sample      category\n",
            " 2   serial      int32   \n",
            " 3   cbserial    float64 \n",
            " 4   hhwt        int16   \n",
            " 5   cluster     float64 \n",
            " 6   region      category\n",
            " 7   statefip    category\n",
            " 8   metro       category\n",
            " 9   strata      int32   \n",
            " 10  gq          category\n",
            " 11  ownershp    category\n",
            " 12  ownershpd   category\n",
            " 13  mortgage    category\n",
            " 14  mortamt1    category\n",
            " 15  rentgrs     category\n",
            " 16  hhincome    int32   \n",
            " 17  rooms       category\n",
            " 18  cinethh     category\n",
            " 19  cihispeed   category\n",
            " 20  coupletype  category\n",
            " 21  ssmc        category\n",
            " 22  nfams       category\n",
            " 23  multgen     category\n",
            " 24  multgend    category\n",
            " 25  pernum      int8    \n",
            " 26  perwt       int16   \n",
            " 27  sex         category\n",
            " 28  age         category\n",
            " 29  marst       category\n",
            " 30  hispan      category\n",
            " 31  hispand     category\n",
            " 32  racamind    category\n",
            " 33  racasian    category\n",
            " 34  racblk      category\n",
            " 35  racpacis    category\n",
            " 36  racwht      category\n",
            " 37  educ        category\n",
            " 38  educd       category\n",
            " 39  empstat     category\n",
            " 40  empstatd    category\n",
            " 41  labforce    category\n",
            " 42  occ2010     category\n",
            " 43  uhrswork    category\n",
            " 44  inctot      int32   \n",
            " 45  ftotinc     int32   \n",
            " 46  poverty     int16   \n",
            " 47  hwsei       category\n",
            " 48  trantime    int16   \n",
            "dtypes: category(37), float64(2), int16(4), int32(5), int8(1)\n",
            "memory usage: 279.6 MB\n"
          ]
        }
      ],
      "source": [
        "census_df.info('verbose')"
      ]
    },
    {
      "cell_type": "code",
      "source": [
        "# We'll drop the cases where we don't know the employment status\n",
        "\n",
        "census_df = census_df.loc[lambda census_df: census_df['empstat'] != 'n/a', :]"
      ],
      "metadata": {
        "id": "z0Kd7B022uvs"
      },
      "execution_count": null,
      "outputs": []
    },
    {
      "cell_type": "code",
      "execution_count": null,
      "metadata": {
        "colab": {
          "base_uri": "https://localhost:8080/",
          "height": 241
        },
        "id": "x8yhPw_FjJnk",
        "outputId": "35d2ebba-723f-4515-9a2d-aa4bc08cfcdd"
      },
      "outputs": [
        {
          "output_type": "execute_result",
          "data": {
            "text/plain": [
              "empstat\n",
              "employed              1598838\n",
              "not in labor force    1181150\n",
              "unemployed              67657\n",
              "n/a                         0\n",
              "Name: count, dtype: int64"
            ],
            "text/html": [
              "<div>\n",
              "<style scoped>\n",
              "    .dataframe tbody tr th:only-of-type {\n",
              "        vertical-align: middle;\n",
              "    }\n",
              "\n",
              "    .dataframe tbody tr th {\n",
              "        vertical-align: top;\n",
              "    }\n",
              "\n",
              "    .dataframe thead th {\n",
              "        text-align: right;\n",
              "    }\n",
              "</style>\n",
              "<table border=\"1\" class=\"dataframe\">\n",
              "  <thead>\n",
              "    <tr style=\"text-align: right;\">\n",
              "      <th></th>\n",
              "      <th>count</th>\n",
              "    </tr>\n",
              "    <tr>\n",
              "      <th>empstat</th>\n",
              "      <th></th>\n",
              "    </tr>\n",
              "  </thead>\n",
              "  <tbody>\n",
              "    <tr>\n",
              "      <th>employed</th>\n",
              "      <td>1598838</td>\n",
              "    </tr>\n",
              "    <tr>\n",
              "      <th>not in labor force</th>\n",
              "      <td>1181150</td>\n",
              "    </tr>\n",
              "    <tr>\n",
              "      <th>unemployed</th>\n",
              "      <td>67657</td>\n",
              "    </tr>\n",
              "    <tr>\n",
              "      <th>n/a</th>\n",
              "      <td>0</td>\n",
              "    </tr>\n",
              "  </tbody>\n",
              "</table>\n",
              "</div><br><label><b>dtype:</b> int64</label>"
            ]
          },
          "metadata": {},
          "execution_count": 11
        }
      ],
      "source": [
        "census_df['empstat'].value_counts()"
      ]
    },
    {
      "cell_type": "markdown",
      "source": [
        "Our criterion has three values: employed, not in labor force, and unemployed. The criterion is unbalanced, in that one category (unemployed) is much smaller than the others."
      ],
      "metadata": {
        "id": "LmGvPd6s6ib-"
      }
    },
    {
      "cell_type": "code",
      "execution_count": null,
      "metadata": {
        "id": "7yN0qm0wcpUY"
      },
      "outputs": [],
      "source": [
        "# Here we're going to assign missing values to the category 'n/a' for all of our\n",
        "# potential features (independent variables). This only works if the missing category\n",
        "# is exactly 'n/a'. For other missing values, you have to do the modification separately.\n",
        "\n",
        "category_list = ['region', 'ownershp', 'coupletype', 'multgen', 'sex', 'marst', 'hispan',\n",
        "       'racamind', 'racasian', 'racblk', 'racpacis', 'racwht', 'educ']\n",
        "\n",
        "for item in category_list:\n",
        "    census_df[item] = np.where(census_df[item] == 'n/a', np.nan, census_df[item])\n"
      ]
    },
    {
      "cell_type": "code",
      "execution_count": null,
      "metadata": {
        "colab": {
          "base_uri": "https://localhost:8080/",
          "height": 178
        },
        "id": "-FHZVG_RYJ3J",
        "outputId": "4ce350d4-ae68-4fbf-9288-2aa2006c19b1"
      },
      "outputs": [
        {
          "output_type": "execute_result",
          "data": {
            "text/plain": [
              "south\n",
              "0    1759528\n",
              "1    1088117\n",
              "Name: count, dtype: int64"
            ],
            "text/html": [
              "<div>\n",
              "<style scoped>\n",
              "    .dataframe tbody tr th:only-of-type {\n",
              "        vertical-align: middle;\n",
              "    }\n",
              "\n",
              "    .dataframe tbody tr th {\n",
              "        vertical-align: top;\n",
              "    }\n",
              "\n",
              "    .dataframe thead th {\n",
              "        text-align: right;\n",
              "    }\n",
              "</style>\n",
              "<table border=\"1\" class=\"dataframe\">\n",
              "  <thead>\n",
              "    <tr style=\"text-align: right;\">\n",
              "      <th></th>\n",
              "      <th>count</th>\n",
              "    </tr>\n",
              "    <tr>\n",
              "      <th>south</th>\n",
              "      <th></th>\n",
              "    </tr>\n",
              "  </thead>\n",
              "  <tbody>\n",
              "    <tr>\n",
              "      <th>0</th>\n",
              "      <td>1759528</td>\n",
              "    </tr>\n",
              "    <tr>\n",
              "      <th>1</th>\n",
              "      <td>1088117</td>\n",
              "    </tr>\n",
              "  </tbody>\n",
              "</table>\n",
              "</div><br><label><b>dtype:</b> int64</label>"
            ]
          },
          "metadata": {},
          "execution_count": 13
        }
      ],
      "source": [
        "census_df['south'] = np.where(census_df['region'].isin(['south atlantic division', 'west south central div', 'east south central div']), 1, 0)\n",
        "census_df['south'].value_counts()"
      ]
    },
    {
      "cell_type": "code",
      "execution_count": null,
      "metadata": {
        "colab": {
          "base_uri": "https://localhost:8080/",
          "height": 210
        },
        "id": "kI5SUHtOc-BZ",
        "outputId": "8ca65dbe-a0c1-465b-b7bc-1d3fb65073fc"
      },
      "outputs": [
        {
          "output_type": "execute_result",
          "data": {
            "text/plain": [
              "multgen\n",
              "1 generation      1323383\n",
              "2 generations     1163351\n",
              "3+ generations     187316\n",
              "Name: count, dtype: int64"
            ],
            "text/html": [
              "<div>\n",
              "<style scoped>\n",
              "    .dataframe tbody tr th:only-of-type {\n",
              "        vertical-align: middle;\n",
              "    }\n",
              "\n",
              "    .dataframe tbody tr th {\n",
              "        vertical-align: top;\n",
              "    }\n",
              "\n",
              "    .dataframe thead th {\n",
              "        text-align: right;\n",
              "    }\n",
              "</style>\n",
              "<table border=\"1\" class=\"dataframe\">\n",
              "  <thead>\n",
              "    <tr style=\"text-align: right;\">\n",
              "      <th></th>\n",
              "      <th>count</th>\n",
              "    </tr>\n",
              "    <tr>\n",
              "      <th>multgen</th>\n",
              "      <th></th>\n",
              "    </tr>\n",
              "  </thead>\n",
              "  <tbody>\n",
              "    <tr>\n",
              "      <th>1 generation</th>\n",
              "      <td>1323383</td>\n",
              "    </tr>\n",
              "    <tr>\n",
              "      <th>2 generations</th>\n",
              "      <td>1163351</td>\n",
              "    </tr>\n",
              "    <tr>\n",
              "      <th>3+ generations</th>\n",
              "      <td>187316</td>\n",
              "    </tr>\n",
              "  </tbody>\n",
              "</table>\n",
              "</div><br><label><b>dtype:</b> int64</label>"
            ]
          },
          "metadata": {},
          "execution_count": 14
        }
      ],
      "source": [
        "census_df['multgen'].value_counts()"
      ]
    },
    {
      "cell_type": "code",
      "execution_count": null,
      "metadata": {
        "colab": {
          "base_uri": "https://localhost:8080/",
          "height": 178
        },
        "id": "QfARnlbUeXWe",
        "outputId": "a12ec402-a43e-4948-f5a3-f0b7461ed7d3"
      },
      "outputs": [
        {
          "output_type": "execute_result",
          "data": {
            "text/plain": [
              "mult_gen_hh\n",
              "1    1524262\n",
              "0    1323383\n",
              "Name: count, dtype: int64"
            ],
            "text/html": [
              "<div>\n",
              "<style scoped>\n",
              "    .dataframe tbody tr th:only-of-type {\n",
              "        vertical-align: middle;\n",
              "    }\n",
              "\n",
              "    .dataframe tbody tr th {\n",
              "        vertical-align: top;\n",
              "    }\n",
              "\n",
              "    .dataframe thead th {\n",
              "        text-align: right;\n",
              "    }\n",
              "</style>\n",
              "<table border=\"1\" class=\"dataframe\">\n",
              "  <thead>\n",
              "    <tr style=\"text-align: right;\">\n",
              "      <th></th>\n",
              "      <th>count</th>\n",
              "    </tr>\n",
              "    <tr>\n",
              "      <th>mult_gen_hh</th>\n",
              "      <th></th>\n",
              "    </tr>\n",
              "  </thead>\n",
              "  <tbody>\n",
              "    <tr>\n",
              "      <th>1</th>\n",
              "      <td>1524262</td>\n",
              "    </tr>\n",
              "    <tr>\n",
              "      <th>0</th>\n",
              "      <td>1323383</td>\n",
              "    </tr>\n",
              "  </tbody>\n",
              "</table>\n",
              "</div><br><label><b>dtype:</b> int64</label>"
            ]
          },
          "metadata": {},
          "execution_count": 15
        }
      ],
      "source": [
        "census_df['mult_gen_hh'] = np.where(census_df['multgen'] != '1 generation', 1, 0)\n",
        "census_df['mult_gen_hh'].value_counts()"
      ]
    },
    {
      "cell_type": "code",
      "execution_count": null,
      "metadata": {
        "colab": {
          "base_uri": "https://localhost:8080/",
          "height": 178
        },
        "id": "wve2hpVaa0Yr",
        "outputId": "ec48fbed-6c8d-4d69-c983-5bc95a9df782"
      },
      "outputs": [
        {
          "output_type": "execute_result",
          "data": {
            "text/plain": [
              "own_home\n",
              "1    2034198\n",
              "0     813447\n",
              "Name: count, dtype: int64"
            ],
            "text/html": [
              "<div>\n",
              "<style scoped>\n",
              "    .dataframe tbody tr th:only-of-type {\n",
              "        vertical-align: middle;\n",
              "    }\n",
              "\n",
              "    .dataframe tbody tr th {\n",
              "        vertical-align: top;\n",
              "    }\n",
              "\n",
              "    .dataframe thead th {\n",
              "        text-align: right;\n",
              "    }\n",
              "</style>\n",
              "<table border=\"1\" class=\"dataframe\">\n",
              "  <thead>\n",
              "    <tr style=\"text-align: right;\">\n",
              "      <th></th>\n",
              "      <th>count</th>\n",
              "    </tr>\n",
              "    <tr>\n",
              "      <th>own_home</th>\n",
              "      <th></th>\n",
              "    </tr>\n",
              "  </thead>\n",
              "  <tbody>\n",
              "    <tr>\n",
              "      <th>1</th>\n",
              "      <td>2034198</td>\n",
              "    </tr>\n",
              "    <tr>\n",
              "      <th>0</th>\n",
              "      <td>813447</td>\n",
              "    </tr>\n",
              "  </tbody>\n",
              "</table>\n",
              "</div><br><label><b>dtype:</b> int64</label>"
            ]
          },
          "metadata": {},
          "execution_count": 16
        }
      ],
      "source": [
        "census_df['own_home'] = np.where(census_df['ownershp'] == 'owned or being bought (loan)', 1, 0)\n",
        "census_df['own_home'].value_counts()"
      ]
    },
    {
      "cell_type": "code",
      "execution_count": null,
      "metadata": {
        "colab": {
          "base_uri": "https://localhost:8080/",
          "height": 178
        },
        "id": "c5_RGBpJblw6",
        "outputId": "a2bb536a-479a-4614-f0ea-ab0e1674709d"
      },
      "outputs": [
        {
          "output_type": "execute_result",
          "data": {
            "text/plain": [
              "same_sex_cpl\n",
              "0    2817123\n",
              "1      30522\n",
              "Name: count, dtype: int64"
            ],
            "text/html": [
              "<div>\n",
              "<style scoped>\n",
              "    .dataframe tbody tr th:only-of-type {\n",
              "        vertical-align: middle;\n",
              "    }\n",
              "\n",
              "    .dataframe tbody tr th {\n",
              "        vertical-align: top;\n",
              "    }\n",
              "\n",
              "    .dataframe thead th {\n",
              "        text-align: right;\n",
              "    }\n",
              "</style>\n",
              "<table border=\"1\" class=\"dataframe\">\n",
              "  <thead>\n",
              "    <tr style=\"text-align: right;\">\n",
              "      <th></th>\n",
              "      <th>count</th>\n",
              "    </tr>\n",
              "    <tr>\n",
              "      <th>same_sex_cpl</th>\n",
              "      <th></th>\n",
              "    </tr>\n",
              "  </thead>\n",
              "  <tbody>\n",
              "    <tr>\n",
              "      <th>0</th>\n",
              "      <td>2817123</td>\n",
              "    </tr>\n",
              "    <tr>\n",
              "      <th>1</th>\n",
              "      <td>30522</td>\n",
              "    </tr>\n",
              "  </tbody>\n",
              "</table>\n",
              "</div><br><label><b>dtype:</b> int64</label>"
            ]
          },
          "metadata": {},
          "execution_count": 17
        }
      ],
      "source": [
        "census_df['same_sex_cpl'] = np.where(census_df['coupletype'].isin(['same-sex husband/wife/spouse household', 'same-sex unmarried partner household']), 1, 0)\n",
        "census_df['same_sex_cpl'].value_counts()"
      ]
    },
    {
      "cell_type": "code",
      "execution_count": null,
      "metadata": {
        "colab": {
          "base_uri": "https://localhost:8080/",
          "height": 178
        },
        "id": "tOSqtIDcfE1B",
        "outputId": "fa851fb3-b8c3-4a2b-b677-3635ee1918c3"
      },
      "outputs": [
        {
          "output_type": "execute_result",
          "data": {
            "text/plain": [
              "female\n",
              "1    1462225\n",
              "0    1385420\n",
              "Name: count, dtype: int64"
            ],
            "text/html": [
              "<div>\n",
              "<style scoped>\n",
              "    .dataframe tbody tr th:only-of-type {\n",
              "        vertical-align: middle;\n",
              "    }\n",
              "\n",
              "    .dataframe tbody tr th {\n",
              "        vertical-align: top;\n",
              "    }\n",
              "\n",
              "    .dataframe thead th {\n",
              "        text-align: right;\n",
              "    }\n",
              "</style>\n",
              "<table border=\"1\" class=\"dataframe\">\n",
              "  <thead>\n",
              "    <tr style=\"text-align: right;\">\n",
              "      <th></th>\n",
              "      <th>count</th>\n",
              "    </tr>\n",
              "    <tr>\n",
              "      <th>female</th>\n",
              "      <th></th>\n",
              "    </tr>\n",
              "  </thead>\n",
              "  <tbody>\n",
              "    <tr>\n",
              "      <th>1</th>\n",
              "      <td>1462225</td>\n",
              "    </tr>\n",
              "    <tr>\n",
              "      <th>0</th>\n",
              "      <td>1385420</td>\n",
              "    </tr>\n",
              "  </tbody>\n",
              "</table>\n",
              "</div><br><label><b>dtype:</b> int64</label>"
            ]
          },
          "metadata": {},
          "execution_count": 18
        }
      ],
      "source": [
        "census_df['female'] = np.where(census_df['sex'] == 'female', 1, 0)\n",
        "census_df['female'].value_counts()"
      ]
    },
    {
      "cell_type": "code",
      "execution_count": null,
      "metadata": {
        "colab": {
          "base_uri": "https://localhost:8080/",
          "height": 178
        },
        "id": "xfZJzQX9fgIh",
        "outputId": "88fdb326-c8fb-491a-c4b4-9f34cbe0ea07"
      },
      "outputs": [
        {
          "output_type": "execute_result",
          "data": {
            "text/plain": [
              "rachisp\n",
              "0    2434892\n",
              "1     412753\n",
              "Name: count, dtype: int64"
            ],
            "text/html": [
              "<div>\n",
              "<style scoped>\n",
              "    .dataframe tbody tr th:only-of-type {\n",
              "        vertical-align: middle;\n",
              "    }\n",
              "\n",
              "    .dataframe tbody tr th {\n",
              "        vertical-align: top;\n",
              "    }\n",
              "\n",
              "    .dataframe thead th {\n",
              "        text-align: right;\n",
              "    }\n",
              "</style>\n",
              "<table border=\"1\" class=\"dataframe\">\n",
              "  <thead>\n",
              "    <tr style=\"text-align: right;\">\n",
              "      <th></th>\n",
              "      <th>count</th>\n",
              "    </tr>\n",
              "    <tr>\n",
              "      <th>rachisp</th>\n",
              "      <th></th>\n",
              "    </tr>\n",
              "  </thead>\n",
              "  <tbody>\n",
              "    <tr>\n",
              "      <th>0</th>\n",
              "      <td>2434892</td>\n",
              "    </tr>\n",
              "    <tr>\n",
              "      <th>1</th>\n",
              "      <td>412753</td>\n",
              "    </tr>\n",
              "  </tbody>\n",
              "</table>\n",
              "</div><br><label><b>dtype:</b> int64</label>"
            ]
          },
          "metadata": {},
          "execution_count": 19
        }
      ],
      "source": [
        "census_df['rachisp'] = np.where(census_df['hispan'] != 'not hispanic', 1, 0)\n",
        "census_df['rachisp'].value_counts()"
      ]
    },
    {
      "cell_type": "code",
      "execution_count": null,
      "metadata": {
        "colab": {
          "base_uri": "https://localhost:8080/",
          "height": 178
        },
        "id": "QbV8v9_2gHh_",
        "outputId": "fbf079db-59ed-465e-ae8d-3428fae5beb3"
      },
      "outputs": [
        {
          "output_type": "execute_result",
          "data": {
            "text/plain": [
              "currently_married\n",
              "1    1467696\n",
              "0    1379949\n",
              "Name: count, dtype: int64"
            ],
            "text/html": [
              "<div>\n",
              "<style scoped>\n",
              "    .dataframe tbody tr th:only-of-type {\n",
              "        vertical-align: middle;\n",
              "    }\n",
              "\n",
              "    .dataframe tbody tr th {\n",
              "        vertical-align: top;\n",
              "    }\n",
              "\n",
              "    .dataframe thead th {\n",
              "        text-align: right;\n",
              "    }\n",
              "</style>\n",
              "<table border=\"1\" class=\"dataframe\">\n",
              "  <thead>\n",
              "    <tr style=\"text-align: right;\">\n",
              "      <th></th>\n",
              "      <th>count</th>\n",
              "    </tr>\n",
              "    <tr>\n",
              "      <th>currently_married</th>\n",
              "      <th></th>\n",
              "    </tr>\n",
              "  </thead>\n",
              "  <tbody>\n",
              "    <tr>\n",
              "      <th>1</th>\n",
              "      <td>1467696</td>\n",
              "    </tr>\n",
              "    <tr>\n",
              "      <th>0</th>\n",
              "      <td>1379949</td>\n",
              "    </tr>\n",
              "  </tbody>\n",
              "</table>\n",
              "</div><br><label><b>dtype:</b> int64</label>"
            ]
          },
          "metadata": {},
          "execution_count": 20
        }
      ],
      "source": [
        "census_df['currently_married'] = np.where(census_df['marst'].isin(['married, spouse present', 'married, spouse absent']), 1, 0)\n",
        "census_df['currently_married'].value_counts()"
      ]
    },
    {
      "cell_type": "code",
      "execution_count": null,
      "metadata": {
        "colab": {
          "base_uri": "https://localhost:8080/",
          "height": 178
        },
        "id": "xGEdV1ofU6Rh",
        "outputId": "c9432338-4a37-43ce-c989-7a6e679aeaa3"
      },
      "outputs": [
        {
          "output_type": "execute_result",
          "data": {
            "text/plain": [
              "racblk\n",
              "0    2562964\n",
              "1     284681\n",
              "Name: count, dtype: int64"
            ],
            "text/html": [
              "<div>\n",
              "<style scoped>\n",
              "    .dataframe tbody tr th:only-of-type {\n",
              "        vertical-align: middle;\n",
              "    }\n",
              "\n",
              "    .dataframe tbody tr th {\n",
              "        vertical-align: top;\n",
              "    }\n",
              "\n",
              "    .dataframe thead th {\n",
              "        text-align: right;\n",
              "    }\n",
              "</style>\n",
              "<table border=\"1\" class=\"dataframe\">\n",
              "  <thead>\n",
              "    <tr style=\"text-align: right;\">\n",
              "      <th></th>\n",
              "      <th>count</th>\n",
              "    </tr>\n",
              "    <tr>\n",
              "      <th>racblk</th>\n",
              "      <th></th>\n",
              "    </tr>\n",
              "  </thead>\n",
              "  <tbody>\n",
              "    <tr>\n",
              "      <th>0</th>\n",
              "      <td>2562964</td>\n",
              "    </tr>\n",
              "    <tr>\n",
              "      <th>1</th>\n",
              "      <td>284681</td>\n",
              "    </tr>\n",
              "  </tbody>\n",
              "</table>\n",
              "</div><br><label><b>dtype:</b> int64</label>"
            ]
          },
          "metadata": {},
          "execution_count": 21
        }
      ],
      "source": [
        "category_list = ['racamind', 'racasian', 'racblk', 'racpacis', 'racwht']\n",
        "\n",
        "for item in category_list:\n",
        "    census_df[item] = np.where(census_df[item] == 'yes', 1, 0)\n",
        "\n",
        "census_df['racblk'].value_counts()"
      ]
    },
    {
      "cell_type": "code",
      "execution_count": null,
      "metadata": {
        "colab": {
          "base_uri": "https://localhost:8080/",
          "height": 178
        },
        "id": "QmeTFouLhBpm",
        "outputId": "853816f9-342a-4cb9-a163-adb79e632e32"
      },
      "outputs": [
        {
          "output_type": "execute_result",
          "data": {
            "text/plain": [
              "some_college\n",
              "1    1540404\n",
              "0    1307241\n",
              "Name: count, dtype: int64"
            ],
            "text/html": [
              "<div>\n",
              "<style scoped>\n",
              "    .dataframe tbody tr th:only-of-type {\n",
              "        vertical-align: middle;\n",
              "    }\n",
              "\n",
              "    .dataframe tbody tr th {\n",
              "        vertical-align: top;\n",
              "    }\n",
              "\n",
              "    .dataframe thead th {\n",
              "        text-align: right;\n",
              "    }\n",
              "</style>\n",
              "<table border=\"1\" class=\"dataframe\">\n",
              "  <thead>\n",
              "    <tr style=\"text-align: right;\">\n",
              "      <th></th>\n",
              "      <th>count</th>\n",
              "    </tr>\n",
              "    <tr>\n",
              "      <th>some_college</th>\n",
              "      <th></th>\n",
              "    </tr>\n",
              "  </thead>\n",
              "  <tbody>\n",
              "    <tr>\n",
              "      <th>1</th>\n",
              "      <td>1540404</td>\n",
              "    </tr>\n",
              "    <tr>\n",
              "      <th>0</th>\n",
              "      <td>1307241</td>\n",
              "    </tr>\n",
              "  </tbody>\n",
              "</table>\n",
              "</div><br><label><b>dtype:</b> int64</label>"
            ]
          },
          "metadata": {},
          "execution_count": 22
        }
      ],
      "source": [
        "census_df['some_college'] = np.where(census_df['educ'].isin(['1 year of college', '2 years of college', '4 years of college', '5+ years of college']), 1, 0)\n",
        "census_df['some_college'].value_counts()"
      ]
    },
    {
      "cell_type": "markdown",
      "source": [
        "Before we investigate the parameters of the machine learning models, let's briefly review how we might assess the quality of our categorization algorithm.\n",
        "\n",
        "The diagnostics in the classification report tell us different things about the quality of the categorization. Accuracy is a proportion of the correct decisions  to the total number of decisions (number of cases). Precision refers to the ratio of true positives to the sum of true positives and false positives, or how many of the predicted positives are true. This is a good assessment when you want to minimize false positives.  Finally, recall, or sensitivity, is the ratio of true positives to the sum of true positives and false negatives. This is important when you don't want to miss any true positives--that is, to avoid false negatives. The f-score is a harmonic mean of precision and recall."
      ],
      "metadata": {
        "id": "qCZAqYNYq0ED"
      }
    },
    {
      "cell_type": "markdown",
      "metadata": {
        "id": "lQAusTntQoQW"
      },
      "source": [
        "![machinelearning.png](data:image/png;base64,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)"
      ]
    },
    {
      "cell_type": "code",
      "execution_count": null,
      "metadata": {
        "colab": {
          "base_uri": "https://localhost:8080/"
        },
        "id": "N90Pr7c2503B",
        "outputId": "a6dd6e76-4f6f-4264-f303-c23d7eb4ffc1"
      },
      "outputs": [
        {
          "output_type": "stream",
          "name": "stdout",
          "text": [
            "                    precision    recall  f1-score   support\n",
            "\n",
            "          employed       0.62      0.80      0.70    527866\n",
            "not in labor force       0.56      0.37      0.45    389489\n",
            "        unemployed       0.00      0.00      0.00     22368\n",
            "\n",
            "          accuracy                           0.60    939723\n",
            "         macro avg       0.39      0.39      0.38    939723\n",
            "      weighted avg       0.58      0.60      0.58    939723\n",
            "\n"
          ]
        }
      ],
      "source": [
        "#Use linear discriminant analysis\n",
        "model_data_Y = census_df['empstat']\n",
        "model_data_X = census_df[['south', 'own_home', 'same_sex_cpl', 'mult_gen_hh',\n",
        "                          'female', 'rachisp', 'currently_married', 'some_college',\n",
        "                          'racamind', 'racasian', 'racblk', 'racpacis', 'racwht']]\n",
        "\n",
        "from sklearn.discriminant_analysis import LinearDiscriminantAnalysis as lda\n",
        "from sklearn.model_selection import train_test_split\n",
        "X_train, X_test, y_train, y_test = train_test_split(\n",
        "    model_data_X, model_data_Y, test_size=0.33, random_state=0\n",
        ")\n",
        "\n",
        "model2 = lda(n_components=2).fit(X_train, y_train)\n",
        "y_pred = model2.predict(X_test)\n",
        "\n",
        "from sklearn.metrics import classification_report, confusion_matrix\n",
        "print(classification_report(y_test, y_pred, zero_division = 0))\n",
        "\n",
        "#Accuracy is 60% - small # of unemployed in the test dataset\n",
        "#Not correctly classifying any of the unemployed cases"
      ]
    },
    {
      "cell_type": "code",
      "metadata": {
        "colab": {
          "base_uri": "https://localhost:8080/"
        },
        "outputId": "fd3cc154-ed8c-4d97-bb92-8b7468be4573",
        "id": "kFmQ7FJmGtAA"
      },
      "source": [
        "from sklearn.model_selection import train_test_split\n",
        "X_train, X_test, y_train, y_test = train_test_split(\n",
        "    model_data_X, model_data_Y, test_size=0.33, random_state=0\n",
        ")\n",
        "\n",
        "from sklearn.svm import LinearSVC\n",
        "model3 = LinearSVC(C = 1, max_iter = 10000000).fit(X_train, y_train)\n",
        "y_pred = model3.predict(X_test)\n",
        "\n",
        "from sklearn.metrics import classification_report, confusion_matrix\n",
        "print(classification_report(y_test, y_pred, zero_division = 0))"
      ],
      "execution_count": null,
      "outputs": [
        {
          "output_type": "stream",
          "name": "stdout",
          "text": [
            "                    precision    recall  f1-score   support\n",
            "\n",
            "          employed       0.62      0.80      0.70    527866\n",
            "not in labor force       0.56      0.37      0.45    389489\n",
            "        unemployed       0.00      0.00      0.00     22368\n",
            "\n",
            "          accuracy                           0.60    939723\n",
            "         macro avg       0.39      0.39      0.38    939723\n",
            "      weighted avg       0.58      0.60      0.58    939723\n",
            "\n"
          ]
        }
      ]
    },
    {
      "cell_type": "code",
      "metadata": {
        "id": "VuvP4Wyv-BbO"
      },
      "source": [
        "from sklearn.model_selection import train_test_split\n",
        "X_train, X_test, y_train, y_test = train_test_split(\n",
        "    model_data_X, model_data_Y, test_size=0.33, random_state=0\n",
        ")\n",
        "\n",
        "from sklearn.svm import SVC\n",
        "model4 = SVC(C = 1, max_iter = 10000, gamma='scale').fit(X_train, y_train)\n",
        "y_pred = model4.predict(X_test)\n",
        "\n",
        "from sklearn.metrics import classification_report, confusion_matrix\n",
        "print(classification_report(y_test, y_pred, zero_division = 0))"
      ],
      "execution_count": null,
      "outputs": []
    },
    {
      "cell_type": "code",
      "metadata": {
        "outputId": "2cbad059-7fad-4dd7-8a7d-405f86cb731d",
        "colab": {
          "base_uri": "https://localhost:8080/"
        },
        "id": "1s75MPgxwibW"
      },
      "source": [
        "from sklearn.model_selection import train_test_split\n",
        "X_train, X_test, y_train, y_test = train_test_split(\n",
        "    model_data_X, model_data_Y, test_size=0.33, random_state=0\n",
        ")\n",
        "\n",
        "from sklearn.naive_bayes import CategoricalNB\n",
        "model5 = CategoricalNB().fit(X_train, y_train)\n",
        "y_pred = model5.predict(X_test)\n",
        "\n",
        "from sklearn.metrics import classification_report, confusion_matrix\n",
        "print(classification_report(y_test, y_pred, zero_division = 0))"
      ],
      "execution_count": null,
      "outputs": [
        {
          "output_type": "stream",
          "name": "stdout",
          "text": [
            "                    precision    recall  f1-score   support\n",
            "\n",
            "          employed       0.62      0.79      0.70    160365\n",
            "not in labor force       0.56      0.39      0.46    117662\n",
            "        unemployed       0.00      0.00      0.00      6738\n",
            "\n",
            "          accuracy                           0.60    284765\n",
            "         macro avg       0.39      0.39      0.38    284765\n",
            "      weighted avg       0.58      0.60      0.58    284765\n",
            "\n"
          ]
        }
      ]
    },
    {
      "cell_type": "code",
      "source": [
        "from sklearn.model_selection import train_test_split\n",
        "X_train, X_test, y_train, y_test = train_test_split(\n",
        "    model_data_X, model_data_Y, test_size=0.33, random_state=0\n",
        ")\n",
        "\n",
        "from sklearn.linear_model import LogisticRegression\n",
        "model6 = LogisticRegression(penalty='l2', random_state=0, C=0.01, max_iter=1000, solver='lbfgs').fit(X_train, y_train)\n",
        "y_pred = model6.predict(X_test)\n",
        "\n",
        "from sklearn.metrics import classification_report, confusion_matrix\n",
        "print(classification_report(y_test, y_pred, zero_division = 0))\n"
      ],
      "metadata": {
        "id": "d8_ecaldF-z8",
        "colab": {
          "base_uri": "https://localhost:8080/"
        },
        "outputId": "9baabcb7-8b59-4866-ce6d-cbbb8810b2a8"
      },
      "execution_count": null,
      "outputs": [
        {
          "output_type": "stream",
          "name": "stdout",
          "text": [
            "                    precision    recall  f1-score   support\n",
            "\n",
            "          employed       0.62      0.80      0.70    527866\n",
            "not in labor force       0.56      0.37      0.45    389489\n",
            "        unemployed       0.00      0.00      0.00     22368\n",
            "\n",
            "          accuracy                           0.60    939723\n",
            "         macro avg       0.39      0.39      0.38    939723\n",
            "      weighted avg       0.58      0.60      0.58    939723\n",
            "\n"
          ]
        }
      ]
    },
    {
      "cell_type": "markdown",
      "source": [
        "**None of the models is able to predict the unemployed category. The training data is dominated by the other two categories of the criterion, so the feature weights that get built into the model are not sensitive to the very small category.**\n",
        "\n",
        "One solution to this problem is to split the original dataset into two samples. The first would include both employed and not in the labor force. The second would consist only of unemployed. We can then balance the training/test dataset by re-combining the two samples with various mixtures to evaluate the algorithm's ability to predict the small category."
      ],
      "metadata": {
        "id": "f204TxyRvST1"
      }
    },
    {
      "cell_type": "code",
      "execution_count": null,
      "metadata": {
        "id": "bscCvSIMyX-3",
        "colab": {
          "base_uri": "https://localhost:8080/"
        },
        "outputId": "2a93504b-90b3-405b-ed51-ae3bb332f0a1"
      },
      "outputs": [
        {
          "output_type": "stream",
          "name": "stdout",
          "text": [
            "138999\n",
            "67657\n"
          ]
        }
      ],
      "source": [
        "# We can adjust the mixture of our resampled data by changing the value of the frac=n flag.\n",
        "# The smaller the value, the more balanced the re-sample will be, but it will also be smaller\n",
        "# overall.\n",
        "# We can start with 0.1 and work down until we get an acceptible mix.\n",
        "\n",
        "# We want to take random sample of people from other 2 groups so that the groups are closer to being the same size (change mixture) iterative process\n",
        "\n",
        "censusSample0_df = census_df.loc[lambda census_df: census_df['empstat'].isin(['employed', 'not in labor force']), :] #creates sample\n",
        "censusSample0_df = censusSample0_df.sample(frac=0.05, axis=0, ignore_index=True) # frac=0.05 - 5% size of sample\n",
        "print(len(censusSample0_df))\n",
        "\n",
        "censusSample1_df = census_df.loc[lambda census_df: census_df['empstat'] == 'unemployed', :]\n",
        "print(len(censusSample1_df))\n"
      ]
    },
    {
      "cell_type": "code",
      "source": [
        "census2_df = pd.concat([censusSample0_df, censusSample1_df], axis=0, ignore_index=True)"
      ],
      "metadata": {
        "id": "yPBzOINy-x04"
      },
      "execution_count": null,
      "outputs": []
    },
    {
      "cell_type": "markdown",
      "source": [
        "Now, we'll re-run the analysis on census2_df."
      ],
      "metadata": {
        "id": "dnRQ0WA0_UOC"
      }
    },
    {
      "cell_type": "code",
      "execution_count": null,
      "metadata": {
        "colab": {
          "base_uri": "https://localhost:8080/"
        },
        "outputId": "3e58442f-92ae-459d-8a39-d3d9cae93bec",
        "id": "RyLolM22_bsD"
      },
      "outputs": [
        {
          "output_type": "stream",
          "name": "stdout",
          "text": [
            "                    precision    recall  f1-score   support\n",
            "\n",
            "          employed       0.49      0.62      0.55     26326\n",
            "not in labor force       0.45      0.26      0.33     19418\n",
            "        unemployed       0.47      0.50      0.49     22453\n",
            "\n",
            "          accuracy                           0.48     68197\n",
            "         macro avg       0.47      0.46      0.46     68197\n",
            "      weighted avg       0.47      0.48      0.47     68197\n",
            "\n"
          ]
        }
      ],
      "source": [
        "model_data_Y = census2_df['empstat']\n",
        "model_data_X = census2_df[['south', 'own_home', 'same_sex_cpl', 'mult_gen_hh',\n",
        "                          'female', 'rachisp', 'currently_married', 'some_college',\n",
        "                          'racamind', 'racasian', 'racblk', 'racpacis', 'racwht']]\n",
        "\n",
        "from sklearn.discriminant_analysis import LinearDiscriminantAnalysis as lda\n",
        "from sklearn.model_selection import train_test_split\n",
        "X_train, X_test, y_train, y_test = train_test_split(\n",
        "    model_data_X, model_data_Y, test_size=0.33, random_state=0\n",
        ")\n",
        "\n",
        "model7 = lda(n_components=2).fit(X_train, y_train)\n",
        "y_pred = model7.predict(X_test)\n",
        "\n",
        "from sklearn.metrics import classification_report, confusion_matrix\n",
        "print(classification_report(y_test, y_pred, zero_division = 0))\n",
        "\n",
        "#Not the best model (48% accurate) but can predict the unemployed with more accuracy than the previous models"
      ]
    },
    {
      "cell_type": "markdown",
      "source": [
        "We're able to predict the unemployed category now, but poorly, and the overall accuracy of the algorithm has declined. **We can adjust the mixture of the re-sampling, and repeat as necessary. The more cases you retain, the more accurate the algorithm will be**"
      ],
      "metadata": {
        "id": "-EYgSmOCABOr"
      }
    },
    {
      "cell_type": "code",
      "source": [],
      "metadata": {
        "id": "oOsFtGgwAQoB"
      },
      "execution_count": null,
      "outputs": []
    }
  ],
  "metadata": {
    "colab": {
      "provenance": [],
      "include_colab_link": true
    },
    "kernelspec": {
      "display_name": "Python 3",
      "name": "python3"
    },
    "language_info": {
      "name": "python"
    }
  },
  "nbformat": 4,
  "nbformat_minor": 0
}