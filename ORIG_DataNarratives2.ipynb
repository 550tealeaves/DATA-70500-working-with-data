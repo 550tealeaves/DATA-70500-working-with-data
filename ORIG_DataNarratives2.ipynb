{
  "nbformat": 4,
  "nbformat_minor": 0,
  "metadata": {
    "colab": {
      "provenance": [],
      "include_colab_link": true
    },
    "kernelspec": {
      "name": "python3",
      "display_name": "Python 3"
    }
  },
  "cells": [
    {
      "cell_type": "markdown",
      "metadata": {
        "id": "view-in-github",
        "colab_type": "text"
      },
      "source": [
        "<a href=\"https://colab.research.google.com/github/550tealeaves/DATA-70500-working-with-data/blob/main/ORIG_DataNarratives2.ipynb\" target=\"_parent\"><img src=\"https://colab.research.google.com/assets/colab-badge.svg\" alt=\"Open In Colab\"/></a>"
      ]
    },
    {
      "cell_type": "markdown",
      "metadata": {
        "id": "Xy-5BFZTSD88"
      },
      "source": [
        "# Telling a Story with Data\n",
        "\n",
        "In this notebook, I'll show you how to use the tools we've learned to pose a sociological question, find and read appropriate data, and then do a series of analyses that form an answer to the question. Through this process, we'll keep the principles of *Data Feminism* in mind.\n",
        "\n"
      ]
    },
    {
      "cell_type": "markdown",
      "metadata": {
        "id": "CErN33JRU8fP"
      },
      "source": [
        "The data source I identified as relevant to my question is IPUMS at the University of Minnesota: https://usa.ipums.org/usa/index.shtml\n",
        "\n",
        "IPUMS is a form of US Census data that is made available to researchers, with identifying information removed. IPUMS used to stand for \"Integrated Public Use Microdata Series\" but now people just consider it the name of a data source. It allows us to ask many different kinds of questions about the US population, including individual adults and households. It is a popular data source for many kinds of sociological research.\n",
        "\n"
      ]
    },
    {
      "cell_type": "markdown",
      "source": [
        "IPUMS data: https://usa.ipums.org/usa-action/variables/group\n",
        "\n",
        "NYC Department of City Planning: https://www.nyc.gov/site/planning/data-maps/open-data.page\n",
        "\n",
        "American Community Survey from US Census: https://www.census.gov/programs-surveys/acs/"
      ],
      "metadata": {
        "id": "U68t5drB7EmQ"
      }
    },
    {
      "cell_type": "markdown",
      "source": [
        "Getting American Community Survey data from the US Census via their API:\n",
        "https://www.census.gov/programs-surveys/acs/data/data-via-api.html\n",
        "\n",
        "Here's a handy summary:\n",
        "https://www.census.gov/content/dam/Census/programs-surveys/acs/data/census-data-api-flyer_ACS.pdf\n",
        "\n"
      ],
      "metadata": {
        "id": "HXxqmFrSZtZb"
      }
    },
    {
      "cell_type": "code",
      "metadata": {
        "id": "5xFmrDK71a4O",
        "colab": {
          "base_uri": "https://localhost:8080/"
        },
        "outputId": "f09d3ee7-157e-43a1-d4ce-f1a6b4ef4550"
      },
      "source": [
        "# Code block 0: Install library\n",
        "!pip install researchpy"
      ],
      "execution_count": 1,
      "outputs": [
        {
          "output_type": "stream",
          "name": "stdout",
          "text": [
            "Collecting researchpy\n",
            "  Downloading researchpy-0.3.6-py3-none-any.whl.metadata (1.2 kB)\n",
            "Requirement already satisfied: scipy in /usr/local/lib/python3.10/dist-packages (from researchpy) (1.13.1)\n",
            "Requirement already satisfied: numpy in /usr/local/lib/python3.10/dist-packages (from researchpy) (1.26.4)\n",
            "Requirement already satisfied: pandas in /usr/local/lib/python3.10/dist-packages (from researchpy) (2.2.2)\n",
            "Requirement already satisfied: statsmodels in /usr/local/lib/python3.10/dist-packages (from researchpy) (0.14.4)\n",
            "Requirement already satisfied: patsy in /usr/local/lib/python3.10/dist-packages (from researchpy) (0.5.6)\n",
            "Requirement already satisfied: python-dateutil>=2.8.2 in /usr/local/lib/python3.10/dist-packages (from pandas->researchpy) (2.8.2)\n",
            "Requirement already satisfied: pytz>=2020.1 in /usr/local/lib/python3.10/dist-packages (from pandas->researchpy) (2024.2)\n",
            "Requirement already satisfied: tzdata>=2022.7 in /usr/local/lib/python3.10/dist-packages (from pandas->researchpy) (2024.2)\n",
            "Requirement already satisfied: six in /usr/local/lib/python3.10/dist-packages (from patsy->researchpy) (1.16.0)\n",
            "Requirement already satisfied: packaging>=21.3 in /usr/local/lib/python3.10/dist-packages (from statsmodels->researchpy) (24.1)\n",
            "Downloading researchpy-0.3.6-py3-none-any.whl (34 kB)\n",
            "Installing collected packages: researchpy\n",
            "Successfully installed researchpy-0.3.6\n"
          ]
        }
      ]
    },
    {
      "cell_type": "code",
      "metadata": {
        "id": "b6kTWy09caYT"
      },
      "source": [
        "# Code block 1: Libraries\n",
        "import pandas as pd\n",
        "import numpy as np\n",
        "import statsmodels.api as sm\n",
        "import seaborn as sb\n",
        "import matplotlib.pyplot as plt\n",
        "import math\n",
        "import researchpy as rp"
      ],
      "execution_count": null,
      "outputs": []
    },
    {
      "cell_type": "code",
      "metadata": {
        "id": "o5khpCFnzZRu"
      },
      "source": [
        "# Code block 2: Reading the data\n",
        "IPUMS_df = pd.read_csv('/content/drive/MyDrive/Data/usa_00019.csv')\n"
      ],
      "execution_count": null,
      "outputs": []
    },
    {
      "cell_type": "code",
      "metadata": {
        "id": "Wn5Kk1e8R4Rw",
        "colab": {
          "base_uri": "https://localhost:8080/"
        },
        "outputId": "e4906a84-373e-463e-dada-b1cfb781575d"
      },
      "source": [
        "IPUMS_df.info('verbose')"
      ],
      "execution_count": null,
      "outputs": [
        {
          "output_type": "stream",
          "name": "stdout",
          "text": [
            "<class 'pandas.core.frame.DataFrame'>\n",
            "RangeIndex: 20416 entries, 0 to 20415\n",
            "Data columns (total 33 columns):\n",
            " #   Column     Non-Null Count  Dtype  \n",
            "---  ------     --------------  -----  \n",
            " 0   YEAR       20416 non-null  int64  \n",
            " 1   SAMPLE     20416 non-null  int64  \n",
            " 2   SERIAL     20416 non-null  int64  \n",
            " 3   CBSERIAL   20416 non-null  int64  \n",
            " 4   HHWT       20416 non-null  float64\n",
            " 5   CLUSTER    20416 non-null  int64  \n",
            " 6   STATEFIP   20416 non-null  int64  \n",
            " 7   COUNTYFIP  20416 non-null  int64  \n",
            " 8   STRATA     20416 non-null  int64  \n",
            " 9   GQ         20416 non-null  int64  \n",
            " 10  PERNUM     20416 non-null  int64  \n",
            " 11  PERWT      20416 non-null  float64\n",
            " 12  SEX        20416 non-null  int64  \n",
            " 13  AGE        20416 non-null  int64  \n",
            " 14  MARST      20416 non-null  int64  \n",
            " 15  HISPAN     20416 non-null  int64  \n",
            " 16  HISPAND    20416 non-null  int64  \n",
            " 17  CITIZEN    20416 non-null  int64  \n",
            " 18  RACASIAN   20416 non-null  int64  \n",
            " 19  RACBLK     20416 non-null  int64  \n",
            " 20  RACPACIS   20416 non-null  int64  \n",
            " 21  RACWHT     20416 non-null  int64  \n",
            " 22  RACOTHER   20416 non-null  int64  \n",
            " 23  EDUC       20416 non-null  int64  \n",
            " 24  EDUCD      20416 non-null  int64  \n",
            " 25  EMPSTAT    20416 non-null  int64  \n",
            " 26  EMPSTATD   20416 non-null  int64  \n",
            " 27  LABFORCE   20416 non-null  int64  \n",
            " 28  OCC2010    20416 non-null  int64  \n",
            " 29  UHRSWORK   20416 non-null  int64  \n",
            " 30  INCTOT     20416 non-null  int64  \n",
            " 31  FTOTINC    20416 non-null  int64  \n",
            " 32  POVERTY    20416 non-null  int64  \n",
            "dtypes: float64(2), int64(31)\n",
            "memory usage: 5.1 MB\n"
          ]
        }
      ]
    },
    {
      "cell_type": "code",
      "source": [
        "# Handle missing values - turn missing values into not a number\n",
        "IPUMS_df['SEX'] = np.where(IPUMS_df['SEX'] > 2, np.nan, IPUMS_df['SEX'])\n",
        "IPUMS_df['AGE'] = np.where(IPUMS_df['AGE'] > 140, np.nan, IPUMS_df['AGE'])\n",
        "IPUMS_df['EDUC'] = np.where(IPUMS_df['EDUC'] > 11, np.nan, IPUMS_df['EDUC'])\n"
      ],
      "metadata": {
        "id": "nWT5jFDZpan_"
      },
      "execution_count": null,
      "outputs": []
    },
    {
      "cell_type": "code",
      "source": [
        "# Build a model to start the data narrative\n",
        "# When using categorical variables - you have to remove one of the options and leave it as the comparison and create binary variables for all the other categories\n",
        "Y = IPUMS_df['UHRSWORK'] # Hours usually worked (in hours) # DEPENDENT VARIABLE - numeric variable\n",
        "X = IPUMS_df[['SEX', 'AGE', 'RACASIAN', 'RACBLK', 'RACPACIS', 'RACOTHER', 'EDUC']] #INDEPENDENT VARIABLES - race=white is the comparison category b/c the other races are clearly listed - binary/numeric variables\n",
        "X = sm.add_constant(X)\n",
        "model0 = sm.OLS(Y, X, missing='drop').fit()\n",
        "print(model0.summary())"
      ],
      "metadata": {
        "colab": {
          "base_uri": "https://localhost:8080/"
        },
        "id": "lpUDjNRYrfoO",
        "outputId": "a6bb4a73-2c1d-407c-8d17-906c610a0a25"
      },
      "execution_count": null,
      "outputs": [
        {
          "output_type": "stream",
          "name": "stdout",
          "text": [
            "                            OLS Regression Results                            \n",
            "==============================================================================\n",
            "Dep. Variable:               UHRSWORK   R-squared:                       0.252\n",
            "Model:                            OLS   Adj. R-squared:                  0.252\n",
            "Method:                 Least Squares   F-statistic:                     982.9\n",
            "Date:                Tue, 05 Nov 2024   Prob (F-statistic):               0.00\n",
            "Time:                        18:58:44   Log-Likelihood:                -88073.\n",
            "No. Observations:               20416   AIC:                         1.762e+05\n",
            "Df Residuals:                   20408   BIC:                         1.762e+05\n",
            "Df Model:                           7                                         \n",
            "Covariance Type:            nonrobust                                         \n",
            "==============================================================================\n",
            "                 coef    std err          t      P>|t|      [0.025      0.975]\n",
            "------------------------------------------------------------------------------\n",
            "const          1.7045      3.350      0.509      0.611      -4.862       8.271\n",
            "SEX           -4.3941      0.254    -17.309      0.000      -4.892      -3.897\n",
            "AGE           -0.1715      0.006    -28.729      0.000      -0.183      -0.160\n",
            "RACASIAN       0.0101      0.415      0.024      0.981      -0.803       0.823\n",
            "RACBLK        -0.7049      0.386     -1.828      0.068      -1.461       0.051\n",
            "RACPACIS       7.6830      3.200      2.401      0.016       1.410      13.956\n",
            "RACOTHER       2.1129      0.382      5.525      0.000       1.363       2.863\n",
            "EDUC           3.4189      0.042     81.295      0.000       3.337       3.501\n",
            "==============================================================================\n",
            "Omnibus:                      550.034   Durbin-Watson:                   1.764\n",
            "Prob(Omnibus):                  0.000   Jarque-Bera (JB):              591.532\n",
            "Skew:                           0.412   Prob(JB):                    3.55e-129\n",
            "Kurtosis:                       2.878   Cond. No.                     1.79e+03\n",
            "==============================================================================\n",
            "\n",
            "Notes:\n",
            "[1] Standard Errors assume that the covariance matrix of the errors is correctly specified.\n",
            "[2] The condition number is large, 1.79e+03. This might indicate that there are\n",
            "strong multicollinearity or other numerical problems.\n"
          ]
        }
      ]
    },
    {
      "cell_type": "markdown",
      "source": [
        "~ **About 25% of the variation in the model is explained by the demographic variables**\n",
        "\n",
        "Treat demographic variables as if they are statistically independent, but what about intersectionality? Variables don't exist in a vacuum.\n",
        "\n",
        "\n",
        "\n",
        "\n",
        "So here we've asked if race, gender, age, and education affect the amount usually worked. By using OLS, we are able to look at the unique effects since all the IVs serve as control variables for any of the others.\n",
        "\n",
        "We see a pattern of significant effects. So our next step is to think about what would be meaningful follow-up questions. This is how we construct a data narrative, by thinking about how we can explain the meaning of the pattern we see in the original model.\n",
        "\n",
        "One question we might ask is about interaction effects. This is a way to operationalize the concept of intersectionality."
      ],
      "metadata": {
        "id": "tf05ulNcsptq"
      }
    },
    {
      "cell_type": "code",
      "source": [
        "# Create interaction variable - identify as woman and as black - black women vs everyone else\n",
        "IPUMS_df['WOMAN'] = np.where(IPUMS_df['SEX'] == 2, 1, 0)\n",
        "IPUMS_df['BLACK_WOMAN'] = IPUMS_df['WOMAN'] * IPUMS_df['RACBLK'] #'Black_woman' - is the interaction b/w woman and black\n"
      ],
      "metadata": {
        "id": "TucUIZhDuaZX"
      },
      "execution_count": null,
      "outputs": []
    },
    {
      "cell_type": "code",
      "source": [
        "# Build a model to start the data narrative\n",
        "Y = IPUMS_df['UHRSWORK'] # Hours usually worked (in hours)\n",
        "X = IPUMS_df[['SEX', 'AGE', 'RACASIAN', 'RACBLK', 'RACPACIS', 'RACOTHER', 'EDUC', 'BLACK_WOMAN']] # use the original model and then include the new interaction variable 'black_woman'\n",
        "X = sm.add_constant(X)\n",
        "model1 = sm.OLS(Y, X, missing='drop').fit()\n",
        "print(model1.summary())"
      ],
      "metadata": {
        "outputId": "30258d3a-8433-470a-e56c-e1f6bcd6a8b4",
        "colab": {
          "base_uri": "https://localhost:8080/"
        },
        "id": "oFyQKIrhvUvs"
      },
      "execution_count": null,
      "outputs": [
        {
          "output_type": "stream",
          "name": "stdout",
          "text": [
            "                            OLS Regression Results                            \n",
            "==============================================================================\n",
            "Dep. Variable:               UHRSWORK   R-squared:                       0.253\n",
            "Model:                            OLS   Adj. R-squared:                  0.253\n",
            "Method:                 Least Squares   F-statistic:                     864.3\n",
            "Date:                Tue, 05 Nov 2024   Prob (F-statistic):               0.00\n",
            "Time:                        19:12:34   Log-Likelihood:                -88060.\n",
            "No. Observations:               20416   AIC:                         1.761e+05\n",
            "Df Residuals:                   20407   BIC:                         1.762e+05\n",
            "Df Model:                           8                                         \n",
            "Covariance Type:            nonrobust                                         \n",
            "===============================================================================\n",
            "                  coef    std err          t      P>|t|      [0.025      0.975]\n",
            "-------------------------------------------------------------------------------\n",
            "const           8.4017      3.596      2.337      0.019       1.354      15.449\n",
            "SEX            -8.7801      0.895     -9.810      0.000     -10.534      -7.026\n",
            "AGE            -0.1717      0.006    -28.776      0.000      -0.183      -0.160\n",
            "RACASIAN        0.0058      0.415      0.014      0.989      -0.807       0.818\n",
            "RACBLK         -2.7217      0.552     -4.934      0.000      -3.803      -1.640\n",
            "RACPACIS        7.6976      3.198      2.407      0.016       1.428      13.967\n",
            "RACOTHER        2.0930      0.382      5.475      0.000       1.344       2.842\n",
            "EDUC            3.4156      0.042     81.257      0.000       3.333       3.498\n",
            "BLACK_WOMAN     3.8962      0.762      5.110      0.000       2.402       5.391\n",
            "==============================================================================\n",
            "Omnibus:                      548.198   Durbin-Watson:                   1.764\n",
            "Prob(Omnibus):                  0.000   Jarque-Bera (JB):              589.771\n",
            "Skew:                           0.412   Prob(JB):                    8.57e-129\n",
            "Kurtosis:                       2.883   Cond. No.                     1.83e+03\n",
            "==============================================================================\n",
            "\n",
            "Notes:\n",
            "[1] Standard Errors assume that the covariance matrix of the errors is correctly specified.\n",
            "[2] The condition number is large, 1.83e+03. This might indicate that there are\n",
            "strong multicollinearity or other numerical problems.\n"
          ]
        }
      ]
    },
    {
      "cell_type": "markdown",
      "source": [
        "**Sumarry - black women work on average 3.9 hours more than everyone else**\n",
        "\n",
        "Here, in model 1 (the second model) we see a significant effect for the interaction variable we created to examine one aspect of intersectionality. We could (and should) create other interaction effects to reflect more fully the nature of intersectionality.\n",
        "\n",
        "Then we want to think of the next question that would advance our data narrative."
      ],
      "metadata": {
        "id": "7iiuabJkIxYP"
      }
    },
    {
      "cell_type": "code",
      "metadata": {
        "id": "wb3Y0WyJ3v64"
      },
      "source": [],
      "execution_count": null,
      "outputs": []
    },
    {
      "cell_type": "markdown",
      "metadata": {
        "id": "BVEW6zPO2j7A"
      },
      "source": [
        "## Activity\n",
        "1. Think of a follow-up question to ask and compute a new model.\n",
        "\n",
        "2. Interpret the results of your model.\n",
        "\n",
        "3. Explain how your model advances the data narrative.\n",
        "\n",
        "4. What would be a good next question?\n",
        "\n",
        "5.  What information about the American Community Survey from the US Census would you include in a data biography?"
      ]
    }
  ]
}