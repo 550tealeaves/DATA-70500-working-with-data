{
  "nbformat": 4,
  "nbformat_minor": 0,
  "metadata": {
    "colab": {
      "provenance": [],
      "include_colab_link": true
    },
    "kernelspec": {
      "name": "python3",
      "display_name": "Python 3"
    },
    "language_info": {
      "name": "python"
    }
  },
  "cells": [
    {
      "cell_type": "markdown",
      "metadata": {
        "id": "view-in-github",
        "colab_type": "text"
      },
      "source": [
        "<a href=\"https://colab.research.google.com/github/550tealeaves/DATA-70500-working-with-data/blob/main/Lab10_CategoricalDataAnalysis.ipynb\" target=\"_parent\"><img src=\"https://colab.research.google.com/assets/colab-badge.svg\" alt=\"Open In Colab\"/></a>"
      ]
    },
    {
      "cell_type": "code",
      "source": [
        "import warnings\n",
        "warnings.filterwarnings('ignore')"
      ],
      "metadata": {
        "id": "oYoj9kdf0tKl"
      },
      "execution_count": null,
      "outputs": []
    },
    {
      "cell_type": "code",
      "source": [
        "# We need to install these libraries to use some of the tools below.\n",
        "!pip install pyreadstat\n",
        "!pip install researchpy\n"
      ],
      "metadata": {
        "colab": {
          "base_uri": "https://localhost:8080/"
        },
        "id": "xAtJaUggzW_V",
        "outputId": "34be5669-6aa7-48d6-b6c6-412937439e71"
      },
      "execution_count": null,
      "outputs": [
        {
          "output_type": "stream",
          "name": "stdout",
          "text": [
            "Collecting pyreadstat\n",
            "  Downloading pyreadstat-1.2.8-cp310-cp310-manylinux_2_17_x86_64.manylinux2014_x86_64.whl.metadata (1.0 kB)\n",
            "Requirement already satisfied: pandas>=1.2.0 in /usr/local/lib/python3.10/dist-packages (from pyreadstat) (2.2.2)\n",
            "Requirement already satisfied: numpy>=1.22.4 in /usr/local/lib/python3.10/dist-packages (from pandas>=1.2.0->pyreadstat) (1.26.4)\n",
            "Requirement already satisfied: python-dateutil>=2.8.2 in /usr/local/lib/python3.10/dist-packages (from pandas>=1.2.0->pyreadstat) (2.8.2)\n",
            "Requirement already satisfied: pytz>=2020.1 in /usr/local/lib/python3.10/dist-packages (from pandas>=1.2.0->pyreadstat) (2024.2)\n",
            "Requirement already satisfied: tzdata>=2022.7 in /usr/local/lib/python3.10/dist-packages (from pandas>=1.2.0->pyreadstat) (2024.2)\n",
            "Requirement already satisfied: six>=1.5 in /usr/local/lib/python3.10/dist-packages (from python-dateutil>=2.8.2->pandas>=1.2.0->pyreadstat) (1.16.0)\n",
            "Downloading pyreadstat-1.2.8-cp310-cp310-manylinux_2_17_x86_64.manylinux2014_x86_64.whl (2.8 MB)\n",
            "\u001b[2K   \u001b[90m━━━━━━━━━━━━━━━━━━━━━━━━━━━━━━━━━━━━━━━━\u001b[0m \u001b[32m2.8/2.8 MB\u001b[0m \u001b[31m19.6 MB/s\u001b[0m eta \u001b[36m0:00:00\u001b[0m\n",
            "\u001b[?25hInstalling collected packages: pyreadstat\n",
            "Successfully installed pyreadstat-1.2.8\n",
            "Collecting researchpy\n",
            "  Downloading researchpy-0.3.6-py3-none-any.whl.metadata (1.2 kB)\n",
            "Requirement already satisfied: scipy in /usr/local/lib/python3.10/dist-packages (from researchpy) (1.13.1)\n",
            "Requirement already satisfied: numpy in /usr/local/lib/python3.10/dist-packages (from researchpy) (1.26.4)\n",
            "Requirement already satisfied: pandas in /usr/local/lib/python3.10/dist-packages (from researchpy) (2.2.2)\n",
            "Requirement already satisfied: statsmodels in /usr/local/lib/python3.10/dist-packages (from researchpy) (0.14.4)\n",
            "Requirement already satisfied: patsy in /usr/local/lib/python3.10/dist-packages (from researchpy) (1.0.1)\n",
            "Requirement already satisfied: python-dateutil>=2.8.2 in /usr/local/lib/python3.10/dist-packages (from pandas->researchpy) (2.8.2)\n",
            "Requirement already satisfied: pytz>=2020.1 in /usr/local/lib/python3.10/dist-packages (from pandas->researchpy) (2024.2)\n",
            "Requirement already satisfied: tzdata>=2022.7 in /usr/local/lib/python3.10/dist-packages (from pandas->researchpy) (2024.2)\n",
            "Requirement already satisfied: packaging>=21.3 in /usr/local/lib/python3.10/dist-packages (from statsmodels->researchpy) (24.2)\n",
            "Requirement already satisfied: six>=1.5 in /usr/local/lib/python3.10/dist-packages (from python-dateutil>=2.8.2->pandas->researchpy) (1.16.0)\n",
            "Downloading researchpy-0.3.6-py3-none-any.whl (34 kB)\n",
            "Installing collected packages: researchpy\n",
            "Successfully installed researchpy-0.3.6\n"
          ]
        }
      ]
    },
    {
      "cell_type": "code",
      "metadata": {
        "id": "b6kTWy09caYT"
      },
      "source": [
        "# Code block 1: importing libraries\n",
        "import pandas as pd\n",
        "import numpy as np\n",
        "import researchpy as rp\n",
        "from pandas.api.types import CategoricalDtype\n",
        "import seaborn as sb\n",
        "import matplotlib.pyplot as plt\n",
        "from scipy.stats import fisher_exact\n",
        "from scipy.stats.contingency import odds_ratio"
      ],
      "execution_count": null,
      "outputs": []
    },
    {
      "cell_type": "code",
      "execution_count": null,
      "metadata": {
        "colab": {
          "base_uri": "https://localhost:8080/"
        },
        "id": "cOksGx-_hyi8",
        "outputId": "abcadb73-41a9-44aa-9845-1a02471a51bb"
      },
      "outputs": [
        {
          "output_type": "stream",
          "name": "stdout",
          "text": [
            "<class 'pandas.core.frame.DataFrame'>\n",
            "RangeIndex: 10419 entries, 0 to 10418\n",
            "Data columns (total 40 columns):\n",
            " #   Column      Non-Null Count  Dtype   \n",
            "---  ------      --------------  -----   \n",
            " 0   year        10419 non-null  category\n",
            " 1   sample      10419 non-null  category\n",
            " 2   serial      10419 non-null  int32   \n",
            " 3   cbserial    10419 non-null  float64 \n",
            " 4   hhwt        10419 non-null  int16   \n",
            " 5   cluster     10419 non-null  float64 \n",
            " 6   region      10419 non-null  category\n",
            " 7   statefip    10419 non-null  category\n",
            " 8   metro       10419 non-null  category\n",
            " 9   strata      10419 non-null  int32   \n",
            " 10  gq          10419 non-null  category\n",
            " 11  ownershp    10419 non-null  category\n",
            " 12  ownershpd   10419 non-null  category\n",
            " 13  rooms       10419 non-null  category\n",
            " 14  cinethh     10419 non-null  category\n",
            " 15  cihispeed   10419 non-null  category\n",
            " 16  coupletype  10419 non-null  category\n",
            " 17  multgen     10419 non-null  category\n",
            " 18  multgend    10419 non-null  category\n",
            " 19  pernum      10419 non-null  int8    \n",
            " 20  perwt       10419 non-null  int16   \n",
            " 21  sex         10419 non-null  category\n",
            " 22  age         10419 non-null  category\n",
            " 23  marst       10419 non-null  category\n",
            " 24  hispan      10419 non-null  category\n",
            " 25  hispand     10419 non-null  category\n",
            " 26  citizen     10419 non-null  category\n",
            " 27  speakeng    10419 non-null  category\n",
            " 28  racamind    10419 non-null  category\n",
            " 29  racasian    10419 non-null  category\n",
            " 30  racblk      10419 non-null  category\n",
            " 31  racpacis    10419 non-null  category\n",
            " 32  racwht      10419 non-null  category\n",
            " 33  racother    10419 non-null  category\n",
            " 34  educ        10419 non-null  category\n",
            " 35  educd       10419 non-null  category\n",
            " 36  empstat     10419 non-null  category\n",
            " 37  empstatd    10419 non-null  category\n",
            " 38  labforce    10419 non-null  category\n",
            " 39  uhrswork    10419 non-null  category\n",
            "dtypes: category(33), float64(2), int16(2), int32(2), int8(1)\n",
            "memory usage: 643.4 KB\n"
          ]
        }
      ],
      "source": [
        "census_df = pd.read_stata('usa_00020.dta')\n",
        "census_df.info('verbose')"
      ]
    },
    {
      "cell_type": "code",
      "source": [
        "# Var cinethh - asks if household has internet access\n",
        "# n/a - no answer - have to remove this b/c it's missing\n",
        "census_df['multgen'].value_counts()"
      ],
      "metadata": {
        "colab": {
          "base_uri": "https://localhost:8080/",
          "height": 241
        },
        "id": "x8yhPw_FjJnk",
        "outputId": "263a741b-0de5-430f-e11b-8affaeac4af4"
      },
      "execution_count": null,
      "outputs": [
        {
          "output_type": "execute_result",
          "data": {
            "text/plain": [
              "multgen\n",
              "2 generations     5127\n",
              "1 generation      3766\n",
              "3+ generations     833\n",
              "n/a                693\n",
              "Name: count, dtype: int64"
            ],
            "text/html": [
              "<div>\n",
              "<style scoped>\n",
              "    .dataframe tbody tr th:only-of-type {\n",
              "        vertical-align: middle;\n",
              "    }\n",
              "\n",
              "    .dataframe tbody tr th {\n",
              "        vertical-align: top;\n",
              "    }\n",
              "\n",
              "    .dataframe thead th {\n",
              "        text-align: right;\n",
              "    }\n",
              "</style>\n",
              "<table border=\"1\" class=\"dataframe\">\n",
              "  <thead>\n",
              "    <tr style=\"text-align: right;\">\n",
              "      <th></th>\n",
              "      <th>count</th>\n",
              "    </tr>\n",
              "    <tr>\n",
              "      <th>multgen</th>\n",
              "      <th></th>\n",
              "    </tr>\n",
              "  </thead>\n",
              "  <tbody>\n",
              "    <tr>\n",
              "      <th>2 generations</th>\n",
              "      <td>5127</td>\n",
              "    </tr>\n",
              "    <tr>\n",
              "      <th>1 generation</th>\n",
              "      <td>3766</td>\n",
              "    </tr>\n",
              "    <tr>\n",
              "      <th>3+ generations</th>\n",
              "      <td>833</td>\n",
              "    </tr>\n",
              "    <tr>\n",
              "      <th>n/a</th>\n",
              "      <td>693</td>\n",
              "    </tr>\n",
              "  </tbody>\n",
              "</table>\n",
              "</div><br><label><b>dtype:</b> int64</label>"
            ]
          },
          "metadata": {},
          "execution_count": 6
        }
      ]
    },
    {
      "cell_type": "code",
      "source": [
        "# Turns missing value into not a number\n",
        "# If the category is exactly this, then treat it as this\n",
        "census_df['multgenr'] = np.where(census_df['multgen'] == 'n/a', np.nan, census_df['multgen'])\n",
        "census_df['multgenr'].value_counts()"
      ],
      "metadata": {
        "colab": {
          "base_uri": "https://localhost:8080/",
          "height": 209
        },
        "id": "dvppnsVytRGP",
        "outputId": "d2812967-8677-4b48-a301-3811277efdc4"
      },
      "execution_count": null,
      "outputs": [
        {
          "output_type": "execute_result",
          "data": {
            "text/plain": [
              "multgenr\n",
              "2 generations     5127\n",
              "1 generation      3766\n",
              "3+ generations     833\n",
              "Name: count, dtype: int64"
            ],
            "text/html": [
              "<div>\n",
              "<style scoped>\n",
              "    .dataframe tbody tr th:only-of-type {\n",
              "        vertical-align: middle;\n",
              "    }\n",
              "\n",
              "    .dataframe tbody tr th {\n",
              "        vertical-align: top;\n",
              "    }\n",
              "\n",
              "    .dataframe thead th {\n",
              "        text-align: right;\n",
              "    }\n",
              "</style>\n",
              "<table border=\"1\" class=\"dataframe\">\n",
              "  <thead>\n",
              "    <tr style=\"text-align: right;\">\n",
              "      <th></th>\n",
              "      <th>count</th>\n",
              "    </tr>\n",
              "    <tr>\n",
              "      <th>multgenr</th>\n",
              "      <th></th>\n",
              "    </tr>\n",
              "  </thead>\n",
              "  <tbody>\n",
              "    <tr>\n",
              "      <th>2 generations</th>\n",
              "      <td>5127</td>\n",
              "    </tr>\n",
              "    <tr>\n",
              "      <th>1 generation</th>\n",
              "      <td>3766</td>\n",
              "    </tr>\n",
              "    <tr>\n",
              "      <th>3+ generations</th>\n",
              "      <td>833</td>\n",
              "    </tr>\n",
              "  </tbody>\n",
              "</table>\n",
              "</div><br><label><b>dtype:</b> int64</label>"
            ]
          },
          "metadata": {},
          "execution_count": 8
        }
      ]
    },
    {
      "cell_type": "code",
      "source": [
        "census_df['nonmetro'] = np.where(census_df['metro'] == 'not in metropolitan area', 1, 0)\n",
        "census_df['nonmetro'].value_counts()"
      ],
      "metadata": {
        "id": "nIcF6W8XB5xv"
      },
      "execution_count": null,
      "outputs": []
    },
    {
      "cell_type": "code",
      "source": [
        "# Wants to calculate odds ration = must turn the answers into a binary\n",
        "census_df['muladultgen'] = np.where(census_df['multgendr'].isin(['2 adjacent generations, adult-adult','3+ generations (census 2008 definition)',\n",
        "\n",
        "                                                              '3+ generations (additional ipums definition)']), 1, 0)\n",
        "\n",
        "#includes clear multiple adult generations\n",
        "\n",
        "census_df['muladultgen'].value_counts()\n"
      ],
      "metadata": {
        "colab": {
          "base_uri": "https://localhost:8080/",
          "height": 178
        },
        "outputId": "b3d7074a-d6ae-44b4-c9ff-88e73e2b7095",
        "id": "Owo0IYIYvbeS"
      },
      "execution_count": null,
      "outputs": [
        {
          "output_type": "execute_result",
          "data": {
            "text/plain": [
              "nointernet\n",
              "0    10041\n",
              "1      378\n",
              "Name: count, dtype: int64"
            ],
            "text/html": [
              "<div>\n",
              "<style scoped>\n",
              "    .dataframe tbody tr th:only-of-type {\n",
              "        vertical-align: middle;\n",
              "    }\n",
              "\n",
              "    .dataframe tbody tr th {\n",
              "        vertical-align: top;\n",
              "    }\n",
              "\n",
              "    .dataframe thead th {\n",
              "        text-align: right;\n",
              "    }\n",
              "</style>\n",
              "<table border=\"1\" class=\"dataframe\">\n",
              "  <thead>\n",
              "    <tr style=\"text-align: right;\">\n",
              "      <th></th>\n",
              "      <th>count</th>\n",
              "    </tr>\n",
              "    <tr>\n",
              "      <th>nointernet</th>\n",
              "      <th></th>\n",
              "    </tr>\n",
              "  </thead>\n",
              "  <tbody>\n",
              "    <tr>\n",
              "      <th>0</th>\n",
              "      <td>10041</td>\n",
              "    </tr>\n",
              "    <tr>\n",
              "      <th>1</th>\n",
              "      <td>378</td>\n",
              "    </tr>\n",
              "  </tbody>\n",
              "</table>\n",
              "</div><br><label><b>dtype:</b> int64</label>"
            ]
          },
          "metadata": {},
          "execution_count": 8
        }
      ]
    },
    {
      "cell_type": "code",
      "source": [
        "# Selected another variable - asking where people live\n",
        "census_df['metro'].value_counts()"
      ],
      "metadata": {
        "colab": {
          "base_uri": "https://localhost:8080/",
          "height": 272
        },
        "outputId": "4bba6d7b-5f22-41a3-e04a-19c0dc1b7f7b",
        "id": "2WRksSihupdT"
      },
      "execution_count": null,
      "outputs": [
        {
          "output_type": "execute_result",
          "data": {
            "text/plain": [
              "metro\n",
              "in metropolitan area: not in central/principal city                           3791\n",
              "in metropolitan area: in central/principal city                               3698\n",
              "metropolitan status indeterminable (mixed)                                    1320\n",
              "in metropolitan area: central/principal city status indeterminable (mixed)     932\n",
              "not in metropolitan area                                                       678\n",
              "Name: count, dtype: int64"
            ],
            "text/html": [
              "<div>\n",
              "<style scoped>\n",
              "    .dataframe tbody tr th:only-of-type {\n",
              "        vertical-align: middle;\n",
              "    }\n",
              "\n",
              "    .dataframe tbody tr th {\n",
              "        vertical-align: top;\n",
              "    }\n",
              "\n",
              "    .dataframe thead th {\n",
              "        text-align: right;\n",
              "    }\n",
              "</style>\n",
              "<table border=\"1\" class=\"dataframe\">\n",
              "  <thead>\n",
              "    <tr style=\"text-align: right;\">\n",
              "      <th></th>\n",
              "      <th>count</th>\n",
              "    </tr>\n",
              "    <tr>\n",
              "      <th>metro</th>\n",
              "      <th></th>\n",
              "    </tr>\n",
              "  </thead>\n",
              "  <tbody>\n",
              "    <tr>\n",
              "      <th>in metropolitan area: not in central/principal city</th>\n",
              "      <td>3791</td>\n",
              "    </tr>\n",
              "    <tr>\n",
              "      <th>in metropolitan area: in central/principal city</th>\n",
              "      <td>3698</td>\n",
              "    </tr>\n",
              "    <tr>\n",
              "      <th>metropolitan status indeterminable (mixed)</th>\n",
              "      <td>1320</td>\n",
              "    </tr>\n",
              "    <tr>\n",
              "      <th>in metropolitan area: central/principal city status indeterminable (mixed)</th>\n",
              "      <td>932</td>\n",
              "    </tr>\n",
              "    <tr>\n",
              "      <th>not in metropolitan area</th>\n",
              "      <td>678</td>\n",
              "    </tr>\n",
              "  </tbody>\n",
              "</table>\n",
              "</div><br><label><b>dtype:</b> int64</label>"
            ]
          },
          "metadata": {},
          "execution_count": 9
        }
      ]
    },
    {
      "cell_type": "code",
      "source": [
        "# Classify \"not in a metro area\" as rural\n",
        "# 1 = rural, 0 = metro\n",
        "census_df['nonmetro'] = np.where(census_df['metro'] == 'not in metropolitan area', 1, 0)\n",
        "census_df['nonmetro'].value_counts()"
      ],
      "metadata": {
        "colab": {
          "base_uri": "https://localhost:8080/",
          "height": 178
        },
        "id": "kN_mWGG4uzQK",
        "outputId": "90db0ebe-053c-48fe-9c10-d02f49852369"
      },
      "execution_count": null,
      "outputs": [
        {
          "output_type": "execute_result",
          "data": {
            "text/plain": [
              "nonmetro\n",
              "0    9741\n",
              "1     678\n",
              "Name: count, dtype: int64"
            ],
            "text/html": [
              "<div>\n",
              "<style scoped>\n",
              "    .dataframe tbody tr th:only-of-type {\n",
              "        vertical-align: middle;\n",
              "    }\n",
              "\n",
              "    .dataframe tbody tr th {\n",
              "        vertical-align: top;\n",
              "    }\n",
              "\n",
              "    .dataframe thead th {\n",
              "        text-align: right;\n",
              "    }\n",
              "</style>\n",
              "<table border=\"1\" class=\"dataframe\">\n",
              "  <thead>\n",
              "    <tr style=\"text-align: right;\">\n",
              "      <th></th>\n",
              "      <th>count</th>\n",
              "    </tr>\n",
              "    <tr>\n",
              "      <th>nonmetro</th>\n",
              "      <th></th>\n",
              "    </tr>\n",
              "  </thead>\n",
              "  <tbody>\n",
              "    <tr>\n",
              "      <th>0</th>\n",
              "      <td>9741</td>\n",
              "    </tr>\n",
              "    <tr>\n",
              "      <th>1</th>\n",
              "      <td>678</td>\n",
              "    </tr>\n",
              "  </tbody>\n",
              "</table>\n",
              "</div><br><label><b>dtype:</b> int64</label>"
            ]
          },
          "metadata": {},
          "execution_count": 10
        }
      ]
    },
    {
      "cell_type": "code",
      "source": [
        "table0 = pd.crosstab(census_df['nointernet'], census_df['nonmetro'], dropna=False)\n",
        "odds0 = odds_ratio(table0)\n",
        "fisher0 = fisher_exact(table0) # significance test\n",
        "\n",
        "print(f'The odds that a non-metro household will not have internet access are {odds0.statistic:.2f}.')\n",
        "print(f'The significance of the Fisher exact test is less than {fisher0.pvalue:.2e}.')\n",
        "pd.crosstab(census_df['nointernet'], census_df['nonmetro'], dropna=False, normalize=True)"
      ],
      "metadata": {
        "colab": {
          "base_uri": "https://localhost:8080/",
          "height": 178
        },
        "id": "28X6nPXvwAcT",
        "outputId": "da45e27d-8eba-401f-d557-9b87c2accdf1"
      },
      "execution_count": null,
      "outputs": [
        {
          "output_type": "stream",
          "name": "stdout",
          "text": [
            "The odds that a non-metro household will not have internet access are 2.69.\n",
            "The significance of the Fisher exact test is less than 1.72e-09.\n"
          ]
        },
        {
          "output_type": "execute_result",
          "data": {
            "text/plain": [
              "nonmetro           0         1\n",
              "nointernet                    \n",
              "0           0.904117  0.059603\n",
              "1           0.030809  0.005471"
            ],
            "text/html": [
              "\n",
              "  <div id=\"df-6f74cd2d-09a4-4dd5-9935-823f38cab0a7\" class=\"colab-df-container\">\n",
              "    <div>\n",
              "<style scoped>\n",
              "    .dataframe tbody tr th:only-of-type {\n",
              "        vertical-align: middle;\n",
              "    }\n",
              "\n",
              "    .dataframe tbody tr th {\n",
              "        vertical-align: top;\n",
              "    }\n",
              "\n",
              "    .dataframe thead th {\n",
              "        text-align: right;\n",
              "    }\n",
              "</style>\n",
              "<table border=\"1\" class=\"dataframe\">\n",
              "  <thead>\n",
              "    <tr style=\"text-align: right;\">\n",
              "      <th>nonmetro</th>\n",
              "      <th>0</th>\n",
              "      <th>1</th>\n",
              "    </tr>\n",
              "    <tr>\n",
              "      <th>nointernet</th>\n",
              "      <th></th>\n",
              "      <th></th>\n",
              "    </tr>\n",
              "  </thead>\n",
              "  <tbody>\n",
              "    <tr>\n",
              "      <th>0</th>\n",
              "      <td>0.904117</td>\n",
              "      <td>0.059603</td>\n",
              "    </tr>\n",
              "    <tr>\n",
              "      <th>1</th>\n",
              "      <td>0.030809</td>\n",
              "      <td>0.005471</td>\n",
              "    </tr>\n",
              "  </tbody>\n",
              "</table>\n",
              "</div>\n",
              "    <div class=\"colab-df-buttons\">\n",
              "\n",
              "  <div class=\"colab-df-container\">\n",
              "    <button class=\"colab-df-convert\" onclick=\"convertToInteractive('df-6f74cd2d-09a4-4dd5-9935-823f38cab0a7')\"\n",
              "            title=\"Convert this dataframe to an interactive table.\"\n",
              "            style=\"display:none;\">\n",
              "\n",
              "  <svg xmlns=\"http://www.w3.org/2000/svg\" height=\"24px\" viewBox=\"0 -960 960 960\">\n",
              "    <path d=\"M120-120v-720h720v720H120Zm60-500h600v-160H180v160Zm220 220h160v-160H400v160Zm0 220h160v-160H400v160ZM180-400h160v-160H180v160Zm440 0h160v-160H620v160ZM180-180h160v-160H180v160Zm440 0h160v-160H620v160Z\"/>\n",
              "  </svg>\n",
              "    </button>\n",
              "\n",
              "  <style>\n",
              "    .colab-df-container {\n",
              "      display:flex;\n",
              "      gap: 12px;\n",
              "    }\n",
              "\n",
              "    .colab-df-convert {\n",
              "      background-color: #E8F0FE;\n",
              "      border: none;\n",
              "      border-radius: 50%;\n",
              "      cursor: pointer;\n",
              "      display: none;\n",
              "      fill: #1967D2;\n",
              "      height: 32px;\n",
              "      padding: 0 0 0 0;\n",
              "      width: 32px;\n",
              "    }\n",
              "\n",
              "    .colab-df-convert:hover {\n",
              "      background-color: #E2EBFA;\n",
              "      box-shadow: 0px 1px 2px rgba(60, 64, 67, 0.3), 0px 1px 3px 1px rgba(60, 64, 67, 0.15);\n",
              "      fill: #174EA6;\n",
              "    }\n",
              "\n",
              "    .colab-df-buttons div {\n",
              "      margin-bottom: 4px;\n",
              "    }\n",
              "\n",
              "    [theme=dark] .colab-df-convert {\n",
              "      background-color: #3B4455;\n",
              "      fill: #D2E3FC;\n",
              "    }\n",
              "\n",
              "    [theme=dark] .colab-df-convert:hover {\n",
              "      background-color: #434B5C;\n",
              "      box-shadow: 0px 1px 3px 1px rgba(0, 0, 0, 0.15);\n",
              "      filter: drop-shadow(0px 1px 2px rgba(0, 0, 0, 0.3));\n",
              "      fill: #FFFFFF;\n",
              "    }\n",
              "  </style>\n",
              "\n",
              "    <script>\n",
              "      const buttonEl =\n",
              "        document.querySelector('#df-6f74cd2d-09a4-4dd5-9935-823f38cab0a7 button.colab-df-convert');\n",
              "      buttonEl.style.display =\n",
              "        google.colab.kernel.accessAllowed ? 'block' : 'none';\n",
              "\n",
              "      async function convertToInteractive(key) {\n",
              "        const element = document.querySelector('#df-6f74cd2d-09a4-4dd5-9935-823f38cab0a7');\n",
              "        const dataTable =\n",
              "          await google.colab.kernel.invokeFunction('convertToInteractive',\n",
              "                                                    [key], {});\n",
              "        if (!dataTable) return;\n",
              "\n",
              "        const docLinkHtml = 'Like what you see? Visit the ' +\n",
              "          '<a target=\"_blank\" href=https://colab.research.google.com/notebooks/data_table.ipynb>data table notebook</a>'\n",
              "          + ' to learn more about interactive tables.';\n",
              "        element.innerHTML = '';\n",
              "        dataTable['output_type'] = 'display_data';\n",
              "        await google.colab.output.renderOutput(dataTable, element);\n",
              "        const docLink = document.createElement('div');\n",
              "        docLink.innerHTML = docLinkHtml;\n",
              "        element.appendChild(docLink);\n",
              "      }\n",
              "    </script>\n",
              "  </div>\n",
              "\n",
              "\n",
              "<div id=\"df-0f7689e1-4166-4a16-8038-e5371a279816\">\n",
              "  <button class=\"colab-df-quickchart\" onclick=\"quickchart('df-0f7689e1-4166-4a16-8038-e5371a279816')\"\n",
              "            title=\"Suggest charts\"\n",
              "            style=\"display:none;\">\n",
              "\n",
              "<svg xmlns=\"http://www.w3.org/2000/svg\" height=\"24px\"viewBox=\"0 0 24 24\"\n",
              "     width=\"24px\">\n",
              "    <g>\n",
              "        <path d=\"M19 3H5c-1.1 0-2 .9-2 2v14c0 1.1.9 2 2 2h14c1.1 0 2-.9 2-2V5c0-1.1-.9-2-2-2zM9 17H7v-7h2v7zm4 0h-2V7h2v10zm4 0h-2v-4h2v4z\"/>\n",
              "    </g>\n",
              "</svg>\n",
              "  </button>\n",
              "\n",
              "<style>\n",
              "  .colab-df-quickchart {\n",
              "      --bg-color: #E8F0FE;\n",
              "      --fill-color: #1967D2;\n",
              "      --hover-bg-color: #E2EBFA;\n",
              "      --hover-fill-color: #174EA6;\n",
              "      --disabled-fill-color: #AAA;\n",
              "      --disabled-bg-color: #DDD;\n",
              "  }\n",
              "\n",
              "  [theme=dark] .colab-df-quickchart {\n",
              "      --bg-color: #3B4455;\n",
              "      --fill-color: #D2E3FC;\n",
              "      --hover-bg-color: #434B5C;\n",
              "      --hover-fill-color: #FFFFFF;\n",
              "      --disabled-bg-color: #3B4455;\n",
              "      --disabled-fill-color: #666;\n",
              "  }\n",
              "\n",
              "  .colab-df-quickchart {\n",
              "    background-color: var(--bg-color);\n",
              "    border: none;\n",
              "    border-radius: 50%;\n",
              "    cursor: pointer;\n",
              "    display: none;\n",
              "    fill: var(--fill-color);\n",
              "    height: 32px;\n",
              "    padding: 0;\n",
              "    width: 32px;\n",
              "  }\n",
              "\n",
              "  .colab-df-quickchart:hover {\n",
              "    background-color: var(--hover-bg-color);\n",
              "    box-shadow: 0 1px 2px rgba(60, 64, 67, 0.3), 0 1px 3px 1px rgba(60, 64, 67, 0.15);\n",
              "    fill: var(--button-hover-fill-color);\n",
              "  }\n",
              "\n",
              "  .colab-df-quickchart-complete:disabled,\n",
              "  .colab-df-quickchart-complete:disabled:hover {\n",
              "    background-color: var(--disabled-bg-color);\n",
              "    fill: var(--disabled-fill-color);\n",
              "    box-shadow: none;\n",
              "  }\n",
              "\n",
              "  .colab-df-spinner {\n",
              "    border: 2px solid var(--fill-color);\n",
              "    border-color: transparent;\n",
              "    border-bottom-color: var(--fill-color);\n",
              "    animation:\n",
              "      spin 1s steps(1) infinite;\n",
              "  }\n",
              "\n",
              "  @keyframes spin {\n",
              "    0% {\n",
              "      border-color: transparent;\n",
              "      border-bottom-color: var(--fill-color);\n",
              "      border-left-color: var(--fill-color);\n",
              "    }\n",
              "    20% {\n",
              "      border-color: transparent;\n",
              "      border-left-color: var(--fill-color);\n",
              "      border-top-color: var(--fill-color);\n",
              "    }\n",
              "    30% {\n",
              "      border-color: transparent;\n",
              "      border-left-color: var(--fill-color);\n",
              "      border-top-color: var(--fill-color);\n",
              "      border-right-color: var(--fill-color);\n",
              "    }\n",
              "    40% {\n",
              "      border-color: transparent;\n",
              "      border-right-color: var(--fill-color);\n",
              "      border-top-color: var(--fill-color);\n",
              "    }\n",
              "    60% {\n",
              "      border-color: transparent;\n",
              "      border-right-color: var(--fill-color);\n",
              "    }\n",
              "    80% {\n",
              "      border-color: transparent;\n",
              "      border-right-color: var(--fill-color);\n",
              "      border-bottom-color: var(--fill-color);\n",
              "    }\n",
              "    90% {\n",
              "      border-color: transparent;\n",
              "      border-bottom-color: var(--fill-color);\n",
              "    }\n",
              "  }\n",
              "</style>\n",
              "\n",
              "  <script>\n",
              "    async function quickchart(key) {\n",
              "      const quickchartButtonEl =\n",
              "        document.querySelector('#' + key + ' button');\n",
              "      quickchartButtonEl.disabled = true;  // To prevent multiple clicks.\n",
              "      quickchartButtonEl.classList.add('colab-df-spinner');\n",
              "      try {\n",
              "        const charts = await google.colab.kernel.invokeFunction(\n",
              "            'suggestCharts', [key], {});\n",
              "      } catch (error) {\n",
              "        console.error('Error during call to suggestCharts:', error);\n",
              "      }\n",
              "      quickchartButtonEl.classList.remove('colab-df-spinner');\n",
              "      quickchartButtonEl.classList.add('colab-df-quickchart-complete');\n",
              "    }\n",
              "    (() => {\n",
              "      let quickchartButtonEl =\n",
              "        document.querySelector('#df-0f7689e1-4166-4a16-8038-e5371a279816 button');\n",
              "      quickchartButtonEl.style.display =\n",
              "        google.colab.kernel.accessAllowed ? 'block' : 'none';\n",
              "    })();\n",
              "  </script>\n",
              "</div>\n",
              "\n",
              "    </div>\n",
              "  </div>\n"
            ],
            "application/vnd.google.colaboratory.intrinsic+json": {
              "type": "dataframe",
              "summary": "{\n  \"name\": \"pd\",\n  \"rows\": 2,\n  \"fields\": [\n    {\n      \"column\": \"nointernet\",\n      \"properties\": {\n        \"dtype\": \"number\",\n        \"std\": 0,\n        \"min\": 0,\n        \"max\": 1,\n        \"num_unique_values\": 2,\n        \"samples\": [\n          1,\n          0\n        ],\n        \"semantic_type\": \"\",\n        \"description\": \"\"\n      }\n    },\n    {\n      \"column\": 0,\n      \"properties\": {\n        \"dtype\": \"number\",\n        \"std\": 0.61752227680357,\n        \"min\": 0.03080909876187734,\n        \"max\": 0.9041174776849985,\n        \"num_unique_values\": 2,\n        \"samples\": [\n          0.03080909876187734,\n          0.9041174776849985\n        ],\n        \"semantic_type\": \"\",\n        \"description\": \"\"\n      }\n    },\n    {\n      \"column\": 1,\n      \"properties\": {\n        \"dtype\": \"number\",\n        \"std\": 0.03827701550909039,\n        \"min\": 0.005470774546501584,\n        \"max\": 0.059602649006622516,\n        \"num_unique_values\": 2,\n        \"samples\": [\n          0.005470774546501584,\n          0.059602649006622516\n        ],\n        \"semantic_type\": \"\",\n        \"description\": \"\"\n      }\n    }\n  ]\n}"
            }
          },
          "metadata": {},
          "execution_count": 14
        }
      ]
    },
    {
      "cell_type": "markdown",
      "source": [
        "Take (0.90 / 0.005) / (0.03 / 0.05) to calculate the odds ratio (1st set = numerator, 2nd = denominator)"
      ],
      "metadata": {
        "id": "veHt-0C3753X"
      }
    },
    {
      "cell_type": "code",
      "source": [
        "census_df['ownershp'].value_counts()"
      ],
      "metadata": {
        "colab": {
          "base_uri": "https://localhost:8080/",
          "height": 209
        },
        "id": "45lAxKS629ES",
        "outputId": "71817ee8-2c4b-48c5-f5c8-f6847a497399"
      },
      "execution_count": null,
      "outputs": [
        {
          "output_type": "execute_result",
          "data": {
            "text/plain": [
              "ownershp\n",
              "owned or being bought (loan)    6823\n",
              "rented                          2903\n",
              "n/a                              693\n",
              "Name: count, dtype: int64"
            ],
            "text/html": [
              "<div>\n",
              "<style scoped>\n",
              "    .dataframe tbody tr th:only-of-type {\n",
              "        vertical-align: middle;\n",
              "    }\n",
              "\n",
              "    .dataframe tbody tr th {\n",
              "        vertical-align: top;\n",
              "    }\n",
              "\n",
              "    .dataframe thead th {\n",
              "        text-align: right;\n",
              "    }\n",
              "</style>\n",
              "<table border=\"1\" class=\"dataframe\">\n",
              "  <thead>\n",
              "    <tr style=\"text-align: right;\">\n",
              "      <th></th>\n",
              "      <th>count</th>\n",
              "    </tr>\n",
              "    <tr>\n",
              "      <th>ownershp</th>\n",
              "      <th></th>\n",
              "    </tr>\n",
              "  </thead>\n",
              "  <tbody>\n",
              "    <tr>\n",
              "      <th>owned or being bought (loan)</th>\n",
              "      <td>6823</td>\n",
              "    </tr>\n",
              "    <tr>\n",
              "      <th>rented</th>\n",
              "      <td>2903</td>\n",
              "    </tr>\n",
              "    <tr>\n",
              "      <th>n/a</th>\n",
              "      <td>693</td>\n",
              "    </tr>\n",
              "  </tbody>\n",
              "</table>\n",
              "</div><br><label><b>dtype:</b> int64</label>"
            ]
          },
          "metadata": {},
          "execution_count": 12
        }
      ]
    },
    {
      "cell_type": "code",
      "source": [
        "# Marking n/a as missing\n",
        "# Create binary w/ 1s & 0s to use for odds and fischer test\n",
        "census_df['ownershpr'] = np.where(census_df['ownershp'] == 'n/a', np.nan, census_df['ownershp'])\n",
        "census_df['renter'] = np.where(census_df['ownershpr'] == 'rented', 1, 0)\n"
      ],
      "metadata": {
        "id": "TepXnraB3LeI"
      },
      "execution_count": null,
      "outputs": []
    },
    {
      "cell_type": "code",
      "source": [
        "# Predict no internet but with home ownership\n",
        "table1 = pd.crosstab(census_df['nointernet'], census_df['renter'], dropna=False)\n",
        "odds1 = odds_ratio(table1) # calculates odds ratio\n",
        "fisher1 = fisher_exact(table1)\n",
        "\n",
        "print(f'The odds that a renter household will not have internet access are {odds1.statistic:.2f}.')\n",
        "print(f'The significance of the Fisher exact test is less than {fisher1.pvalue:.2e}.')\n",
        "pd.crosstab(census_df['nointernet'], census_df['renter'], dropna=False, normalize=True)"
      ],
      "metadata": {
        "colab": {
          "base_uri": "https://localhost:8080/",
          "height": 178
        },
        "outputId": "0cb55f2c-5737-4691-d3a9-d9178a25ac1d",
        "id": "fhZYc3sy3qPg"
      },
      "execution_count": null,
      "outputs": [
        {
          "output_type": "stream",
          "name": "stdout",
          "text": [
            "The odds that a renter household will not have internet access are 2.39.\n",
            "The significance of the Fisher exact test is less than 6.57e-16.\n"
          ]
        },
        {
          "output_type": "execute_result",
          "data": {
            "text/plain": [
              "renter             0         1\n",
              "nointernet                    \n",
              "0           0.702179  0.261541\n",
              "1           0.019196  0.017084"
            ],
            "text/html": [
              "\n",
              "  <div id=\"df-e741c5e2-42de-4b77-b842-bbd65a868a3c\" class=\"colab-df-container\">\n",
              "    <div>\n",
              "<style scoped>\n",
              "    .dataframe tbody tr th:only-of-type {\n",
              "        vertical-align: middle;\n",
              "    }\n",
              "\n",
              "    .dataframe tbody tr th {\n",
              "        vertical-align: top;\n",
              "    }\n",
              "\n",
              "    .dataframe thead th {\n",
              "        text-align: right;\n",
              "    }\n",
              "</style>\n",
              "<table border=\"1\" class=\"dataframe\">\n",
              "  <thead>\n",
              "    <tr style=\"text-align: right;\">\n",
              "      <th>renter</th>\n",
              "      <th>0</th>\n",
              "      <th>1</th>\n",
              "    </tr>\n",
              "    <tr>\n",
              "      <th>nointernet</th>\n",
              "      <th></th>\n",
              "      <th></th>\n",
              "    </tr>\n",
              "  </thead>\n",
              "  <tbody>\n",
              "    <tr>\n",
              "      <th>0</th>\n",
              "      <td>0.702179</td>\n",
              "      <td>0.261541</td>\n",
              "    </tr>\n",
              "    <tr>\n",
              "      <th>1</th>\n",
              "      <td>0.019196</td>\n",
              "      <td>0.017084</td>\n",
              "    </tr>\n",
              "  </tbody>\n",
              "</table>\n",
              "</div>\n",
              "    <div class=\"colab-df-buttons\">\n",
              "\n",
              "  <div class=\"colab-df-container\">\n",
              "    <button class=\"colab-df-convert\" onclick=\"convertToInteractive('df-e741c5e2-42de-4b77-b842-bbd65a868a3c')\"\n",
              "            title=\"Convert this dataframe to an interactive table.\"\n",
              "            style=\"display:none;\">\n",
              "\n",
              "  <svg xmlns=\"http://www.w3.org/2000/svg\" height=\"24px\" viewBox=\"0 -960 960 960\">\n",
              "    <path d=\"M120-120v-720h720v720H120Zm60-500h600v-160H180v160Zm220 220h160v-160H400v160Zm0 220h160v-160H400v160ZM180-400h160v-160H180v160Zm440 0h160v-160H620v160ZM180-180h160v-160H180v160Zm440 0h160v-160H620v160Z\"/>\n",
              "  </svg>\n",
              "    </button>\n",
              "\n",
              "  <style>\n",
              "    .colab-df-container {\n",
              "      display:flex;\n",
              "      gap: 12px;\n",
              "    }\n",
              "\n",
              "    .colab-df-convert {\n",
              "      background-color: #E8F0FE;\n",
              "      border: none;\n",
              "      border-radius: 50%;\n",
              "      cursor: pointer;\n",
              "      display: none;\n",
              "      fill: #1967D2;\n",
              "      height: 32px;\n",
              "      padding: 0 0 0 0;\n",
              "      width: 32px;\n",
              "    }\n",
              "\n",
              "    .colab-df-convert:hover {\n",
              "      background-color: #E2EBFA;\n",
              "      box-shadow: 0px 1px 2px rgba(60, 64, 67, 0.3), 0px 1px 3px 1px rgba(60, 64, 67, 0.15);\n",
              "      fill: #174EA6;\n",
              "    }\n",
              "\n",
              "    .colab-df-buttons div {\n",
              "      margin-bottom: 4px;\n",
              "    }\n",
              "\n",
              "    [theme=dark] .colab-df-convert {\n",
              "      background-color: #3B4455;\n",
              "      fill: #D2E3FC;\n",
              "    }\n",
              "\n",
              "    [theme=dark] .colab-df-convert:hover {\n",
              "      background-color: #434B5C;\n",
              "      box-shadow: 0px 1px 3px 1px rgba(0, 0, 0, 0.15);\n",
              "      filter: drop-shadow(0px 1px 2px rgba(0, 0, 0, 0.3));\n",
              "      fill: #FFFFFF;\n",
              "    }\n",
              "  </style>\n",
              "\n",
              "    <script>\n",
              "      const buttonEl =\n",
              "        document.querySelector('#df-e741c5e2-42de-4b77-b842-bbd65a868a3c button.colab-df-convert');\n",
              "      buttonEl.style.display =\n",
              "        google.colab.kernel.accessAllowed ? 'block' : 'none';\n",
              "\n",
              "      async function convertToInteractive(key) {\n",
              "        const element = document.querySelector('#df-e741c5e2-42de-4b77-b842-bbd65a868a3c');\n",
              "        const dataTable =\n",
              "          await google.colab.kernel.invokeFunction('convertToInteractive',\n",
              "                                                    [key], {});\n",
              "        if (!dataTable) return;\n",
              "\n",
              "        const docLinkHtml = 'Like what you see? Visit the ' +\n",
              "          '<a target=\"_blank\" href=https://colab.research.google.com/notebooks/data_table.ipynb>data table notebook</a>'\n",
              "          + ' to learn more about interactive tables.';\n",
              "        element.innerHTML = '';\n",
              "        dataTable['output_type'] = 'display_data';\n",
              "        await google.colab.output.renderOutput(dataTable, element);\n",
              "        const docLink = document.createElement('div');\n",
              "        docLink.innerHTML = docLinkHtml;\n",
              "        element.appendChild(docLink);\n",
              "      }\n",
              "    </script>\n",
              "  </div>\n",
              "\n",
              "\n",
              "<div id=\"df-0117d131-8f67-41e9-95bc-7817a3fa4699\">\n",
              "  <button class=\"colab-df-quickchart\" onclick=\"quickchart('df-0117d131-8f67-41e9-95bc-7817a3fa4699')\"\n",
              "            title=\"Suggest charts\"\n",
              "            style=\"display:none;\">\n",
              "\n",
              "<svg xmlns=\"http://www.w3.org/2000/svg\" height=\"24px\"viewBox=\"0 0 24 24\"\n",
              "     width=\"24px\">\n",
              "    <g>\n",
              "        <path d=\"M19 3H5c-1.1 0-2 .9-2 2v14c0 1.1.9 2 2 2h14c1.1 0 2-.9 2-2V5c0-1.1-.9-2-2-2zM9 17H7v-7h2v7zm4 0h-2V7h2v10zm4 0h-2v-4h2v4z\"/>\n",
              "    </g>\n",
              "</svg>\n",
              "  </button>\n",
              "\n",
              "<style>\n",
              "  .colab-df-quickchart {\n",
              "      --bg-color: #E8F0FE;\n",
              "      --fill-color: #1967D2;\n",
              "      --hover-bg-color: #E2EBFA;\n",
              "      --hover-fill-color: #174EA6;\n",
              "      --disabled-fill-color: #AAA;\n",
              "      --disabled-bg-color: #DDD;\n",
              "  }\n",
              "\n",
              "  [theme=dark] .colab-df-quickchart {\n",
              "      --bg-color: #3B4455;\n",
              "      --fill-color: #D2E3FC;\n",
              "      --hover-bg-color: #434B5C;\n",
              "      --hover-fill-color: #FFFFFF;\n",
              "      --disabled-bg-color: #3B4455;\n",
              "      --disabled-fill-color: #666;\n",
              "  }\n",
              "\n",
              "  .colab-df-quickchart {\n",
              "    background-color: var(--bg-color);\n",
              "    border: none;\n",
              "    border-radius: 50%;\n",
              "    cursor: pointer;\n",
              "    display: none;\n",
              "    fill: var(--fill-color);\n",
              "    height: 32px;\n",
              "    padding: 0;\n",
              "    width: 32px;\n",
              "  }\n",
              "\n",
              "  .colab-df-quickchart:hover {\n",
              "    background-color: var(--hover-bg-color);\n",
              "    box-shadow: 0 1px 2px rgba(60, 64, 67, 0.3), 0 1px 3px 1px rgba(60, 64, 67, 0.15);\n",
              "    fill: var(--button-hover-fill-color);\n",
              "  }\n",
              "\n",
              "  .colab-df-quickchart-complete:disabled,\n",
              "  .colab-df-quickchart-complete:disabled:hover {\n",
              "    background-color: var(--disabled-bg-color);\n",
              "    fill: var(--disabled-fill-color);\n",
              "    box-shadow: none;\n",
              "  }\n",
              "\n",
              "  .colab-df-spinner {\n",
              "    border: 2px solid var(--fill-color);\n",
              "    border-color: transparent;\n",
              "    border-bottom-color: var(--fill-color);\n",
              "    animation:\n",
              "      spin 1s steps(1) infinite;\n",
              "  }\n",
              "\n",
              "  @keyframes spin {\n",
              "    0% {\n",
              "      border-color: transparent;\n",
              "      border-bottom-color: var(--fill-color);\n",
              "      border-left-color: var(--fill-color);\n",
              "    }\n",
              "    20% {\n",
              "      border-color: transparent;\n",
              "      border-left-color: var(--fill-color);\n",
              "      border-top-color: var(--fill-color);\n",
              "    }\n",
              "    30% {\n",
              "      border-color: transparent;\n",
              "      border-left-color: var(--fill-color);\n",
              "      border-top-color: var(--fill-color);\n",
              "      border-right-color: var(--fill-color);\n",
              "    }\n",
              "    40% {\n",
              "      border-color: transparent;\n",
              "      border-right-color: var(--fill-color);\n",
              "      border-top-color: var(--fill-color);\n",
              "    }\n",
              "    60% {\n",
              "      border-color: transparent;\n",
              "      border-right-color: var(--fill-color);\n",
              "    }\n",
              "    80% {\n",
              "      border-color: transparent;\n",
              "      border-right-color: var(--fill-color);\n",
              "      border-bottom-color: var(--fill-color);\n",
              "    }\n",
              "    90% {\n",
              "      border-color: transparent;\n",
              "      border-bottom-color: var(--fill-color);\n",
              "    }\n",
              "  }\n",
              "</style>\n",
              "\n",
              "  <script>\n",
              "    async function quickchart(key) {\n",
              "      const quickchartButtonEl =\n",
              "        document.querySelector('#' + key + ' button');\n",
              "      quickchartButtonEl.disabled = true;  // To prevent multiple clicks.\n",
              "      quickchartButtonEl.classList.add('colab-df-spinner');\n",
              "      try {\n",
              "        const charts = await google.colab.kernel.invokeFunction(\n",
              "            'suggestCharts', [key], {});\n",
              "      } catch (error) {\n",
              "        console.error('Error during call to suggestCharts:', error);\n",
              "      }\n",
              "      quickchartButtonEl.classList.remove('colab-df-spinner');\n",
              "      quickchartButtonEl.classList.add('colab-df-quickchart-complete');\n",
              "    }\n",
              "    (() => {\n",
              "      let quickchartButtonEl =\n",
              "        document.querySelector('#df-0117d131-8f67-41e9-95bc-7817a3fa4699 button');\n",
              "      quickchartButtonEl.style.display =\n",
              "        google.colab.kernel.accessAllowed ? 'block' : 'none';\n",
              "    })();\n",
              "  </script>\n",
              "</div>\n",
              "\n",
              "    </div>\n",
              "  </div>\n"
            ],
            "application/vnd.google.colaboratory.intrinsic+json": {
              "type": "dataframe",
              "summary": "{\n  \"name\": \"pd\",\n  \"rows\": 2,\n  \"fields\": [\n    {\n      \"column\": \"nointernet\",\n      \"properties\": {\n        \"dtype\": \"number\",\n        \"std\": 0,\n        \"min\": 0,\n        \"max\": 1,\n        \"num_unique_values\": 2,\n        \"samples\": [\n          1,\n          0\n        ],\n        \"semantic_type\": \"\",\n        \"description\": \"\"\n      }\n    },\n    {\n      \"column\": 0,\n      \"properties\": {\n        \"dtype\": \"number\",\n        \"std\": 0.4829419190827787,\n        \"min\": 0.01919570016316345,\n        \"max\": 0.702178711968519,\n        \"num_unique_values\": 2,\n        \"samples\": [\n          0.01919570016316345,\n          0.702178711968519\n        ],\n        \"semantic_type\": \"\",\n        \"description\": \"\"\n      }\n    },\n    {\n      \"column\": 1,\n      \"properties\": {\n        \"dtype\": \"number\",\n        \"std\": 0.17285737322988162,\n        \"min\": 0.017084173145215473,\n        \"max\": 0.26154141472310205,\n        \"num_unique_values\": 2,\n        \"samples\": [\n          0.017084173145215473,\n          0.26154141472310205\n        ],\n        \"semantic_type\": \"\",\n        \"description\": \"\"\n      }\n    }\n  ]\n}"
            }
          },
          "metadata": {},
          "execution_count": 13
        }
      ]
    },
    {
      "cell_type": "markdown",
      "source": [
        "## **Being rural and a renter contributes to not having home Internet access**"
      ],
      "metadata": {
        "id": "sE0eD_zJ8n_b"
      }
    },
    {
      "cell_type": "code",
      "source": [
        "# Includes the intercept (0) b/c it's meaningful (being a homeowner and living in a metro area)\n",
        "import statsmodels.api as sm\n",
        "\n",
        "Y = census_df['renter']\n",
        "X = census_df[['nonmetro', 'muladultgen']]\n",
        "X = sm.add_constant(X)\n",
        "model1 = sm.Logit(Y, X, missing='drop').fit()\n",
        "print(model1.summary())\n",
        "\n",
        "# We add a constant in this logit model because with categorical data\n",
        "# the intercept is often meaningful: the odds of being in Y=1\n",
        "# (in this case, having a multi generational adult household) when the value of all Xs\n",
        "# is set to zero (in this case, not being nonmetro or not being a renter).\n"
      ],
      "metadata": {
        "colab": {
          "base_uri": "https://localhost:8080/"
        },
        "id": "sZVxm9D85qXa",
        "outputId": "00156676-77e3-4c60-e3fe-3017b58c202b"
      },
      "execution_count": null,
      "outputs": [
        {
          "output_type": "stream",
          "name": "stdout",
          "text": [
            "Optimization terminated successfully.\n",
            "         Current function value: 0.150429\n",
            "         Iterations 8\n",
            "                           Logit Regression Results                           \n",
            "==============================================================================\n",
            "Dep. Variable:             nointernet   No. Observations:                10419\n",
            "Model:                          Logit   Df Residuals:                    10416\n",
            "Method:                           MLE   Df Model:                            2\n",
            "Date:                Wed, 27 Nov 2024   Pseudo R-squ.:                 0.03531\n",
            "Time:                        00:08:42   Log-Likelihood:                -1567.3\n",
            "converged:                       True   LL-Null:                       -1624.7\n",
            "Covariance Type:            nonrobust   LLR p-value:                 1.215e-25\n",
            "==============================================================================\n",
            "                 coef    std err          z      P>|z|      [0.025      0.975]\n",
            "------------------------------------------------------------------------------\n",
            "const         -3.7620      0.079    -47.907      0.000      -3.916      -3.608\n",
            "nonmetro       1.2054      0.153      7.858      0.000       0.905       1.506\n",
            "renter         0.9762      0.108      9.055      0.000       0.765       1.187\n",
            "==============================================================================\n"
          ]
        }
      ]
    },
    {
      "cell_type": "markdown",
      "source": [
        "- negative coeffiencies for constant = ppl who are metro living are less likely to not have internet\n",
        "\n"
      ],
      "metadata": {
        "id": "krv3rSD78v9u"
      }
    },
    {
      "cell_type": "code",
      "source": [
        "print(np.exp(model1.params)) #These are expressed as odds ratios"
      ],
      "metadata": {
        "colab": {
          "base_uri": "https://localhost:8080/"
        },
        "id": "-izVMG0jDQ4R",
        "outputId": "77fb7631-802f-4485-b3ae-cb840623d8d4"
      },
      "execution_count": null,
      "outputs": [
        {
          "output_type": "stream",
          "name": "stdout",
          "text": [
            "const       0.023237\n",
            "nonmetro    3.338005\n",
            "renter      2.654337\n",
            "dtype: float64\n"
          ]
        }
      ]
    },
    {
      "cell_type": "code",
      "source": [
        "import math\n",
        "print(f'The odds of having internet at home for people who live in cities and are homeowners is {1/math.exp(model1.params[0]):.3f}.')\n"
      ],
      "metadata": {
        "colab": {
          "base_uri": "https://localhost:8080/"
        },
        "id": "7DLmj1EbEQw5",
        "outputId": "39a52fde-052f-47a7-eb75-e221ca9112c2"
      },
      "execution_count": null,
      "outputs": [
        {
          "output_type": "stream",
          "name": "stdout",
          "text": [
            "The odds of having internet at home for people who live in cities and are homeowners is 43.035.\n"
          ]
        }
      ]
    },
    {
      "cell_type": "markdown",
      "source": [
        "## **The odds of having internet at home for people who live in cities and are homeowners is 43.035.**"
      ],
      "metadata": {
        "id": "vcBvXxKw9JY8"
      }
    },
    {
      "cell_type": "code",
      "source": [
        "# Used where to convert categories to binaries\n",
        "census_df['asian'] = np.where(census_df['racasian'] == 'yes', 1, 0)\n",
        "census_df['black'] = np.where(census_df['racblk'] == 'yes', 1, 0)\n",
        "\n"
      ],
      "metadata": {
        "id": "wrCS-76JCfEL"
      },
      "execution_count": null,
      "outputs": []
    },
    {
      "cell_type": "code",
      "source": [
        "Y = census_df['nointernet']\n",
        "X = census_df[['nonmetro', 'renter', 'asian', 'black']]\n",
        "X = sm.add_constant(X)\n",
        "model2 = sm.Logit(Y, X, missing='drop').fit()\n",
        "print(model2.summary())\n"
      ],
      "metadata": {
        "colab": {
          "base_uri": "https://localhost:8080/"
        },
        "outputId": "cc43af6b-eb93-4993-b950-b71965d618b9",
        "id": "AePQWyYlCKpY"
      },
      "execution_count": null,
      "outputs": [
        {
          "output_type": "stream",
          "name": "stdout",
          "text": [
            "Optimization terminated successfully.\n",
            "         Current function value: 0.149815\n",
            "         Iterations 8\n",
            "                           Logit Regression Results                           \n",
            "==============================================================================\n",
            "Dep. Variable:             nointernet   No. Observations:                10419\n",
            "Model:                          Logit   Df Residuals:                    10414\n",
            "Method:                           MLE   Df Model:                            4\n",
            "Date:                Wed, 27 Nov 2024   Pseudo R-squ.:                 0.03925\n",
            "Time:                        00:11:20   Log-Likelihood:                -1560.9\n",
            "converged:                       True   LL-Null:                       -1624.7\n",
            "Covariance Type:            nonrobust   LLR p-value:                 1.311e-26\n",
            "==============================================================================\n",
            "                 coef    std err          z      P>|z|      [0.025      0.975]\n",
            "------------------------------------------------------------------------------\n",
            "const         -3.6721      0.081    -45.082      0.000      -3.832      -3.512\n",
            "nonmetro       1.1160      0.155      7.199      0.000       0.812       1.420\n",
            "renter         1.0204      0.109      9.379      0.000       0.807       1.234\n",
            "asian         -0.6131      0.212     -2.886      0.004      -1.029      -0.197\n",
            "black         -0.3507      0.171     -2.055      0.040      -0.685      -0.016\n",
            "==============================================================================\n"
          ]
        }
      ]
    },
    {
      "cell_type": "code",
      "source": [
        "print(np.exp(model2.params)) #These are expressed as odds ratios"
      ],
      "metadata": {
        "colab": {
          "base_uri": "https://localhost:8080/"
        },
        "id": "jT0O0R0cEpZY",
        "outputId": "77c1362d-1d65-45bf-f015-44a87455b1c8"
      },
      "execution_count": null,
      "outputs": [
        {
          "output_type": "stream",
          "name": "stdout",
          "text": [
            "const       0.025423\n",
            "nonmetro    3.052631\n",
            "renter      2.774304\n",
            "asian       0.541695\n",
            "black       0.704220\n",
            "dtype: float64\n"
          ]
        }
      ]
    },
    {
      "cell_type": "markdown",
      "source": [
        "## Activity\n",
        "\n",
        "1. Get a data file from US Census. Download the SPSS or Stata file.\n",
        "2. Use odds to make some comparisons related to a data narrative.\n",
        "3. Construct a logistic model and interpret."
      ],
      "metadata": {
        "id": "1Fu04wHswQ69"
      }
    },
    {
      "cell_type": "code",
      "source": [],
      "metadata": {
        "id": "bscCvSIMyX-3"
      },
      "execution_count": null,
      "outputs": []
    }
  ]
}