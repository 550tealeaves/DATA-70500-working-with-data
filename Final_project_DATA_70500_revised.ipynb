{
  "nbformat": 4,
  "nbformat_minor": 0,
  "metadata": {
    "colab": {
      "provenance": [],
      "include_colab_link": true
    },
    "kernelspec": {
      "name": "python3",
      "display_name": "Python 3"
    }
  },
  "cells": [
    {
      "cell_type": "markdown",
      "metadata": {
        "id": "view-in-github",
        "colab_type": "text"
      },
      "source": [
        "<a href=\"https://colab.research.google.com/github/550tealeaves/DATA-70500-working-with-data/blob/main/Final_project_DATA_70500_revised.ipynb\" target=\"_parent\"><img src=\"https://colab.research.google.com/assets/colab-badge.svg\" alt=\"Open In Colab\"/></a>"
      ]
    },
    {
      "cell_type": "markdown",
      "metadata": {
        "id": "B7x3pm-Gy9VQ"
      },
      "source": [
        "# **Final Analysis using the American Trends Panel W124, by Pew Research Survey Data**\n",
        "\n"
      ]
    },
    {
      "cell_type": "markdown",
      "source": [
        "### (1) Install libraries and read in the dataset"
      ],
      "metadata": {
        "id": "q4ypUDw7vBgp"
      }
    },
    {
      "cell_type": "code",
      "metadata": {
        "id": "2n7jYpLszp7v",
        "colab": {
          "base_uri": "https://localhost:8080/"
        },
        "outputId": "6be25327-bbe1-4b92-d09d-c9eaaad0b730"
      },
      "source": [
        "# Code block 1ab: Installing some libraries\n",
        "!pip install pyreadstat\n",
        "!pip install researchpy"
      ],
      "execution_count": null,
      "outputs": [
        {
          "output_type": "stream",
          "name": "stdout",
          "text": [
            "Collecting pyreadstat\n",
            "  Downloading pyreadstat-1.2.8-cp310-cp310-manylinux_2_17_x86_64.manylinux2014_x86_64.whl.metadata (1.0 kB)\n",
            "Requirement already satisfied: pandas>=1.2.0 in /usr/local/lib/python3.10/dist-packages (from pyreadstat) (2.2.2)\n",
            "Requirement already satisfied: numpy>=1.22.4 in /usr/local/lib/python3.10/dist-packages (from pandas>=1.2.0->pyreadstat) (1.26.4)\n",
            "Requirement already satisfied: python-dateutil>=2.8.2 in /usr/local/lib/python3.10/dist-packages (from pandas>=1.2.0->pyreadstat) (2.8.2)\n",
            "Requirement already satisfied: pytz>=2020.1 in /usr/local/lib/python3.10/dist-packages (from pandas>=1.2.0->pyreadstat) (2024.2)\n",
            "Requirement already satisfied: tzdata>=2022.7 in /usr/local/lib/python3.10/dist-packages (from pandas>=1.2.0->pyreadstat) (2024.2)\n",
            "Requirement already satisfied: six>=1.5 in /usr/local/lib/python3.10/dist-packages (from python-dateutil>=2.8.2->pandas>=1.2.0->pyreadstat) (1.17.0)\n",
            "Downloading pyreadstat-1.2.8-cp310-cp310-manylinux_2_17_x86_64.manylinux2014_x86_64.whl (2.8 MB)\n",
            "\u001b[2K   \u001b[90m━━━━━━━━━━━━━━━━━━━━━━━━━━━━━━━━━━━━━━━━\u001b[0m \u001b[32m2.8/2.8 MB\u001b[0m \u001b[31m24.7 MB/s\u001b[0m eta \u001b[36m0:00:00\u001b[0m\n",
            "\u001b[?25hInstalling collected packages: pyreadstat\n",
            "Successfully installed pyreadstat-1.2.8\n",
            "Collecting researchpy\n",
            "  Downloading researchpy-0.3.6-py3-none-any.whl.metadata (1.2 kB)\n",
            "Requirement already satisfied: scipy in /usr/local/lib/python3.10/dist-packages (from researchpy) (1.13.1)\n",
            "Requirement already satisfied: numpy in /usr/local/lib/python3.10/dist-packages (from researchpy) (1.26.4)\n",
            "Requirement already satisfied: pandas in /usr/local/lib/python3.10/dist-packages (from researchpy) (2.2.2)\n",
            "Requirement already satisfied: statsmodels in /usr/local/lib/python3.10/dist-packages (from researchpy) (0.14.4)\n",
            "Requirement already satisfied: patsy in /usr/local/lib/python3.10/dist-packages (from researchpy) (1.0.1)\n",
            "Requirement already satisfied: python-dateutil>=2.8.2 in /usr/local/lib/python3.10/dist-packages (from pandas->researchpy) (2.8.2)\n",
            "Requirement already satisfied: pytz>=2020.1 in /usr/local/lib/python3.10/dist-packages (from pandas->researchpy) (2024.2)\n",
            "Requirement already satisfied: tzdata>=2022.7 in /usr/local/lib/python3.10/dist-packages (from pandas->researchpy) (2024.2)\n",
            "Requirement already satisfied: packaging>=21.3 in /usr/local/lib/python3.10/dist-packages (from statsmodels->researchpy) (24.2)\n",
            "Requirement already satisfied: six>=1.5 in /usr/local/lib/python3.10/dist-packages (from python-dateutil>=2.8.2->pandas->researchpy) (1.17.0)\n",
            "Downloading researchpy-0.3.6-py3-none-any.whl (34 kB)\n",
            "Installing collected packages: researchpy\n",
            "Successfully installed researchpy-0.3.6\n"
          ]
        }
      ]
    },
    {
      "cell_type": "code",
      "metadata": {
        "id": "_RyteGo3yH32"
      },
      "source": [
        "# Code block 1b: Libraries - will use the CategoricalDtype for ordinal variables\n",
        "import numpy as np\n",
        "import pandas as pd\n",
        "import statsmodels.api as sm\n",
        "import seaborn as sb\n",
        "import math\n",
        "import matplotlib.pyplot as plt\n",
        "import researchpy as rp\n",
        "from pandas.api.types import CategoricalDtype"
      ],
      "execution_count": null,
      "outputs": []
    },
    {
      "cell_type": "markdown",
      "metadata": {
        "id": "5ZSGoHi03knH"
      },
      "source": [
        "You can download the data from the Pew Center, https://www.pewresearch.org/science/datasets/ and then copy the files to your Drive and read the data into your notebook.\n",
        "\n",
        "For this assignment, we will use the American Trends Panel Wave 124 - https://www.pewresearch.org/dataset/american-trends-panel-wave-124/\n",
        "The data download includes a codebook for the survey, a methodology of the collection process, the questionnaire in PDF form in this case, and a README file that contains recent research released using that dataset.\n"
      ]
    },
    {
      "cell_type": "code",
      "metadata": {
        "id": "arrvvTKEzSFQ"
      },
      "source": [
        "# Code block 2: Reading in data\n",
        "# Use read_spss to read the SPSS file into a new data object.\n",
        "\n",
        "ATPW124_df = pd.read_spss('ATP W124.sav')"
      ],
      "execution_count": null,
      "outputs": []
    },
    {
      "cell_type": "markdown",
      "source": [
        "### Both SPSS & STATA combine numeric representation of data & the data labels value labels\n",
        "\n",
        "- SPSS & STATA can separate data in the spreadsheet, but pandas can't\n",
        "\n",
        "- Must make a choice - do we keep the numbers or do we keep the labels?\n",
        "- Default view of SPSS is to convert categorical variables (vars w/ labels) into categorical objects w/in dataframe, rather than numbers to discard the #s & just keep the labels\n",
        "- Strings refer to the name of the category"
      ],
      "metadata": {
        "id": "N87IRlKnolPl"
      }
    },
    {
      "cell_type": "markdown",
      "source": [
        "### (2) Inspect variables to ensure dataset was loaded properly"
      ],
      "metadata": {
        "id": "7hhAYiW8vjP3"
      }
    },
    {
      "cell_type": "code",
      "metadata": {
        "id": "opw55JG_6yCa",
        "colab": {
          "base_uri": "https://localhost:8080/",
          "height": 603
        },
        "outputId": "6090d9fa-1858-4c06-8741-e386cad64b31"
      },
      "source": [
        "ATPW124_df.head()"
      ],
      "execution_count": null,
      "outputs": [
        {
          "output_type": "execute_result",
          "data": {
            "text/plain": [
              "       QKEY INTERVIEW_START_W124  INTERVIEW_END_W124 DEVICE_TYPE_W124  \\\n",
              "0  100598.0  2023-03-23 13:25:24 2023-03-23 13:41:43        Laptop/PC   \n",
              "1  101493.0  2023-03-21 15:55:04 2023-03-23 15:40:38        Laptop/PC   \n",
              "2  102198.0  2023-03-22 08:42:42 2023-03-22 08:53:18        Laptop/PC   \n",
              "3  106180.0  2023-03-21 16:16:59 2023-03-21 16:38:20        Laptop/PC   \n",
              "4  108348.0  2023-03-25 18:48:43 2023-03-25 19:01:10        Laptop/PC   \n",
              "\n",
              "  LANG_W124 FORM_W124        XW122NONRESP_W124  ECON_SIT_W124  \\\n",
              "0   English    Form 2  Did not respond to W122  Somewhat good   \n",
              "1   English    Form 2  Did not respond to W122       Very bad   \n",
              "2   English    Form 1  Did not respond to W122   Somewhat bad   \n",
              "3   English    Form 2  Did not respond to W122       Very bad   \n",
              "4   English    Form 2  Did not respond to W122   Somewhat bad   \n",
              "\n",
              "  SATISFIED_DEMOCRACY_W124         FAV_US_W124  ...       F_PARTYLN_FINAL  \\\n",
              "0        Not too satisfied  Somewhat favorable  ...                   NaN   \n",
              "1     Not at all satisfied    Very unfavorable  ...                   NaN   \n",
              "2        Not too satisfied      Very favorable  ...                   NaN   \n",
              "3     Not at all satisfied  Somewhat favorable  ...                   NaN   \n",
              "4       Somewhat satisfied  Somewhat favorable  ...  The Republican Party   \n",
              "\n",
              "  F_PARTYSUM_FINAL   F_PARTYSUMIDEO_FINAL  \\\n",
              "0     Rep/Lean Rep  Conservative Rep/Lean   \n",
              "1     Rep/Lean Rep  Conservative Rep/Lean   \n",
              "2     Rep/Lean Rep  Conservative Rep/Lean   \n",
              "3     Rep/Lean Rep  Conservative Rep/Lean   \n",
              "4     Rep/Lean Rep  Conservative Rep/Lean   \n",
              "\n",
              "                                               F_REG  \\\n",
              "0  You are ABSOLUTELY CERTAIN that you are regist...   \n",
              "1  You are ABSOLUTELY CERTAIN that you are regist...   \n",
              "2  You are ABSOLUTELY CERTAIN that you are regist...   \n",
              "3  You are ABSOLUTELY CERTAIN that you are regist...   \n",
              "4  You are ABSOLUTELY CERTAIN that you are regist...   \n",
              "\n",
              "                      F_INC_SDT1             F_IDEO            F_INTFREQ  \\\n",
              "0               $100,000 or more       Conservative  Several times a day   \n",
              "1   $80,000 to less than $90,000       Conservative  Several times a day   \n",
              "2  $90,000 to less than $100,000       Conservative    Almost constantly   \n",
              "3               $100,000 or more  Very conservative  Several times a day   \n",
              "4   $40,000 to less than $50,000       Conservative  Several times a day   \n",
              "\n",
              "  F_VOLSUM    F_INC_TIER2 WEIGHT_W124  \n",
              "0      Yes   Upper income    0.958677  \n",
              "1       No  Middle income    0.161169  \n",
              "2      Yes  Middle income    1.131682  \n",
              "3      Yes  Middle income    0.844816  \n",
              "4       No  Middle income    1.321044  \n",
              "\n",
              "[5 rows x 154 columns]"
            ],
            "text/html": [
              "\n",
              "  <div id=\"df-a110d0da-5473-49cb-b932-cda848c61f34\" class=\"colab-df-container\">\n",
              "    <div>\n",
              "<style scoped>\n",
              "    .dataframe tbody tr th:only-of-type {\n",
              "        vertical-align: middle;\n",
              "    }\n",
              "\n",
              "    .dataframe tbody tr th {\n",
              "        vertical-align: top;\n",
              "    }\n",
              "\n",
              "    .dataframe thead th {\n",
              "        text-align: right;\n",
              "    }\n",
              "</style>\n",
              "<table border=\"1\" class=\"dataframe\">\n",
              "  <thead>\n",
              "    <tr style=\"text-align: right;\">\n",
              "      <th></th>\n",
              "      <th>QKEY</th>\n",
              "      <th>INTERVIEW_START_W124</th>\n",
              "      <th>INTERVIEW_END_W124</th>\n",
              "      <th>DEVICE_TYPE_W124</th>\n",
              "      <th>LANG_W124</th>\n",
              "      <th>FORM_W124</th>\n",
              "      <th>XW122NONRESP_W124</th>\n",
              "      <th>ECON_SIT_W124</th>\n",
              "      <th>SATISFIED_DEMOCRACY_W124</th>\n",
              "      <th>FAV_US_W124</th>\n",
              "      <th>...</th>\n",
              "      <th>F_PARTYLN_FINAL</th>\n",
              "      <th>F_PARTYSUM_FINAL</th>\n",
              "      <th>F_PARTYSUMIDEO_FINAL</th>\n",
              "      <th>F_REG</th>\n",
              "      <th>F_INC_SDT1</th>\n",
              "      <th>F_IDEO</th>\n",
              "      <th>F_INTFREQ</th>\n",
              "      <th>F_VOLSUM</th>\n",
              "      <th>F_INC_TIER2</th>\n",
              "      <th>WEIGHT_W124</th>\n",
              "    </tr>\n",
              "  </thead>\n",
              "  <tbody>\n",
              "    <tr>\n",
              "      <th>0</th>\n",
              "      <td>100598.0</td>\n",
              "      <td>2023-03-23 13:25:24</td>\n",
              "      <td>2023-03-23 13:41:43</td>\n",
              "      <td>Laptop/PC</td>\n",
              "      <td>English</td>\n",
              "      <td>Form 2</td>\n",
              "      <td>Did not respond to W122</td>\n",
              "      <td>Somewhat good</td>\n",
              "      <td>Not too satisfied</td>\n",
              "      <td>Somewhat favorable</td>\n",
              "      <td>...</td>\n",
              "      <td>NaN</td>\n",
              "      <td>Rep/Lean Rep</td>\n",
              "      <td>Conservative Rep/Lean</td>\n",
              "      <td>You are ABSOLUTELY CERTAIN that you are regist...</td>\n",
              "      <td>$100,000 or more</td>\n",
              "      <td>Conservative</td>\n",
              "      <td>Several times a day</td>\n",
              "      <td>Yes</td>\n",
              "      <td>Upper income</td>\n",
              "      <td>0.958677</td>\n",
              "    </tr>\n",
              "    <tr>\n",
              "      <th>1</th>\n",
              "      <td>101493.0</td>\n",
              "      <td>2023-03-21 15:55:04</td>\n",
              "      <td>2023-03-23 15:40:38</td>\n",
              "      <td>Laptop/PC</td>\n",
              "      <td>English</td>\n",
              "      <td>Form 2</td>\n",
              "      <td>Did not respond to W122</td>\n",
              "      <td>Very bad</td>\n",
              "      <td>Not at all satisfied</td>\n",
              "      <td>Very unfavorable</td>\n",
              "      <td>...</td>\n",
              "      <td>NaN</td>\n",
              "      <td>Rep/Lean Rep</td>\n",
              "      <td>Conservative Rep/Lean</td>\n",
              "      <td>You are ABSOLUTELY CERTAIN that you are regist...</td>\n",
              "      <td>$80,000 to less than $90,000</td>\n",
              "      <td>Conservative</td>\n",
              "      <td>Several times a day</td>\n",
              "      <td>No</td>\n",
              "      <td>Middle income</td>\n",
              "      <td>0.161169</td>\n",
              "    </tr>\n",
              "    <tr>\n",
              "      <th>2</th>\n",
              "      <td>102198.0</td>\n",
              "      <td>2023-03-22 08:42:42</td>\n",
              "      <td>2023-03-22 08:53:18</td>\n",
              "      <td>Laptop/PC</td>\n",
              "      <td>English</td>\n",
              "      <td>Form 1</td>\n",
              "      <td>Did not respond to W122</td>\n",
              "      <td>Somewhat bad</td>\n",
              "      <td>Not too satisfied</td>\n",
              "      <td>Very favorable</td>\n",
              "      <td>...</td>\n",
              "      <td>NaN</td>\n",
              "      <td>Rep/Lean Rep</td>\n",
              "      <td>Conservative Rep/Lean</td>\n",
              "      <td>You are ABSOLUTELY CERTAIN that you are regist...</td>\n",
              "      <td>$90,000 to less than $100,000</td>\n",
              "      <td>Conservative</td>\n",
              "      <td>Almost constantly</td>\n",
              "      <td>Yes</td>\n",
              "      <td>Middle income</td>\n",
              "      <td>1.131682</td>\n",
              "    </tr>\n",
              "    <tr>\n",
              "      <th>3</th>\n",
              "      <td>106180.0</td>\n",
              "      <td>2023-03-21 16:16:59</td>\n",
              "      <td>2023-03-21 16:38:20</td>\n",
              "      <td>Laptop/PC</td>\n",
              "      <td>English</td>\n",
              "      <td>Form 2</td>\n",
              "      <td>Did not respond to W122</td>\n",
              "      <td>Very bad</td>\n",
              "      <td>Not at all satisfied</td>\n",
              "      <td>Somewhat favorable</td>\n",
              "      <td>...</td>\n",
              "      <td>NaN</td>\n",
              "      <td>Rep/Lean Rep</td>\n",
              "      <td>Conservative Rep/Lean</td>\n",
              "      <td>You are ABSOLUTELY CERTAIN that you are regist...</td>\n",
              "      <td>$100,000 or more</td>\n",
              "      <td>Very conservative</td>\n",
              "      <td>Several times a day</td>\n",
              "      <td>Yes</td>\n",
              "      <td>Middle income</td>\n",
              "      <td>0.844816</td>\n",
              "    </tr>\n",
              "    <tr>\n",
              "      <th>4</th>\n",
              "      <td>108348.0</td>\n",
              "      <td>2023-03-25 18:48:43</td>\n",
              "      <td>2023-03-25 19:01:10</td>\n",
              "      <td>Laptop/PC</td>\n",
              "      <td>English</td>\n",
              "      <td>Form 2</td>\n",
              "      <td>Did not respond to W122</td>\n",
              "      <td>Somewhat bad</td>\n",
              "      <td>Somewhat satisfied</td>\n",
              "      <td>Somewhat favorable</td>\n",
              "      <td>...</td>\n",
              "      <td>The Republican Party</td>\n",
              "      <td>Rep/Lean Rep</td>\n",
              "      <td>Conservative Rep/Lean</td>\n",
              "      <td>You are ABSOLUTELY CERTAIN that you are regist...</td>\n",
              "      <td>$40,000 to less than $50,000</td>\n",
              "      <td>Conservative</td>\n",
              "      <td>Several times a day</td>\n",
              "      <td>No</td>\n",
              "      <td>Middle income</td>\n",
              "      <td>1.321044</td>\n",
              "    </tr>\n",
              "  </tbody>\n",
              "</table>\n",
              "<p>5 rows × 154 columns</p>\n",
              "</div>\n",
              "    <div class=\"colab-df-buttons\">\n",
              "\n",
              "  <div class=\"colab-df-container\">\n",
              "    <button class=\"colab-df-convert\" onclick=\"convertToInteractive('df-a110d0da-5473-49cb-b932-cda848c61f34')\"\n",
              "            title=\"Convert this dataframe to an interactive table.\"\n",
              "            style=\"display:none;\">\n",
              "\n",
              "  <svg xmlns=\"http://www.w3.org/2000/svg\" height=\"24px\" viewBox=\"0 -960 960 960\">\n",
              "    <path d=\"M120-120v-720h720v720H120Zm60-500h600v-160H180v160Zm220 220h160v-160H400v160Zm0 220h160v-160H400v160ZM180-400h160v-160H180v160Zm440 0h160v-160H620v160ZM180-180h160v-160H180v160Zm440 0h160v-160H620v160Z\"/>\n",
              "  </svg>\n",
              "    </button>\n",
              "\n",
              "  <style>\n",
              "    .colab-df-container {\n",
              "      display:flex;\n",
              "      gap: 12px;\n",
              "    }\n",
              "\n",
              "    .colab-df-convert {\n",
              "      background-color: #E8F0FE;\n",
              "      border: none;\n",
              "      border-radius: 50%;\n",
              "      cursor: pointer;\n",
              "      display: none;\n",
              "      fill: #1967D2;\n",
              "      height: 32px;\n",
              "      padding: 0 0 0 0;\n",
              "      width: 32px;\n",
              "    }\n",
              "\n",
              "    .colab-df-convert:hover {\n",
              "      background-color: #E2EBFA;\n",
              "      box-shadow: 0px 1px 2px rgba(60, 64, 67, 0.3), 0px 1px 3px 1px rgba(60, 64, 67, 0.15);\n",
              "      fill: #174EA6;\n",
              "    }\n",
              "\n",
              "    .colab-df-buttons div {\n",
              "      margin-bottom: 4px;\n",
              "    }\n",
              "\n",
              "    [theme=dark] .colab-df-convert {\n",
              "      background-color: #3B4455;\n",
              "      fill: #D2E3FC;\n",
              "    }\n",
              "\n",
              "    [theme=dark] .colab-df-convert:hover {\n",
              "      background-color: #434B5C;\n",
              "      box-shadow: 0px 1px 3px 1px rgba(0, 0, 0, 0.15);\n",
              "      filter: drop-shadow(0px 1px 2px rgba(0, 0, 0, 0.3));\n",
              "      fill: #FFFFFF;\n",
              "    }\n",
              "  </style>\n",
              "\n",
              "    <script>\n",
              "      const buttonEl =\n",
              "        document.querySelector('#df-a110d0da-5473-49cb-b932-cda848c61f34 button.colab-df-convert');\n",
              "      buttonEl.style.display =\n",
              "        google.colab.kernel.accessAllowed ? 'block' : 'none';\n",
              "\n",
              "      async function convertToInteractive(key) {\n",
              "        const element = document.querySelector('#df-a110d0da-5473-49cb-b932-cda848c61f34');\n",
              "        const dataTable =\n",
              "          await google.colab.kernel.invokeFunction('convertToInteractive',\n",
              "                                                    [key], {});\n",
              "        if (!dataTable) return;\n",
              "\n",
              "        const docLinkHtml = 'Like what you see? Visit the ' +\n",
              "          '<a target=\"_blank\" href=https://colab.research.google.com/notebooks/data_table.ipynb>data table notebook</a>'\n",
              "          + ' to learn more about interactive tables.';\n",
              "        element.innerHTML = '';\n",
              "        dataTable['output_type'] = 'display_data';\n",
              "        await google.colab.output.renderOutput(dataTable, element);\n",
              "        const docLink = document.createElement('div');\n",
              "        docLink.innerHTML = docLinkHtml;\n",
              "        element.appendChild(docLink);\n",
              "      }\n",
              "    </script>\n",
              "  </div>\n",
              "\n",
              "\n",
              "<div id=\"df-79efb0d9-ee61-4e50-a2b6-10868bec0501\">\n",
              "  <button class=\"colab-df-quickchart\" onclick=\"quickchart('df-79efb0d9-ee61-4e50-a2b6-10868bec0501')\"\n",
              "            title=\"Suggest charts\"\n",
              "            style=\"display:none;\">\n",
              "\n",
              "<svg xmlns=\"http://www.w3.org/2000/svg\" height=\"24px\"viewBox=\"0 0 24 24\"\n",
              "     width=\"24px\">\n",
              "    <g>\n",
              "        <path d=\"M19 3H5c-1.1 0-2 .9-2 2v14c0 1.1.9 2 2 2h14c1.1 0 2-.9 2-2V5c0-1.1-.9-2-2-2zM9 17H7v-7h2v7zm4 0h-2V7h2v10zm4 0h-2v-4h2v4z\"/>\n",
              "    </g>\n",
              "</svg>\n",
              "  </button>\n",
              "\n",
              "<style>\n",
              "  .colab-df-quickchart {\n",
              "      --bg-color: #E8F0FE;\n",
              "      --fill-color: #1967D2;\n",
              "      --hover-bg-color: #E2EBFA;\n",
              "      --hover-fill-color: #174EA6;\n",
              "      --disabled-fill-color: #AAA;\n",
              "      --disabled-bg-color: #DDD;\n",
              "  }\n",
              "\n",
              "  [theme=dark] .colab-df-quickchart {\n",
              "      --bg-color: #3B4455;\n",
              "      --fill-color: #D2E3FC;\n",
              "      --hover-bg-color: #434B5C;\n",
              "      --hover-fill-color: #FFFFFF;\n",
              "      --disabled-bg-color: #3B4455;\n",
              "      --disabled-fill-color: #666;\n",
              "  }\n",
              "\n",
              "  .colab-df-quickchart {\n",
              "    background-color: var(--bg-color);\n",
              "    border: none;\n",
              "    border-radius: 50%;\n",
              "    cursor: pointer;\n",
              "    display: none;\n",
              "    fill: var(--fill-color);\n",
              "    height: 32px;\n",
              "    padding: 0;\n",
              "    width: 32px;\n",
              "  }\n",
              "\n",
              "  .colab-df-quickchart:hover {\n",
              "    background-color: var(--hover-bg-color);\n",
              "    box-shadow: 0 1px 2px rgba(60, 64, 67, 0.3), 0 1px 3px 1px rgba(60, 64, 67, 0.15);\n",
              "    fill: var(--button-hover-fill-color);\n",
              "  }\n",
              "\n",
              "  .colab-df-quickchart-complete:disabled,\n",
              "  .colab-df-quickchart-complete:disabled:hover {\n",
              "    background-color: var(--disabled-bg-color);\n",
              "    fill: var(--disabled-fill-color);\n",
              "    box-shadow: none;\n",
              "  }\n",
              "\n",
              "  .colab-df-spinner {\n",
              "    border: 2px solid var(--fill-color);\n",
              "    border-color: transparent;\n",
              "    border-bottom-color: var(--fill-color);\n",
              "    animation:\n",
              "      spin 1s steps(1) infinite;\n",
              "  }\n",
              "\n",
              "  @keyframes spin {\n",
              "    0% {\n",
              "      border-color: transparent;\n",
              "      border-bottom-color: var(--fill-color);\n",
              "      border-left-color: var(--fill-color);\n",
              "    }\n",
              "    20% {\n",
              "      border-color: transparent;\n",
              "      border-left-color: var(--fill-color);\n",
              "      border-top-color: var(--fill-color);\n",
              "    }\n",
              "    30% {\n",
              "      border-color: transparent;\n",
              "      border-left-color: var(--fill-color);\n",
              "      border-top-color: var(--fill-color);\n",
              "      border-right-color: var(--fill-color);\n",
              "    }\n",
              "    40% {\n",
              "      border-color: transparent;\n",
              "      border-right-color: var(--fill-color);\n",
              "      border-top-color: var(--fill-color);\n",
              "    }\n",
              "    60% {\n",
              "      border-color: transparent;\n",
              "      border-right-color: var(--fill-color);\n",
              "    }\n",
              "    80% {\n",
              "      border-color: transparent;\n",
              "      border-right-color: var(--fill-color);\n",
              "      border-bottom-color: var(--fill-color);\n",
              "    }\n",
              "    90% {\n",
              "      border-color: transparent;\n",
              "      border-bottom-color: var(--fill-color);\n",
              "    }\n",
              "  }\n",
              "</style>\n",
              "\n",
              "  <script>\n",
              "    async function quickchart(key) {\n",
              "      const quickchartButtonEl =\n",
              "        document.querySelector('#' + key + ' button');\n",
              "      quickchartButtonEl.disabled = true;  // To prevent multiple clicks.\n",
              "      quickchartButtonEl.classList.add('colab-df-spinner');\n",
              "      try {\n",
              "        const charts = await google.colab.kernel.invokeFunction(\n",
              "            'suggestCharts', [key], {});\n",
              "      } catch (error) {\n",
              "        console.error('Error during call to suggestCharts:', error);\n",
              "      }\n",
              "      quickchartButtonEl.classList.remove('colab-df-spinner');\n",
              "      quickchartButtonEl.classList.add('colab-df-quickchart-complete');\n",
              "    }\n",
              "    (() => {\n",
              "      let quickchartButtonEl =\n",
              "        document.querySelector('#df-79efb0d9-ee61-4e50-a2b6-10868bec0501 button');\n",
              "      quickchartButtonEl.style.display =\n",
              "        google.colab.kernel.accessAllowed ? 'block' : 'none';\n",
              "    })();\n",
              "  </script>\n",
              "</div>\n",
              "\n",
              "    </div>\n",
              "  </div>\n"
            ],
            "application/vnd.google.colaboratory.intrinsic+json": {
              "type": "dataframe",
              "variable_name": "ATPW124_df"
            }
          },
          "metadata": {},
          "execution_count": 4
        }
      ]
    },
    {
      "cell_type": "markdown",
      "source": [
        "### (3) Use list(dfName.columns) to get a full list of variables of data frame\n"
      ],
      "metadata": {
        "id": "mjGsZS5ixJnV"
      }
    },
    {
      "cell_type": "code",
      "source": [
        "list(ATPW124_df.columns)"
      ],
      "metadata": {
        "colab": {
          "base_uri": "https://localhost:8080/"
        },
        "id": "LrJaDAN5xHKG",
        "outputId": "277d4532-5e0c-4af9-d344-8534ad567e34"
      },
      "execution_count": null,
      "outputs": [
        {
          "output_type": "execute_result",
          "data": {
            "text/plain": [
              "['QKEY',\n",
              " 'INTERVIEW_START_W124',\n",
              " 'INTERVIEW_END_W124',\n",
              " 'DEVICE_TYPE_W124',\n",
              " 'LANG_W124',\n",
              " 'FORM_W124',\n",
              " 'XW122NONRESP_W124',\n",
              " 'ECON_SIT_W124',\n",
              " 'SATISFIED_DEMOCRACY_W124',\n",
              " 'FAV_US_W124',\n",
              " 'FAV_CHINA_W124',\n",
              " 'FAV_EU_W124',\n",
              " 'FAV_UN_W124',\n",
              " 'FAV_NATO_W124',\n",
              " 'FAV_RUSSIA_W124',\n",
              " 'FAV_INDIA_W124',\n",
              " 'FAV_UKRAINE_W124',\n",
              " 'FAV_TAIWAN_W124',\n",
              " 'FAVPOL_BIDEN_W124',\n",
              " 'FAVPOL_TRUMP_W124',\n",
              " 'PARTYFAV_REP_W124',\n",
              " 'PARTYFAV_DEM_W124',\n",
              " 'ACTIVE_W124',\n",
              " 'COMPROMISE_W124',\n",
              " 'ECON_POWER_W124',\n",
              " 'CONFID_XI_W124',\n",
              " 'CONFID_PUTIN_W124',\n",
              " 'CONFID_MACRON_W124',\n",
              " 'CONFID_SCHOLZ_W124',\n",
              " 'CONFID_ZELENSKYY_W124',\n",
              " 'CONFID_MODI_W124',\n",
              " 'CONFID_NETANYAHU_W124',\n",
              " 'CONFID_XI_DK_W124',\n",
              " 'CONFID_PUTIN_DK_W124',\n",
              " 'CONFID_MACRON_DK_W124',\n",
              " 'CONFID_SCHOLZ_DK_W124',\n",
              " 'CONFID_ZELENSKYY_DK_W124',\n",
              " 'CONFID_MODI_DK_W124',\n",
              " 'CONFID_NETANYAHU_DK_W124',\n",
              " 'TIKTOK_KNOW_W124',\n",
              " 'ALPHABET_W124',\n",
              " 'TIKTOK_W124',\n",
              " 'USCOMP_DANG_W124',\n",
              " 'USCOMP_RELIG_W124',\n",
              " 'USCOMP_TOL_W124',\n",
              " 'USCOMP_DEM_W124',\n",
              " 'USCOMP_STA_W124',\n",
              " 'USBEST_COLLEGE_W124',\n",
              " 'USBEST_SLIVING_W124',\n",
              " 'USBEST_MILITARY_W124',\n",
              " 'USBEST_TECH_W124',\n",
              " 'USBEST_ENTERTAINMENT_W124',\n",
              " 'USBEST_COLLEGE_DK_W124',\n",
              " 'USBEST_SLIVING_DK_W124',\n",
              " 'USBEST_MILITARY_DK_W124',\n",
              " 'USBEST_TECH_DK_W124',\n",
              " 'USBEST_ENTERTAINMENT_DK_W124',\n",
              " 'INTEREST_SURVEYCOUNTRY_W124',\n",
              " 'US_INTERFERE_W124',\n",
              " 'US_WORLDSTA_W124',\n",
              " 'US_DEVEL_AID_W124',\n",
              " 'US_DEVEL_COMP_W124',\n",
              " 'SOCIAL_BAN_W124',\n",
              " 'SOCIAL_BAN_INFO_W124',\n",
              " 'USTECH_PRIVPOL_W124',\n",
              " 'USTECH_PERSINF_W124',\n",
              " 'CHINATECH_PRIVPOL_W124',\n",
              " 'CHINATECH_PERSINF_W124',\n",
              " 'CHINAINTEREST_OTH_W124',\n",
              " 'CHINA_INTERFERE_W124',\n",
              " 'CHINA_WORLDSTA_W124',\n",
              " 'CHBEST_UNIVERSITIES_W124',\n",
              " 'CHBEST_SLIVING_W124',\n",
              " 'CHBEST_MILITARY_W124',\n",
              " 'CHBEST_TECH_W124',\n",
              " 'CHBEST_ENTERTAINMENT_W124',\n",
              " 'CHAPPROACH_CLIMATE_W124',\n",
              " 'CHAPRROACH_DISEASE_W124',\n",
              " 'CHAPPROACH_CONFLICT_W124',\n",
              " 'CHAPPROACH_STUDENT_W124',\n",
              " 'CHAPPROACT_TRADE_W124',\n",
              " 'CH_DEVEL_AID_W124',\n",
              " 'CH_DEVEL_COMP_W124',\n",
              " 'CHINA_RIGHTS_W124',\n",
              " 'CHINA_ECONCOMP_W124',\n",
              " 'CHINA_MILPOWER_W124',\n",
              " 'CHINA_TAIWAN_W124',\n",
              " 'CHINA_RUSSIA_W124',\n",
              " 'CHINA_TECH_W124',\n",
              " 'PARTY_REPRESENT_W124',\n",
              " 'OFFICIALS_CARE_W124',\n",
              " 'REP_WOMEN_W124',\n",
              " 'REP_POOR_W124',\n",
              " 'REP_BUSINESS_W124',\n",
              " 'REP_RELIGIOUS_W124',\n",
              " 'REP_YOUNG_W124',\n",
              " 'REP_UNION_W124',\n",
              " 'POLSYS_DIRECTDEM_W124',\n",
              " 'POLSYS_REPUBLIC_W124',\n",
              " 'POLSYS_AUTOC_W124',\n",
              " 'POLSYS_TECH_W124',\n",
              " 'POLSYS_JUNTA_W124',\n",
              " 'CLOSE_LOCAL_W124',\n",
              " 'CLOSE_COUNTRY_W124',\n",
              " 'CLOSE_WORLD_W124',\n",
              " 'NATIONALITY_BORN_W124',\n",
              " 'NATIONALITY_LANG_W124',\n",
              " 'NATIONALITY_RELIG_W124',\n",
              " 'NATIONALITY_CUSTOM_W124',\n",
              " 'CHINA_TRADE_W124',\n",
              " 'CANADA_TRADE_W124',\n",
              " 'GAY_MARRIAGE_W124',\n",
              " 'CHINA_US_ENEMY_W124',\n",
              " 'RUSSIA_US_ENEMY_W124',\n",
              " 'COUNTRIES_VISITED_W124',\n",
              " 'WANT_TRAVEL_W124',\n",
              " 'NEWSSOURCE_e_W124',\n",
              " 'NEWSUSE_PLAT_a_W124',\n",
              " 'NEWSUSE_PLAT_b_W124',\n",
              " 'NEWSUSE_PLAT_c_W124',\n",
              " 'NEWSUSE_PLAT_d_W124',\n",
              " 'NEWSUSE_PLAT_e_W124',\n",
              " 'BLKNEWSPROB1_W124',\n",
              " 'F_METRO',\n",
              " 'F_CREGION',\n",
              " 'F_CDIVISION',\n",
              " 'F_USR_SELFID',\n",
              " 'F_AGECAT',\n",
              " 'F_GENDER',\n",
              " 'F_EDUCCAT',\n",
              " 'F_EDUCCAT2',\n",
              " 'F_HISP',\n",
              " 'F_HISP_ORIGIN',\n",
              " 'F_YEARSINUS_RECODE',\n",
              " 'F_RACECMB',\n",
              " 'F_RACETHNMOD',\n",
              " 'F_CITIZEN',\n",
              " 'F_BIRTHPLACE',\n",
              " 'F_MARITAL',\n",
              " 'F_RELIG',\n",
              " 'F_BORN',\n",
              " 'F_RELIGCAT1',\n",
              " 'F_ATTEND',\n",
              " 'F_PARTY_FINAL',\n",
              " 'F_PARTYLN_FINAL',\n",
              " 'F_PARTYSUM_FINAL',\n",
              " 'F_PARTYSUMIDEO_FINAL',\n",
              " 'F_REG',\n",
              " 'F_INC_SDT1',\n",
              " 'F_IDEO',\n",
              " 'F_INTFREQ',\n",
              " 'F_VOLSUM',\n",
              " 'F_INC_TIER2',\n",
              " 'WEIGHT_W124']"
            ]
          },
          "metadata": {},
          "execution_count": 5
        }
      ]
    },
    {
      "cell_type": "markdown",
      "source": [
        "## State research question\n",
        "- **What is the relationship between satisfaction with the way democracy works in the US and the opinion of US political stability compared to other wealthy nations?**\n",
        "\n"
      ],
      "metadata": {
        "id": "wrP44fHHE0Q_"
      }
    },
    {
      "cell_type": "markdown",
      "source": [
        "### (4) Inspect dependent variable and recode to remove missing variables"
      ],
      "metadata": {
        "id": "mIE8pGM0FNMu"
      }
    },
    {
      "cell_type": "code",
      "metadata": {
        "id": "isyAPFTU99K3",
        "colab": {
          "base_uri": "https://localhost:8080/",
          "height": 272
        },
        "outputId": "d992d866-95b9-40f1-f7fa-c2196a1cf00d"
      },
      "source": [
        "# Code block 3: Inspecting variables\n",
        "# What is the relationship between how satisfied American respodents are with the way democracy works in the US and what they think of the choice of political parties?\n",
        "\n",
        "# what do you do with missing data? - treat it as missing b/c we don't know what the respondent would have answered\n",
        "\n",
        "ATPW124_df['SATISFIED_DEMOCRACY_W124'].value_counts()"
      ],
      "execution_count": null,
      "outputs": [
        {
          "output_type": "execute_result",
          "data": {
            "text/plain": [
              "SATISFIED_DEMOCRACY_W124\n",
              "Not too satisfied       1547\n",
              "Somewhat satisfied      1157\n",
              "Not at all satisfied     670\n",
              "Very satisfied           151\n",
              "Refused                   51\n",
              "Name: count, dtype: int64"
            ],
            "text/html": [
              "<div>\n",
              "<style scoped>\n",
              "    .dataframe tbody tr th:only-of-type {\n",
              "        vertical-align: middle;\n",
              "    }\n",
              "\n",
              "    .dataframe tbody tr th {\n",
              "        vertical-align: top;\n",
              "    }\n",
              "\n",
              "    .dataframe thead th {\n",
              "        text-align: right;\n",
              "    }\n",
              "</style>\n",
              "<table border=\"1\" class=\"dataframe\">\n",
              "  <thead>\n",
              "    <tr style=\"text-align: right;\">\n",
              "      <th></th>\n",
              "      <th>count</th>\n",
              "    </tr>\n",
              "    <tr>\n",
              "      <th>SATISFIED_DEMOCRACY_W124</th>\n",
              "      <th></th>\n",
              "    </tr>\n",
              "  </thead>\n",
              "  <tbody>\n",
              "    <tr>\n",
              "      <th>Not too satisfied</th>\n",
              "      <td>1547</td>\n",
              "    </tr>\n",
              "    <tr>\n",
              "      <th>Somewhat satisfied</th>\n",
              "      <td>1157</td>\n",
              "    </tr>\n",
              "    <tr>\n",
              "      <th>Not at all satisfied</th>\n",
              "      <td>670</td>\n",
              "    </tr>\n",
              "    <tr>\n",
              "      <th>Very satisfied</th>\n",
              "      <td>151</td>\n",
              "    </tr>\n",
              "    <tr>\n",
              "      <th>Refused</th>\n",
              "      <td>51</td>\n",
              "    </tr>\n",
              "  </tbody>\n",
              "</table>\n",
              "</div><br><label><b>dtype:</b> int64</label>"
            ]
          },
          "metadata": {},
          "execution_count": 6
        }
      ]
    },
    {
      "cell_type": "markdown",
      "source": [
        "### (5) Treating \"refused\" response\n",
        "- Convert it to NaN (not a number)\n",
        "- **Default order for categorical variables = alphabetical**"
      ],
      "metadata": {
        "id": "QIDuJ3es9Rz-"
      }
    },
    {
      "cell_type": "code",
      "metadata": {
        "colab": {
          "base_uri": "https://localhost:8080/",
          "height": 241
        },
        "id": "dFcPF4h7UjiI",
        "outputId": "cff06bae-988e-4bf3-bef3-582a65d08bb2"
      },
      "source": [
        "#If string has \"refused\", convert it to not a number (missing), if not refused, then keep the original value\n",
        "\n",
        "ATPW124_df['SATISFIED_DEMOCRACY_W124r'] = np.where(ATPW124_df['SATISFIED_DEMOCRACY_W124'].str.contains('Refused'), np.nan, ATPW124_df['SATISFIED_DEMOCRACY_W124'])\n",
        "ATPW124_df['SATISFIED_DEMOCRACY_W124r'].value_counts()"
      ],
      "execution_count": null,
      "outputs": [
        {
          "output_type": "execute_result",
          "data": {
            "text/plain": [
              "SATISFIED_DEMOCRACY_W124r\n",
              "Not too satisfied       1547\n",
              "Somewhat satisfied      1157\n",
              "Not at all satisfied     670\n",
              "Very satisfied           151\n",
              "Name: count, dtype: int64"
            ],
            "text/html": [
              "<div>\n",
              "<style scoped>\n",
              "    .dataframe tbody tr th:only-of-type {\n",
              "        vertical-align: middle;\n",
              "    }\n",
              "\n",
              "    .dataframe tbody tr th {\n",
              "        vertical-align: top;\n",
              "    }\n",
              "\n",
              "    .dataframe thead th {\n",
              "        text-align: right;\n",
              "    }\n",
              "</style>\n",
              "<table border=\"1\" class=\"dataframe\">\n",
              "  <thead>\n",
              "    <tr style=\"text-align: right;\">\n",
              "      <th></th>\n",
              "      <th>count</th>\n",
              "    </tr>\n",
              "    <tr>\n",
              "      <th>SATISFIED_DEMOCRACY_W124r</th>\n",
              "      <th></th>\n",
              "    </tr>\n",
              "  </thead>\n",
              "  <tbody>\n",
              "    <tr>\n",
              "      <th>Not too satisfied</th>\n",
              "      <td>1547</td>\n",
              "    </tr>\n",
              "    <tr>\n",
              "      <th>Somewhat satisfied</th>\n",
              "      <td>1157</td>\n",
              "    </tr>\n",
              "    <tr>\n",
              "      <th>Not at all satisfied</th>\n",
              "      <td>670</td>\n",
              "    </tr>\n",
              "    <tr>\n",
              "      <th>Very satisfied</th>\n",
              "      <td>151</td>\n",
              "    </tr>\n",
              "  </tbody>\n",
              "</table>\n",
              "</div><br><label><b>dtype:</b> int64</label>"
            ]
          },
          "metadata": {},
          "execution_count": 7
        }
      ]
    },
    {
      "cell_type": "markdown",
      "source": [
        "### (6) Maintain the order of ordinal variables by using CategoricalDtype\n",
        "- Ordinal variables - category order matters"
      ],
      "metadata": {
        "id": "xhaxoq5yXpUf"
      }
    },
    {
      "cell_type": "code",
      "source": [
        "# Var cat_type will preserve the order of the categories (goes from a very satisfied to not at all satisifed\n",
        "cat_type = CategoricalDtype(categories=[\"Very satisfied\", \"Somewhat satisfied\", \"Not too satisfied\", \"Not at all satisfied\"], ordered=True)\n",
        "\n",
        "# Apply var cat_type to data frame & recoded var that has NaN for missing\n",
        "ATPW124_df['SATISFIED_DEMOCRACY_W124r2'] = ATPW124_df['SATISFIED_DEMOCRACY_W124r'].astype(cat_type)\n",
        "ATPW124_df['SATISFIED_DEMOCRACY_W124r2']"
      ],
      "metadata": {
        "id": "ZhSllEB70nip",
        "colab": {
          "base_uri": "https://localhost:8080/",
          "height": 458
        },
        "outputId": "3f3a49ce-1dc1-4397-d7dc-47f427335cf8"
      },
      "execution_count": null,
      "outputs": [
        {
          "output_type": "execute_result",
          "data": {
            "text/plain": [
              "0          Not too satisfied\n",
              "1       Not at all satisfied\n",
              "2          Not too satisfied\n",
              "3       Not at all satisfied\n",
              "4         Somewhat satisfied\n",
              "                ...         \n",
              "3571       Not too satisfied\n",
              "3572      Somewhat satisfied\n",
              "3573      Somewhat satisfied\n",
              "3574       Not too satisfied\n",
              "3575          Very satisfied\n",
              "Name: SATISFIED_DEMOCRACY_W124r2, Length: 3576, dtype: category\n",
              "Categories (4, object): ['Very satisfied' < 'Somewhat satisfied' < 'Not too satisfied' <\n",
              "                         'Not at all satisfied']"
            ],
            "text/html": [
              "<div>\n",
              "<style scoped>\n",
              "    .dataframe tbody tr th:only-of-type {\n",
              "        vertical-align: middle;\n",
              "    }\n",
              "\n",
              "    .dataframe tbody tr th {\n",
              "        vertical-align: top;\n",
              "    }\n",
              "\n",
              "    .dataframe thead th {\n",
              "        text-align: right;\n",
              "    }\n",
              "</style>\n",
              "<table border=\"1\" class=\"dataframe\">\n",
              "  <thead>\n",
              "    <tr style=\"text-align: right;\">\n",
              "      <th></th>\n",
              "      <th>SATISFIED_DEMOCRACY_W124r2</th>\n",
              "    </tr>\n",
              "  </thead>\n",
              "  <tbody>\n",
              "    <tr>\n",
              "      <th>0</th>\n",
              "      <td>Not too satisfied</td>\n",
              "    </tr>\n",
              "    <tr>\n",
              "      <th>1</th>\n",
              "      <td>Not at all satisfied</td>\n",
              "    </tr>\n",
              "    <tr>\n",
              "      <th>2</th>\n",
              "      <td>Not too satisfied</td>\n",
              "    </tr>\n",
              "    <tr>\n",
              "      <th>3</th>\n",
              "      <td>Not at all satisfied</td>\n",
              "    </tr>\n",
              "    <tr>\n",
              "      <th>4</th>\n",
              "      <td>Somewhat satisfied</td>\n",
              "    </tr>\n",
              "    <tr>\n",
              "      <th>...</th>\n",
              "      <td>...</td>\n",
              "    </tr>\n",
              "    <tr>\n",
              "      <th>3571</th>\n",
              "      <td>Not too satisfied</td>\n",
              "    </tr>\n",
              "    <tr>\n",
              "      <th>3572</th>\n",
              "      <td>Somewhat satisfied</td>\n",
              "    </tr>\n",
              "    <tr>\n",
              "      <th>3573</th>\n",
              "      <td>Somewhat satisfied</td>\n",
              "    </tr>\n",
              "    <tr>\n",
              "      <th>3574</th>\n",
              "      <td>Not too satisfied</td>\n",
              "    </tr>\n",
              "    <tr>\n",
              "      <th>3575</th>\n",
              "      <td>Very satisfied</td>\n",
              "    </tr>\n",
              "  </tbody>\n",
              "</table>\n",
              "<p>3576 rows × 1 columns</p>\n",
              "</div><br><label><b>dtype:</b> category</label>"
            ]
          },
          "metadata": {},
          "execution_count": 8
        }
      ]
    },
    {
      "cell_type": "markdown",
      "source": [
        "### (7) Identify nominal variable\n",
        "- Order does not matter, so do not have to use CategoricalDtype to adjust the order [US political stability in comparison to other wealthy nations]"
      ],
      "metadata": {
        "id": "9_4A_lnOdjmC"
      }
    },
    {
      "cell_type": "code",
      "source": [
        "ATPW124_df['USCOMP_STA_W124'].value_counts()"
      ],
      "metadata": {
        "colab": {
          "base_uri": "https://localhost:8080/",
          "height": 241
        },
        "id": "X7h0k22h1U0E",
        "outputId": "04a89e97-ee39-42d7-e253-d9cd8ae02af4"
      },
      "execution_count": null,
      "outputs": [
        {
          "output_type": "execute_result",
          "data": {
            "text/plain": [
              "USCOMP_STA_W124\n",
              "About as politically stable as other wealthy nations           1443\n",
              "A less politically stable nation than other wealthy nations    1137\n",
              "A more politically stable nation than other wealthy nations     939\n",
              "Refused                                                          57\n",
              "Name: count, dtype: int64"
            ],
            "text/html": [
              "<div>\n",
              "<style scoped>\n",
              "    .dataframe tbody tr th:only-of-type {\n",
              "        vertical-align: middle;\n",
              "    }\n",
              "\n",
              "    .dataframe tbody tr th {\n",
              "        vertical-align: top;\n",
              "    }\n",
              "\n",
              "    .dataframe thead th {\n",
              "        text-align: right;\n",
              "    }\n",
              "</style>\n",
              "<table border=\"1\" class=\"dataframe\">\n",
              "  <thead>\n",
              "    <tr style=\"text-align: right;\">\n",
              "      <th></th>\n",
              "      <th>count</th>\n",
              "    </tr>\n",
              "    <tr>\n",
              "      <th>USCOMP_STA_W124</th>\n",
              "      <th></th>\n",
              "    </tr>\n",
              "  </thead>\n",
              "  <tbody>\n",
              "    <tr>\n",
              "      <th>About as politically stable as other wealthy nations</th>\n",
              "      <td>1443</td>\n",
              "    </tr>\n",
              "    <tr>\n",
              "      <th>A less politically stable nation than other wealthy nations</th>\n",
              "      <td>1137</td>\n",
              "    </tr>\n",
              "    <tr>\n",
              "      <th>A more politically stable nation than other wealthy nations</th>\n",
              "      <td>939</td>\n",
              "    </tr>\n",
              "    <tr>\n",
              "      <th>Refused</th>\n",
              "      <td>57</td>\n",
              "    </tr>\n",
              "  </tbody>\n",
              "</table>\n",
              "</div><br><label><b>dtype:</b> int64</label>"
            ]
          },
          "metadata": {},
          "execution_count": 9
        }
      ]
    },
    {
      "cell_type": "code",
      "metadata": {
        "colab": {
          "base_uri": "https://localhost:8080/",
          "height": 209
        },
        "id": "6qjZyI-UYkOh",
        "outputId": "a8a4cbdb-72d3-4883-c73d-e7e5f488b127"
      },
      "source": [
        "# Recode 'Refused' as NaN\n",
        "ATPW124_df['USCOMP_STA_W124r'] = np.where(ATPW124_df['USCOMP_STA_W124'].str.contains('Refused'), np.nan, ATPW124_df['USCOMP_STA_W124'])\n",
        "ATPW124_df['USCOMP_STA_W124r'].value_counts()"
      ],
      "execution_count": null,
      "outputs": [
        {
          "output_type": "execute_result",
          "data": {
            "text/plain": [
              "USCOMP_STA_W124r\n",
              "About as politically stable as other wealthy nations           1443\n",
              "A less politically stable nation than other wealthy nations    1137\n",
              "A more politically stable nation than other wealthy nations     939\n",
              "Name: count, dtype: int64"
            ],
            "text/html": [
              "<div>\n",
              "<style scoped>\n",
              "    .dataframe tbody tr th:only-of-type {\n",
              "        vertical-align: middle;\n",
              "    }\n",
              "\n",
              "    .dataframe tbody tr th {\n",
              "        vertical-align: top;\n",
              "    }\n",
              "\n",
              "    .dataframe thead th {\n",
              "        text-align: right;\n",
              "    }\n",
              "</style>\n",
              "<table border=\"1\" class=\"dataframe\">\n",
              "  <thead>\n",
              "    <tr style=\"text-align: right;\">\n",
              "      <th></th>\n",
              "      <th>count</th>\n",
              "    </tr>\n",
              "    <tr>\n",
              "      <th>USCOMP_STA_W124r</th>\n",
              "      <th></th>\n",
              "    </tr>\n",
              "  </thead>\n",
              "  <tbody>\n",
              "    <tr>\n",
              "      <th>About as politically stable as other wealthy nations</th>\n",
              "      <td>1443</td>\n",
              "    </tr>\n",
              "    <tr>\n",
              "      <th>A less politically stable nation than other wealthy nations</th>\n",
              "      <td>1137</td>\n",
              "    </tr>\n",
              "    <tr>\n",
              "      <th>A more politically stable nation than other wealthy nations</th>\n",
              "      <td>939</td>\n",
              "    </tr>\n",
              "  </tbody>\n",
              "</table>\n",
              "</div><br><label><b>dtype:</b> int64</label>"
            ]
          },
          "metadata": {},
          "execution_count": 10
        }
      ]
    },
    {
      "cell_type": "code",
      "metadata": {
        "id": "LKfSkq_2-Kg_",
        "colab": {
          "base_uri": "https://localhost:8080/",
          "height": 458
        },
        "outputId": "cdd7ec2f-a17c-4d0c-85e6-5972da1f5f41"
      },
      "source": [
        "ATPW124_df['USCOMP_STA_W124r']"
      ],
      "execution_count": null,
      "outputs": [
        {
          "output_type": "execute_result",
          "data": {
            "text/plain": [
              "0       About as politically stable as other wealthy n...\n",
              "1       A more politically stable nation than other we...\n",
              "2       A more politically stable nation than other we...\n",
              "3       A less politically stable nation than other we...\n",
              "4       A more politically stable nation than other we...\n",
              "                              ...                        \n",
              "3571    A less politically stable nation than other we...\n",
              "3572    A more politically stable nation than other we...\n",
              "3573    A more politically stable nation than other we...\n",
              "3574    About as politically stable as other wealthy n...\n",
              "3575    A more politically stable nation than other we...\n",
              "Name: USCOMP_STA_W124r, Length: 3576, dtype: object"
            ],
            "text/html": [
              "<div>\n",
              "<style scoped>\n",
              "    .dataframe tbody tr th:only-of-type {\n",
              "        vertical-align: middle;\n",
              "    }\n",
              "\n",
              "    .dataframe tbody tr th {\n",
              "        vertical-align: top;\n",
              "    }\n",
              "\n",
              "    .dataframe thead th {\n",
              "        text-align: right;\n",
              "    }\n",
              "</style>\n",
              "<table border=\"1\" class=\"dataframe\">\n",
              "  <thead>\n",
              "    <tr style=\"text-align: right;\">\n",
              "      <th></th>\n",
              "      <th>USCOMP_STA_W124r</th>\n",
              "    </tr>\n",
              "  </thead>\n",
              "  <tbody>\n",
              "    <tr>\n",
              "      <th>0</th>\n",
              "      <td>About as politically stable as other wealthy n...</td>\n",
              "    </tr>\n",
              "    <tr>\n",
              "      <th>1</th>\n",
              "      <td>A more politically stable nation than other we...</td>\n",
              "    </tr>\n",
              "    <tr>\n",
              "      <th>2</th>\n",
              "      <td>A more politically stable nation than other we...</td>\n",
              "    </tr>\n",
              "    <tr>\n",
              "      <th>3</th>\n",
              "      <td>A less politically stable nation than other we...</td>\n",
              "    </tr>\n",
              "    <tr>\n",
              "      <th>4</th>\n",
              "      <td>A more politically stable nation than other we...</td>\n",
              "    </tr>\n",
              "    <tr>\n",
              "      <th>...</th>\n",
              "      <td>...</td>\n",
              "    </tr>\n",
              "    <tr>\n",
              "      <th>3571</th>\n",
              "      <td>A less politically stable nation than other we...</td>\n",
              "    </tr>\n",
              "    <tr>\n",
              "      <th>3572</th>\n",
              "      <td>A more politically stable nation than other we...</td>\n",
              "    </tr>\n",
              "    <tr>\n",
              "      <th>3573</th>\n",
              "      <td>A more politically stable nation than other we...</td>\n",
              "    </tr>\n",
              "    <tr>\n",
              "      <th>3574</th>\n",
              "      <td>About as politically stable as other wealthy n...</td>\n",
              "    </tr>\n",
              "    <tr>\n",
              "      <th>3575</th>\n",
              "      <td>A more politically stable nation than other we...</td>\n",
              "    </tr>\n",
              "  </tbody>\n",
              "</table>\n",
              "<p>3576 rows × 1 columns</p>\n",
              "</div><br><label><b>dtype:</b> object</label>"
            ]
          },
          "metadata": {},
          "execution_count": 11
        }
      ]
    },
    {
      "cell_type": "markdown",
      "source": [
        "### (8) Create tables\n",
        "\n",
        "1.   Cross-tabulation - 2 way percentage table\n",
        "2.   Signficance tab - Chi square test = main statistic\n",
        "\n",
        "- Is the table reliable at p < 0.05\n",
        "\n",
        "\n",
        "---\n",
        "\n",
        "\n",
        "- **To create cross & sig tables, must first convert the categoricals**"
      ],
      "metadata": {
        "id": "VBtBfeUOeBvv"
      }
    },
    {
      "cell_type": "code",
      "metadata": {
        "id": "mZRjmB3tJ7px",
        "colab": {
          "base_uri": "https://localhost:8080/",
          "height": 341
        },
        "outputId": "42347570-2054-4bb9-e4c7-0fa6e92d7dba"
      },
      "source": [
        "# Code block 4a: Analysis with a crosstabulation (bivariate percentage table)\n",
        "\n",
        "# Create crosstab and then significance tables\n",
        "crosstab, sigtab = rp.crosstab(ATPW124_df.SATISFIED_DEMOCRACY_W124r2, ATPW124_df.USCOMP_STA_W124r, prop='col', test='chi-square')\n",
        "crosstab"
      ],
      "execution_count": null,
      "outputs": [
        {
          "output_type": "stream",
          "name": "stderr",
          "text": [
            "/usr/local/lib/python3.10/dist-packages/researchpy/crosstab.py:146: FutureWarning: Setting an item of incompatible dtype is deprecated and will raise an error in a future version of pandas. Value 'Pearson Chi-square ( 6.0) = ' has dtype incompatible with float64, please explicitly cast to a compatible dtype first.\n",
            "  table.iloc[0,0] = f\"Pearson Chi-square ({dof: .1f}) = \"\n"
          ]
        },
        {
          "output_type": "execute_result",
          "data": {
            "text/plain": [
              "                                                                      USCOMP_STA_W124r  \\\n",
              "USCOMP_STA_W124r           A less politically stable nation than other wealthy nations   \n",
              "SATISFIED_DEMOCRACY_W124r2                                                               \n",
              "Very satisfied                                                           2.40            \n",
              "Somewhat satisfied                                                      20.91            \n",
              "Not too satisfied                                                       47.15            \n",
              "Not at all satisfied                                                    29.54            \n",
              "All                                                                    100.00            \n",
              "\n",
              "                                                                                        \\\n",
              "USCOMP_STA_W124r           A more politically stable nation than other wealthy nations   \n",
              "SATISFIED_DEMOCRACY_W124r2                                                               \n",
              "Very satisfied                                                           8.28            \n",
              "Somewhat satisfied                                                      42.04            \n",
              "Not too satisfied                                                       37.74            \n",
              "Not at all satisfied                                                    11.94            \n",
              "All                                                                    100.00            \n",
              "\n",
              "                                                                                 \\\n",
              "USCOMP_STA_W124r           About as politically stable as other wealthy nations   \n",
              "SATISFIED_DEMOCRACY_W124r2                                                        \n",
              "Very satisfied                                                           3.31     \n",
              "Somewhat satisfied                                                      36.27     \n",
              "Not too satisfied                                                       45.28     \n",
              "Not at all satisfied                                                    15.14     \n",
              "All                                                                    100.00     \n",
              "\n",
              "                                    \n",
              "USCOMP_STA_W124r               All  \n",
              "SATISFIED_DEMOCRACY_W124r2          \n",
              "Very satisfied                4.35  \n",
              "Somewhat satisfied           32.84  \n",
              "Not too satisfied            43.87  \n",
              "Not at all satisfied         18.94  \n",
              "All                         100.00  "
            ],
            "text/html": [
              "\n",
              "  <div id=\"df-a9e2d749-cee6-43e1-8c1e-5ed695209d9e\" class=\"colab-df-container\">\n",
              "    <div>\n",
              "<style scoped>\n",
              "    .dataframe tbody tr th:only-of-type {\n",
              "        vertical-align: middle;\n",
              "    }\n",
              "\n",
              "    .dataframe tbody tr th {\n",
              "        vertical-align: top;\n",
              "    }\n",
              "\n",
              "    .dataframe thead tr th {\n",
              "        text-align: left;\n",
              "    }\n",
              "\n",
              "    .dataframe thead tr:last-of-type th {\n",
              "        text-align: right;\n",
              "    }\n",
              "</style>\n",
              "<table border=\"1\" class=\"dataframe\">\n",
              "  <thead>\n",
              "    <tr>\n",
              "      <th></th>\n",
              "      <th colspan=\"4\" halign=\"left\">USCOMP_STA_W124r</th>\n",
              "    </tr>\n",
              "    <tr>\n",
              "      <th>USCOMP_STA_W124r</th>\n",
              "      <th>A less politically stable nation than other wealthy nations</th>\n",
              "      <th>A more politically stable nation than other wealthy nations</th>\n",
              "      <th>About as politically stable as other wealthy nations</th>\n",
              "      <th>All</th>\n",
              "    </tr>\n",
              "    <tr>\n",
              "      <th>SATISFIED_DEMOCRACY_W124r2</th>\n",
              "      <th></th>\n",
              "      <th></th>\n",
              "      <th></th>\n",
              "      <th></th>\n",
              "    </tr>\n",
              "  </thead>\n",
              "  <tbody>\n",
              "    <tr>\n",
              "      <th>Very satisfied</th>\n",
              "      <td>2.40</td>\n",
              "      <td>8.28</td>\n",
              "      <td>3.31</td>\n",
              "      <td>4.35</td>\n",
              "    </tr>\n",
              "    <tr>\n",
              "      <th>Somewhat satisfied</th>\n",
              "      <td>20.91</td>\n",
              "      <td>42.04</td>\n",
              "      <td>36.27</td>\n",
              "      <td>32.84</td>\n",
              "    </tr>\n",
              "    <tr>\n",
              "      <th>Not too satisfied</th>\n",
              "      <td>47.15</td>\n",
              "      <td>37.74</td>\n",
              "      <td>45.28</td>\n",
              "      <td>43.87</td>\n",
              "    </tr>\n",
              "    <tr>\n",
              "      <th>Not at all satisfied</th>\n",
              "      <td>29.54</td>\n",
              "      <td>11.94</td>\n",
              "      <td>15.14</td>\n",
              "      <td>18.94</td>\n",
              "    </tr>\n",
              "    <tr>\n",
              "      <th>All</th>\n",
              "      <td>100.00</td>\n",
              "      <td>100.00</td>\n",
              "      <td>100.00</td>\n",
              "      <td>100.00</td>\n",
              "    </tr>\n",
              "  </tbody>\n",
              "</table>\n",
              "</div>\n",
              "    <div class=\"colab-df-buttons\">\n",
              "\n",
              "  <div class=\"colab-df-container\">\n",
              "    <button class=\"colab-df-convert\" onclick=\"convertToInteractive('df-a9e2d749-cee6-43e1-8c1e-5ed695209d9e')\"\n",
              "            title=\"Convert this dataframe to an interactive table.\"\n",
              "            style=\"display:none;\">\n",
              "\n",
              "  <svg xmlns=\"http://www.w3.org/2000/svg\" height=\"24px\" viewBox=\"0 -960 960 960\">\n",
              "    <path d=\"M120-120v-720h720v720H120Zm60-500h600v-160H180v160Zm220 220h160v-160H400v160Zm0 220h160v-160H400v160ZM180-400h160v-160H180v160Zm440 0h160v-160H620v160ZM180-180h160v-160H180v160Zm440 0h160v-160H620v160Z\"/>\n",
              "  </svg>\n",
              "    </button>\n",
              "\n",
              "  <style>\n",
              "    .colab-df-container {\n",
              "      display:flex;\n",
              "      gap: 12px;\n",
              "    }\n",
              "\n",
              "    .colab-df-convert {\n",
              "      background-color: #E8F0FE;\n",
              "      border: none;\n",
              "      border-radius: 50%;\n",
              "      cursor: pointer;\n",
              "      display: none;\n",
              "      fill: #1967D2;\n",
              "      height: 32px;\n",
              "      padding: 0 0 0 0;\n",
              "      width: 32px;\n",
              "    }\n",
              "\n",
              "    .colab-df-convert:hover {\n",
              "      background-color: #E2EBFA;\n",
              "      box-shadow: 0px 1px 2px rgba(60, 64, 67, 0.3), 0px 1px 3px 1px rgba(60, 64, 67, 0.15);\n",
              "      fill: #174EA6;\n",
              "    }\n",
              "\n",
              "    .colab-df-buttons div {\n",
              "      margin-bottom: 4px;\n",
              "    }\n",
              "\n",
              "    [theme=dark] .colab-df-convert {\n",
              "      background-color: #3B4455;\n",
              "      fill: #D2E3FC;\n",
              "    }\n",
              "\n",
              "    [theme=dark] .colab-df-convert:hover {\n",
              "      background-color: #434B5C;\n",
              "      box-shadow: 0px 1px 3px 1px rgba(0, 0, 0, 0.15);\n",
              "      filter: drop-shadow(0px 1px 2px rgba(0, 0, 0, 0.3));\n",
              "      fill: #FFFFFF;\n",
              "    }\n",
              "  </style>\n",
              "\n",
              "    <script>\n",
              "      const buttonEl =\n",
              "        document.querySelector('#df-a9e2d749-cee6-43e1-8c1e-5ed695209d9e button.colab-df-convert');\n",
              "      buttonEl.style.display =\n",
              "        google.colab.kernel.accessAllowed ? 'block' : 'none';\n",
              "\n",
              "      async function convertToInteractive(key) {\n",
              "        const element = document.querySelector('#df-a9e2d749-cee6-43e1-8c1e-5ed695209d9e');\n",
              "        const dataTable =\n",
              "          await google.colab.kernel.invokeFunction('convertToInteractive',\n",
              "                                                    [key], {});\n",
              "        if (!dataTable) return;\n",
              "\n",
              "        const docLinkHtml = 'Like what you see? Visit the ' +\n",
              "          '<a target=\"_blank\" href=https://colab.research.google.com/notebooks/data_table.ipynb>data table notebook</a>'\n",
              "          + ' to learn more about interactive tables.';\n",
              "        element.innerHTML = '';\n",
              "        dataTable['output_type'] = 'display_data';\n",
              "        await google.colab.output.renderOutput(dataTable, element);\n",
              "        const docLink = document.createElement('div');\n",
              "        docLink.innerHTML = docLinkHtml;\n",
              "        element.appendChild(docLink);\n",
              "      }\n",
              "    </script>\n",
              "  </div>\n",
              "\n",
              "\n",
              "<div id=\"df-a39ae948-fd07-483b-a68d-6775f07c28f3\">\n",
              "  <button class=\"colab-df-quickchart\" onclick=\"quickchart('df-a39ae948-fd07-483b-a68d-6775f07c28f3')\"\n",
              "            title=\"Suggest charts\"\n",
              "            style=\"display:none;\">\n",
              "\n",
              "<svg xmlns=\"http://www.w3.org/2000/svg\" height=\"24px\"viewBox=\"0 0 24 24\"\n",
              "     width=\"24px\">\n",
              "    <g>\n",
              "        <path d=\"M19 3H5c-1.1 0-2 .9-2 2v14c0 1.1.9 2 2 2h14c1.1 0 2-.9 2-2V5c0-1.1-.9-2-2-2zM9 17H7v-7h2v7zm4 0h-2V7h2v10zm4 0h-2v-4h2v4z\"/>\n",
              "    </g>\n",
              "</svg>\n",
              "  </button>\n",
              "\n",
              "<style>\n",
              "  .colab-df-quickchart {\n",
              "      --bg-color: #E8F0FE;\n",
              "      --fill-color: #1967D2;\n",
              "      --hover-bg-color: #E2EBFA;\n",
              "      --hover-fill-color: #174EA6;\n",
              "      --disabled-fill-color: #AAA;\n",
              "      --disabled-bg-color: #DDD;\n",
              "  }\n",
              "\n",
              "  [theme=dark] .colab-df-quickchart {\n",
              "      --bg-color: #3B4455;\n",
              "      --fill-color: #D2E3FC;\n",
              "      --hover-bg-color: #434B5C;\n",
              "      --hover-fill-color: #FFFFFF;\n",
              "      --disabled-bg-color: #3B4455;\n",
              "      --disabled-fill-color: #666;\n",
              "  }\n",
              "\n",
              "  .colab-df-quickchart {\n",
              "    background-color: var(--bg-color);\n",
              "    border: none;\n",
              "    border-radius: 50%;\n",
              "    cursor: pointer;\n",
              "    display: none;\n",
              "    fill: var(--fill-color);\n",
              "    height: 32px;\n",
              "    padding: 0;\n",
              "    width: 32px;\n",
              "  }\n",
              "\n",
              "  .colab-df-quickchart:hover {\n",
              "    background-color: var(--hover-bg-color);\n",
              "    box-shadow: 0 1px 2px rgba(60, 64, 67, 0.3), 0 1px 3px 1px rgba(60, 64, 67, 0.15);\n",
              "    fill: var(--button-hover-fill-color);\n",
              "  }\n",
              "\n",
              "  .colab-df-quickchart-complete:disabled,\n",
              "  .colab-df-quickchart-complete:disabled:hover {\n",
              "    background-color: var(--disabled-bg-color);\n",
              "    fill: var(--disabled-fill-color);\n",
              "    box-shadow: none;\n",
              "  }\n",
              "\n",
              "  .colab-df-spinner {\n",
              "    border: 2px solid var(--fill-color);\n",
              "    border-color: transparent;\n",
              "    border-bottom-color: var(--fill-color);\n",
              "    animation:\n",
              "      spin 1s steps(1) infinite;\n",
              "  }\n",
              "\n",
              "  @keyframes spin {\n",
              "    0% {\n",
              "      border-color: transparent;\n",
              "      border-bottom-color: var(--fill-color);\n",
              "      border-left-color: var(--fill-color);\n",
              "    }\n",
              "    20% {\n",
              "      border-color: transparent;\n",
              "      border-left-color: var(--fill-color);\n",
              "      border-top-color: var(--fill-color);\n",
              "    }\n",
              "    30% {\n",
              "      border-color: transparent;\n",
              "      border-left-color: var(--fill-color);\n",
              "      border-top-color: var(--fill-color);\n",
              "      border-right-color: var(--fill-color);\n",
              "    }\n",
              "    40% {\n",
              "      border-color: transparent;\n",
              "      border-right-color: var(--fill-color);\n",
              "      border-top-color: var(--fill-color);\n",
              "    }\n",
              "    60% {\n",
              "      border-color: transparent;\n",
              "      border-right-color: var(--fill-color);\n",
              "    }\n",
              "    80% {\n",
              "      border-color: transparent;\n",
              "      border-right-color: var(--fill-color);\n",
              "      border-bottom-color: var(--fill-color);\n",
              "    }\n",
              "    90% {\n",
              "      border-color: transparent;\n",
              "      border-bottom-color: var(--fill-color);\n",
              "    }\n",
              "  }\n",
              "</style>\n",
              "\n",
              "  <script>\n",
              "    async function quickchart(key) {\n",
              "      const quickchartButtonEl =\n",
              "        document.querySelector('#' + key + ' button');\n",
              "      quickchartButtonEl.disabled = true;  // To prevent multiple clicks.\n",
              "      quickchartButtonEl.classList.add('colab-df-spinner');\n",
              "      try {\n",
              "        const charts = await google.colab.kernel.invokeFunction(\n",
              "            'suggestCharts', [key], {});\n",
              "      } catch (error) {\n",
              "        console.error('Error during call to suggestCharts:', error);\n",
              "      }\n",
              "      quickchartButtonEl.classList.remove('colab-df-spinner');\n",
              "      quickchartButtonEl.classList.add('colab-df-quickchart-complete');\n",
              "    }\n",
              "    (() => {\n",
              "      let quickchartButtonEl =\n",
              "        document.querySelector('#df-a39ae948-fd07-483b-a68d-6775f07c28f3 button');\n",
              "      quickchartButtonEl.style.display =\n",
              "        google.colab.kernel.accessAllowed ? 'block' : 'none';\n",
              "    })();\n",
              "  </script>\n",
              "</div>\n",
              "\n",
              "  <div id=\"id_dc123f8c-edc4-46ac-ad5d-f7640b3b44d5\">\n",
              "    <style>\n",
              "      .colab-df-generate {\n",
              "        background-color: #E8F0FE;\n",
              "        border: none;\n",
              "        border-radius: 50%;\n",
              "        cursor: pointer;\n",
              "        display: none;\n",
              "        fill: #1967D2;\n",
              "        height: 32px;\n",
              "        padding: 0 0 0 0;\n",
              "        width: 32px;\n",
              "      }\n",
              "\n",
              "      .colab-df-generate:hover {\n",
              "        background-color: #E2EBFA;\n",
              "        box-shadow: 0px 1px 2px rgba(60, 64, 67, 0.3), 0px 1px 3px 1px rgba(60, 64, 67, 0.15);\n",
              "        fill: #174EA6;\n",
              "      }\n",
              "\n",
              "      [theme=dark] .colab-df-generate {\n",
              "        background-color: #3B4455;\n",
              "        fill: #D2E3FC;\n",
              "      }\n",
              "\n",
              "      [theme=dark] .colab-df-generate:hover {\n",
              "        background-color: #434B5C;\n",
              "        box-shadow: 0px 1px 3px 1px rgba(0, 0, 0, 0.15);\n",
              "        filter: drop-shadow(0px 1px 2px rgba(0, 0, 0, 0.3));\n",
              "        fill: #FFFFFF;\n",
              "      }\n",
              "    </style>\n",
              "    <button class=\"colab-df-generate\" onclick=\"generateWithVariable('crosstab')\"\n",
              "            title=\"Generate code using this dataframe.\"\n",
              "            style=\"display:none;\">\n",
              "\n",
              "  <svg xmlns=\"http://www.w3.org/2000/svg\" height=\"24px\"viewBox=\"0 0 24 24\"\n",
              "       width=\"24px\">\n",
              "    <path d=\"M7,19H8.4L18.45,9,17,7.55,7,17.6ZM5,21V16.75L18.45,3.32a2,2,0,0,1,2.83,0l1.4,1.43a1.91,1.91,0,0,1,.58,1.4,1.91,1.91,0,0,1-.58,1.4L9.25,21ZM18.45,9,17,7.55Zm-12,3A5.31,5.31,0,0,0,4.9,8.1,5.31,5.31,0,0,0,1,6.5,5.31,5.31,0,0,0,4.9,4.9,5.31,5.31,0,0,0,6.5,1,5.31,5.31,0,0,0,8.1,4.9,5.31,5.31,0,0,0,12,6.5,5.46,5.46,0,0,0,6.5,12Z\"/>\n",
              "  </svg>\n",
              "    </button>\n",
              "    <script>\n",
              "      (() => {\n",
              "      const buttonEl =\n",
              "        document.querySelector('#id_dc123f8c-edc4-46ac-ad5d-f7640b3b44d5 button.colab-df-generate');\n",
              "      buttonEl.style.display =\n",
              "        google.colab.kernel.accessAllowed ? 'block' : 'none';\n",
              "\n",
              "      buttonEl.onclick = () => {\n",
              "        google.colab.notebook.generateWithVariable('crosstab');\n",
              "      }\n",
              "      })();\n",
              "    </script>\n",
              "  </div>\n",
              "\n",
              "    </div>\n",
              "  </div>\n"
            ],
            "application/vnd.google.colaboratory.intrinsic+json": {
              "type": "dataframe",
              "variable_name": "crosstab",
              "summary": "{\n  \"name\": \"crosstab\",\n  \"rows\": 5,\n  \"fields\": [\n    {\n      \"column\": [\n        \"SATISFIED_DEMOCRACY_W124r2\",\n        \"\"\n      ],\n      \"properties\": {\n        \"dtype\": \"string\",\n        \"num_unique_values\": 5,\n        \"samples\": [\n          \"Somewhat satisfied\",\n          \"All\",\n          \"Not too satisfied\"\n        ],\n        \"semantic_type\": \"\",\n        \"description\": \"\"\n      }\n    },\n    {\n      \"column\": [\n        \"USCOMP_STA_W124r\",\n        \"A less politically stable nation than other wealthy nations\"\n      ],\n      \"properties\": {\n        \"dtype\": \"number\",\n        \"std\": 37.21129600000516,\n        \"min\": 2.4,\n        \"max\": 100.0,\n        \"num_unique_values\": 5,\n        \"samples\": [\n          20.91,\n          100.0,\n          47.15\n        ],\n        \"semantic_type\": \"\",\n        \"description\": \"\"\n      }\n    },\n    {\n      \"column\": [\n        \"USCOMP_STA_W124r\",\n        \"A more politically stable nation than other wealthy nations\"\n      ],\n      \"properties\": {\n        \"dtype\": \"number\",\n        \"std\": 36.75184077022537,\n        \"min\": 8.28,\n        \"max\": 100.0,\n        \"num_unique_values\": 5,\n        \"samples\": [\n          42.04,\n          100.0,\n          37.74\n        ],\n        \"semantic_type\": \"\",\n        \"description\": \"\"\n      }\n    },\n    {\n      \"column\": [\n        \"USCOMP_STA_W124r\",\n        \"About as politically stable as other wealthy nations\"\n      ],\n      \"properties\": {\n        \"dtype\": \"number\",\n        \"std\": 37.43650290825787,\n        \"min\": 3.31,\n        \"max\": 100.0,\n        \"num_unique_values\": 5,\n        \"samples\": [\n          36.27,\n          100.0,\n          45.28\n        ],\n        \"semantic_type\": \"\",\n        \"description\": \"\"\n      }\n    },\n    {\n      \"column\": [\n        \"USCOMP_STA_W124r\",\n        \"All\"\n      ],\n      \"properties\": {\n        \"dtype\": \"number\",\n        \"std\": 36.676588581818784,\n        \"min\": 4.35,\n        \"max\": 100.0,\n        \"num_unique_values\": 5,\n        \"samples\": [\n          32.84,\n          100.0,\n          43.87\n        ],\n        \"semantic_type\": \"\",\n        \"description\": \"\"\n      }\n    }\n  ]\n}"
            }
          },
          "metadata": {},
          "execution_count": 12
        }
      ]
    },
    {
      "cell_type": "markdown",
      "source": [
        "### (9) Table interpretation\n",
        "\n",
        "**Cross tab**\n",
        "- For respondents who believe that the US is less politically stable than other wealthy nations\n",
        "-- 47.15% - are not too satisfied with the way democracy is working in the US\n",
        "\n",
        "- For respondents who believe the US is more politically stable than other wealthy nations\n",
        "-- 42.04% are somewhat satisfied with the way democracy is working in the US\n",
        "\n",
        "- For respondents who believe the US is about as politically stable as other wealthy nations\n",
        "-- 45.28% are not too satisfied with the way democracy is working in the US\n",
        "\n",
        "\n",
        "---\n",
        "\n",
        "- Overall for those who believe the US is less or about as politically stable as other wealthy nations, there is a higher percentage of respondents that indicated they were less satisfied with the way democracy works in the US.\n",
        "\n",
        "- Those who believe the US is more politically stable than other wealthhy nations are overall slightly more satisfied with the way democracy works in the US than less satisfied (50.36% vs 49.68%, respectively)\n",
        "\n",
        "\n",
        "\n",
        "---\n",
        "\n",
        "\n",
        "\n",
        "**Sig tab**\n",
        "- The chi-square statistic of 237.09 is statistically significant at p < 0.05.\n",
        "- The table is reliable, meaning the observed pattern is due to real differences in beliefs of satisfaction with the way democracy works and the belief that political parties represent views instead of random measurement error. We can reject the null hypothesis that there is no relationship between these two variables."
      ],
      "metadata": {
        "id": "KBljJct91jAu"
      }
    },
    {
      "cell_type": "code",
      "metadata": {
        "id": "o6K9km9KKHuC",
        "colab": {
          "base_uri": "https://localhost:8080/"
        },
        "outputId": "b4f11727-16ad-4543-f190-9826078dafdc"
      },
      "source": [
        "print(sigtab)"
      ],
      "execution_count": null,
      "outputs": [
        {
          "output_type": "stream",
          "name": "stdout",
          "text": [
            "                Chi-square test   results\n",
            "0  Pearson Chi-square ( 6.0) =   237.0979\n",
            "1                    p-value =     0.0000\n",
            "2                 Cramer's V =     0.1847\n"
          ]
        }
      ]
    },
    {
      "cell_type": "code",
      "metadata": {
        "id": "cEogXxoHL29W",
        "colab": {
          "base_uri": "https://localhost:8080/",
          "height": 606
        },
        "outputId": "b2d005f4-b2c6-4656-ad39-11835fb7753c"
      },
      "source": [
        "p = sb.displot(ATPW124_df, x='SATISFIED_DEMOCRACY_W124r2', hue='USCOMP_STA_W124r', multiple=\"stack\", height=6, aspect=1.25)\n",
        "plt.title('Satisfaction with US democracy and US political stability in comparison to other wealthy nations')\n",
        "plt.show()"
      ],
      "execution_count": null,
      "outputs": [
        {
          "output_type": "display_data",
          "data": {
            "text/plain": [
              "<Figure size 1208.38x600 with 1 Axes>"
            ],
            "image/png": "[encoded data removed]"
          },
          "metadata": {}
        }
      ]
    },
    {
      "cell_type": "markdown",
      "source": [
        "## **Part 2: Now look at how satisfaction in the way democracy works are impacted by the current economic situation in the US**\n",
        "\n",
        "\n",
        "### (1A) First, handle missing data in the 'ECON_SIT_W124' variable by recoding 'Refused' as Nan\n",
        "\n",
        "\n"
      ],
      "metadata": {
        "id": "JSdfD1lj3R5V"
      }
    },
    {
      "cell_type": "code",
      "source": [
        "ATPW124_df['ECON_SIT_W124'].value_counts()"
      ],
      "metadata": {
        "colab": {
          "base_uri": "https://localhost:8080/",
          "height": 272
        },
        "id": "LE0qLUuU3Nj7",
        "outputId": "58bb8cb9-95b5-44a6-8443-c581ad119969"
      },
      "execution_count": null,
      "outputs": [
        {
          "output_type": "execute_result",
          "data": {
            "text/plain": [
              "ECON_SIT_W124\n",
              "Somewhat bad     1661\n",
              "Somewhat good    1030\n",
              "Very bad          808\n",
              "Very good          68\n",
              "Refused             9\n",
              "Name: count, dtype: int64"
            ],
            "text/html": [
              "<div>\n",
              "<style scoped>\n",
              "    .dataframe tbody tr th:only-of-type {\n",
              "        vertical-align: middle;\n",
              "    }\n",
              "\n",
              "    .dataframe tbody tr th {\n",
              "        vertical-align: top;\n",
              "    }\n",
              "\n",
              "    .dataframe thead th {\n",
              "        text-align: right;\n",
              "    }\n",
              "</style>\n",
              "<table border=\"1\" class=\"dataframe\">\n",
              "  <thead>\n",
              "    <tr style=\"text-align: right;\">\n",
              "      <th></th>\n",
              "      <th>count</th>\n",
              "    </tr>\n",
              "    <tr>\n",
              "      <th>ECON_SIT_W124</th>\n",
              "      <th></th>\n",
              "    </tr>\n",
              "  </thead>\n",
              "  <tbody>\n",
              "    <tr>\n",
              "      <th>Somewhat bad</th>\n",
              "      <td>1661</td>\n",
              "    </tr>\n",
              "    <tr>\n",
              "      <th>Somewhat good</th>\n",
              "      <td>1030</td>\n",
              "    </tr>\n",
              "    <tr>\n",
              "      <th>Very bad</th>\n",
              "      <td>808</td>\n",
              "    </tr>\n",
              "    <tr>\n",
              "      <th>Very good</th>\n",
              "      <td>68</td>\n",
              "    </tr>\n",
              "    <tr>\n",
              "      <th>Refused</th>\n",
              "      <td>9</td>\n",
              "    </tr>\n",
              "  </tbody>\n",
              "</table>\n",
              "</div><br><label><b>dtype:</b> int64</label>"
            ]
          },
          "metadata": {},
          "execution_count": 15
        }
      ]
    },
    {
      "cell_type": "code",
      "metadata": {
        "colab": {
          "base_uri": "https://localhost:8080/",
          "height": 241
        },
        "id": "peQjAwxlZRCn",
        "outputId": "48445589-e437-45d9-db4d-9e779b014dba"
      },
      "source": [
        "# Handle missing var - if string contains 'Refused' recode it as NaN\n",
        "\n",
        "ATPW124_df['ECON_SIT_W124r'] = np.where(ATPW124_df['ECON_SIT_W124'].str.contains('Refused'), np.nan, ATPW124_df['ECON_SIT_W124'])\n",
        "ATPW124_df['ECON_SIT_W124r'].value_counts()"
      ],
      "execution_count": null,
      "outputs": [
        {
          "output_type": "execute_result",
          "data": {
            "text/plain": [
              "ECON_SIT_W124r\n",
              "Somewhat bad     1661\n",
              "Somewhat good    1030\n",
              "Very bad          808\n",
              "Very good          68\n",
              "Name: count, dtype: int64"
            ],
            "text/html": [
              "<div>\n",
              "<style scoped>\n",
              "    .dataframe tbody tr th:only-of-type {\n",
              "        vertical-align: middle;\n",
              "    }\n",
              "\n",
              "    .dataframe tbody tr th {\n",
              "        vertical-align: top;\n",
              "    }\n",
              "\n",
              "    .dataframe thead th {\n",
              "        text-align: right;\n",
              "    }\n",
              "</style>\n",
              "<table border=\"1\" class=\"dataframe\">\n",
              "  <thead>\n",
              "    <tr style=\"text-align: right;\">\n",
              "      <th></th>\n",
              "      <th>count</th>\n",
              "    </tr>\n",
              "    <tr>\n",
              "      <th>ECON_SIT_W124r</th>\n",
              "      <th></th>\n",
              "    </tr>\n",
              "  </thead>\n",
              "  <tbody>\n",
              "    <tr>\n",
              "      <th>Somewhat bad</th>\n",
              "      <td>1661</td>\n",
              "    </tr>\n",
              "    <tr>\n",
              "      <th>Somewhat good</th>\n",
              "      <td>1030</td>\n",
              "    </tr>\n",
              "    <tr>\n",
              "      <th>Very bad</th>\n",
              "      <td>808</td>\n",
              "    </tr>\n",
              "    <tr>\n",
              "      <th>Very good</th>\n",
              "      <td>68</td>\n",
              "    </tr>\n",
              "  </tbody>\n",
              "</table>\n",
              "</div><br><label><b>dtype:</b> int64</label>"
            ]
          },
          "metadata": {},
          "execution_count": 16
        }
      ]
    },
    {
      "cell_type": "markdown",
      "source": [
        "### (2A) Use CategoricalDtype to preserve the order for the ordinal variable"
      ],
      "metadata": {
        "id": "KkSq2NVYNGqQ"
      }
    },
    {
      "cell_type": "code",
      "source": [
        "# Ordinal variable - use categoricalDtype to maintain order\n",
        "cat_type2 = CategoricalDtype(categories=[\"Very good\", \"Somewhat good\", \"Somewhat bad\", \"Very bad\"], ordered=True)\n",
        "\n",
        "# Apply var cat_type2 to data frame & recoded var that has NaN for missing\n",
        "ATPW124_df['ECON_SIT_W124r2'] = ATPW124_df['ECON_SIT_W124r'].astype(cat_type2)\n",
        "ATPW124_df['ECON_SIT_W124r2']"
      ],
      "metadata": {
        "colab": {
          "base_uri": "https://localhost:8080/",
          "height": 458
        },
        "id": "K55BjUZz3Yej",
        "outputId": "660ff60d-6494-4be9-deae-49e3d84be963"
      },
      "execution_count": null,
      "outputs": [
        {
          "output_type": "execute_result",
          "data": {
            "text/plain": [
              "0       Somewhat good\n",
              "1            Very bad\n",
              "2        Somewhat bad\n",
              "3            Very bad\n",
              "4        Somewhat bad\n",
              "            ...      \n",
              "3571         Very bad\n",
              "3572    Somewhat good\n",
              "3573    Somewhat good\n",
              "3574         Very bad\n",
              "3575        Very good\n",
              "Name: ECON_SIT_W124r2, Length: 3576, dtype: category\n",
              "Categories (4, object): ['Very good' < 'Somewhat good' < 'Somewhat bad' < 'Very bad']"
            ],
            "text/html": [
              "<div>\n",
              "<style scoped>\n",
              "    .dataframe tbody tr th:only-of-type {\n",
              "        vertical-align: middle;\n",
              "    }\n",
              "\n",
              "    .dataframe tbody tr th {\n",
              "        vertical-align: top;\n",
              "    }\n",
              "\n",
              "    .dataframe thead th {\n",
              "        text-align: right;\n",
              "    }\n",
              "</style>\n",
              "<table border=\"1\" class=\"dataframe\">\n",
              "  <thead>\n",
              "    <tr style=\"text-align: right;\">\n",
              "      <th></th>\n",
              "      <th>ECON_SIT_W124r2</th>\n",
              "    </tr>\n",
              "  </thead>\n",
              "  <tbody>\n",
              "    <tr>\n",
              "      <th>0</th>\n",
              "      <td>Somewhat good</td>\n",
              "    </tr>\n",
              "    <tr>\n",
              "      <th>1</th>\n",
              "      <td>Very bad</td>\n",
              "    </tr>\n",
              "    <tr>\n",
              "      <th>2</th>\n",
              "      <td>Somewhat bad</td>\n",
              "    </tr>\n",
              "    <tr>\n",
              "      <th>3</th>\n",
              "      <td>Very bad</td>\n",
              "    </tr>\n",
              "    <tr>\n",
              "      <th>4</th>\n",
              "      <td>Somewhat bad</td>\n",
              "    </tr>\n",
              "    <tr>\n",
              "      <th>...</th>\n",
              "      <td>...</td>\n",
              "    </tr>\n",
              "    <tr>\n",
              "      <th>3571</th>\n",
              "      <td>Very bad</td>\n",
              "    </tr>\n",
              "    <tr>\n",
              "      <th>3572</th>\n",
              "      <td>Somewhat good</td>\n",
              "    </tr>\n",
              "    <tr>\n",
              "      <th>3573</th>\n",
              "      <td>Somewhat good</td>\n",
              "    </tr>\n",
              "    <tr>\n",
              "      <th>3574</th>\n",
              "      <td>Very bad</td>\n",
              "    </tr>\n",
              "    <tr>\n",
              "      <th>3575</th>\n",
              "      <td>Very good</td>\n",
              "    </tr>\n",
              "  </tbody>\n",
              "</table>\n",
              "<p>3576 rows × 1 columns</p>\n",
              "</div><br><label><b>dtype:</b> category</label>"
            ]
          },
          "metadata": {},
          "execution_count": 17
        }
      ]
    },
    {
      "cell_type": "markdown",
      "source": [
        "### (3A) Create cross tab and sig tab"
      ],
      "metadata": {
        "id": "nAGBuOtU3r20"
      }
    },
    {
      "cell_type": "code",
      "metadata": {
        "id": "Llb1yQPXMZm1",
        "colab": {
          "base_uri": "https://localhost:8080/",
          "height": 323
        },
        "outputId": "aa63b4fd-af20-499e-f605-0aa36b575c8e"
      },
      "source": [
        "# Code block 4b: More analysis with a crosstabulation (bivariate percentage table)\n",
        "crosstab, sigtab = rp.crosstab(ATPW124_df.SATISFIED_DEMOCRACY_W124r2, ATPW124_df.ECON_SIT_W124r2, prop='col', test='chi-square')\n",
        "crosstab"
      ],
      "execution_count": null,
      "outputs": [
        {
          "output_type": "stream",
          "name": "stderr",
          "text": [
            "/usr/local/lib/python3.10/dist-packages/researchpy/crosstab.py:146: FutureWarning: Setting an item of incompatible dtype is deprecated and will raise an error in a future version of pandas. Value 'Pearson Chi-square ( 9.0) = ' has dtype incompatible with float64, please explicitly cast to a compatible dtype first.\n",
            "  table.iloc[0,0] = f\"Pearson Chi-square ({dof: .1f}) = \"\n"
          ]
        },
        {
          "output_type": "execute_result",
          "data": {
            "text/plain": [
              "                           ECON_SIT_W124r2                             \\\n",
              "ECON_SIT_W124r2                  Very good Somewhat good Somewhat bad   \n",
              "SATISFIED_DEMOCRACY_W124r2                                              \n",
              "Very satisfied                       47.76          7.30         2.02   \n",
              "Somewhat satisfied                   32.84         59.76        28.53   \n",
              "Not too satisfied                    13.43         28.21        58.16   \n",
              "Not at all satisfied                  5.97          4.73        11.29   \n",
              "All                                 100.00        100.00       100.00   \n",
              "\n",
              "                                             \n",
              "ECON_SIT_W124r2            Very bad     All  \n",
              "SATISFIED_DEMOCRACY_W124r2                   \n",
              "Very satisfied                 1.36    4.26  \n",
              "Somewhat satisfied             7.81   32.86  \n",
              "Not too satisfied             37.17   43.86  \n",
              "Not at all satisfied          53.66   19.02  \n",
              "All                          100.00  100.00  "
            ],
            "text/html": [
              "\n",
              "  <div id=\"df-5b099795-ba27-46f5-9b92-72b6a8484276\" class=\"colab-df-container\">\n",
              "    <div>\n",
              "<style scoped>\n",
              "    .dataframe tbody tr th:only-of-type {\n",
              "        vertical-align: middle;\n",
              "    }\n",
              "\n",
              "    .dataframe tbody tr th {\n",
              "        vertical-align: top;\n",
              "    }\n",
              "\n",
              "    .dataframe thead tr th {\n",
              "        text-align: left;\n",
              "    }\n",
              "\n",
              "    .dataframe thead tr:last-of-type th {\n",
              "        text-align: right;\n",
              "    }\n",
              "</style>\n",
              "<table border=\"1\" class=\"dataframe\">\n",
              "  <thead>\n",
              "    <tr>\n",
              "      <th></th>\n",
              "      <th colspan=\"5\" halign=\"left\">ECON_SIT_W124r2</th>\n",
              "    </tr>\n",
              "    <tr>\n",
              "      <th>ECON_SIT_W124r2</th>\n",
              "      <th>Very good</th>\n",
              "      <th>Somewhat good</th>\n",
              "      <th>Somewhat bad</th>\n",
              "      <th>Very bad</th>\n",
              "      <th>All</th>\n",
              "    </tr>\n",
              "    <tr>\n",
              "      <th>SATISFIED_DEMOCRACY_W124r2</th>\n",
              "      <th></th>\n",
              "      <th></th>\n",
              "      <th></th>\n",
              "      <th></th>\n",
              "      <th></th>\n",
              "    </tr>\n",
              "  </thead>\n",
              "  <tbody>\n",
              "    <tr>\n",
              "      <th>Very satisfied</th>\n",
              "      <td>47.76</td>\n",
              "      <td>7.30</td>\n",
              "      <td>2.02</td>\n",
              "      <td>1.36</td>\n",
              "      <td>4.26</td>\n",
              "    </tr>\n",
              "    <tr>\n",
              "      <th>Somewhat satisfied</th>\n",
              "      <td>32.84</td>\n",
              "      <td>59.76</td>\n",
              "      <td>28.53</td>\n",
              "      <td>7.81</td>\n",
              "      <td>32.86</td>\n",
              "    </tr>\n",
              "    <tr>\n",
              "      <th>Not too satisfied</th>\n",
              "      <td>13.43</td>\n",
              "      <td>28.21</td>\n",
              "      <td>58.16</td>\n",
              "      <td>37.17</td>\n",
              "      <td>43.86</td>\n",
              "    </tr>\n",
              "    <tr>\n",
              "      <th>Not at all satisfied</th>\n",
              "      <td>5.97</td>\n",
              "      <td>4.73</td>\n",
              "      <td>11.29</td>\n",
              "      <td>53.66</td>\n",
              "      <td>19.02</td>\n",
              "    </tr>\n",
              "    <tr>\n",
              "      <th>All</th>\n",
              "      <td>100.00</td>\n",
              "      <td>100.00</td>\n",
              "      <td>100.00</td>\n",
              "      <td>100.00</td>\n",
              "      <td>100.00</td>\n",
              "    </tr>\n",
              "  </tbody>\n",
              "</table>\n",
              "</div>\n",
              "    <div class=\"colab-df-buttons\">\n",
              "\n",
              "  <div class=\"colab-df-container\">\n",
              "    <button class=\"colab-df-convert\" onclick=\"convertToInteractive('df-5b099795-ba27-46f5-9b92-72b6a8484276')\"\n",
              "            title=\"Convert this dataframe to an interactive table.\"\n",
              "            style=\"display:none;\">\n",
              "\n",
              "  <svg xmlns=\"http://www.w3.org/2000/svg\" height=\"24px\" viewBox=\"0 -960 960 960\">\n",
              "    <path d=\"M120-120v-720h720v720H120Zm60-500h600v-160H180v160Zm220 220h160v-160H400v160Zm0 220h160v-160H400v160ZM180-400h160v-160H180v160Zm440 0h160v-160H620v160ZM180-180h160v-160H180v160Zm440 0h160v-160H620v160Z\"/>\n",
              "  </svg>\n",
              "    </button>\n",
              "\n",
              "  <style>\n",
              "    .colab-df-container {\n",
              "      display:flex;\n",
              "      gap: 12px;\n",
              "    }\n",
              "\n",
              "    .colab-df-convert {\n",
              "      background-color: #E8F0FE;\n",
              "      border: none;\n",
              "      border-radius: 50%;\n",
              "      cursor: pointer;\n",
              "      display: none;\n",
              "      fill: #1967D2;\n",
              "      height: 32px;\n",
              "      padding: 0 0 0 0;\n",
              "      width: 32px;\n",
              "    }\n",
              "\n",
              "    .colab-df-convert:hover {\n",
              "      background-color: #E2EBFA;\n",
              "      box-shadow: 0px 1px 2px rgba(60, 64, 67, 0.3), 0px 1px 3px 1px rgba(60, 64, 67, 0.15);\n",
              "      fill: #174EA6;\n",
              "    }\n",
              "\n",
              "    .colab-df-buttons div {\n",
              "      margin-bottom: 4px;\n",
              "    }\n",
              "\n",
              "    [theme=dark] .colab-df-convert {\n",
              "      background-color: #3B4455;\n",
              "      fill: #D2E3FC;\n",
              "    }\n",
              "\n",
              "    [theme=dark] .colab-df-convert:hover {\n",
              "      background-color: #434B5C;\n",
              "      box-shadow: 0px 1px 3px 1px rgba(0, 0, 0, 0.15);\n",
              "      filter: drop-shadow(0px 1px 2px rgba(0, 0, 0, 0.3));\n",
              "      fill: #FFFFFF;\n",
              "    }\n",
              "  </style>\n",
              "\n",
              "    <script>\n",
              "      const buttonEl =\n",
              "        document.querySelector('#df-5b099795-ba27-46f5-9b92-72b6a8484276 button.colab-df-convert');\n",
              "      buttonEl.style.display =\n",
              "        google.colab.kernel.accessAllowed ? 'block' : 'none';\n",
              "\n",
              "      async function convertToInteractive(key) {\n",
              "        const element = document.querySelector('#df-5b099795-ba27-46f5-9b92-72b6a8484276');\n",
              "        const dataTable =\n",
              "          await google.colab.kernel.invokeFunction('convertToInteractive',\n",
              "                                                    [key], {});\n",
              "        if (!dataTable) return;\n",
              "\n",
              "        const docLinkHtml = 'Like what you see? Visit the ' +\n",
              "          '<a target=\"_blank\" href=https://colab.research.google.com/notebooks/data_table.ipynb>data table notebook</a>'\n",
              "          + ' to learn more about interactive tables.';\n",
              "        element.innerHTML = '';\n",
              "        dataTable['output_type'] = 'display_data';\n",
              "        await google.colab.output.renderOutput(dataTable, element);\n",
              "        const docLink = document.createElement('div');\n",
              "        docLink.innerHTML = docLinkHtml;\n",
              "        element.appendChild(docLink);\n",
              "      }\n",
              "    </script>\n",
              "  </div>\n",
              "\n",
              "\n",
              "<div id=\"df-52a3fb04-d538-4118-8337-5f2f47af86b5\">\n",
              "  <button class=\"colab-df-quickchart\" onclick=\"quickchart('df-52a3fb04-d538-4118-8337-5f2f47af86b5')\"\n",
              "            title=\"Suggest charts\"\n",
              "            style=\"display:none;\">\n",
              "\n",
              "<svg xmlns=\"http://www.w3.org/2000/svg\" height=\"24px\"viewBox=\"0 0 24 24\"\n",
              "     width=\"24px\">\n",
              "    <g>\n",
              "        <path d=\"M19 3H5c-1.1 0-2 .9-2 2v14c0 1.1.9 2 2 2h14c1.1 0 2-.9 2-2V5c0-1.1-.9-2-2-2zM9 17H7v-7h2v7zm4 0h-2V7h2v10zm4 0h-2v-4h2v4z\"/>\n",
              "    </g>\n",
              "</svg>\n",
              "  </button>\n",
              "\n",
              "<style>\n",
              "  .colab-df-quickchart {\n",
              "      --bg-color: #E8F0FE;\n",
              "      --fill-color: #1967D2;\n",
              "      --hover-bg-color: #E2EBFA;\n",
              "      --hover-fill-color: #174EA6;\n",
              "      --disabled-fill-color: #AAA;\n",
              "      --disabled-bg-color: #DDD;\n",
              "  }\n",
              "\n",
              "  [theme=dark] .colab-df-quickchart {\n",
              "      --bg-color: #3B4455;\n",
              "      --fill-color: #D2E3FC;\n",
              "      --hover-bg-color: #434B5C;\n",
              "      --hover-fill-color: #FFFFFF;\n",
              "      --disabled-bg-color: #3B4455;\n",
              "      --disabled-fill-color: #666;\n",
              "  }\n",
              "\n",
              "  .colab-df-quickchart {\n",
              "    background-color: var(--bg-color);\n",
              "    border: none;\n",
              "    border-radius: 50%;\n",
              "    cursor: pointer;\n",
              "    display: none;\n",
              "    fill: var(--fill-color);\n",
              "    height: 32px;\n",
              "    padding: 0;\n",
              "    width: 32px;\n",
              "  }\n",
              "\n",
              "  .colab-df-quickchart:hover {\n",
              "    background-color: var(--hover-bg-color);\n",
              "    box-shadow: 0 1px 2px rgba(60, 64, 67, 0.3), 0 1px 3px 1px rgba(60, 64, 67, 0.15);\n",
              "    fill: var(--button-hover-fill-color);\n",
              "  }\n",
              "\n",
              "  .colab-df-quickchart-complete:disabled,\n",
              "  .colab-df-quickchart-complete:disabled:hover {\n",
              "    background-color: var(--disabled-bg-color);\n",
              "    fill: var(--disabled-fill-color);\n",
              "    box-shadow: none;\n",
              "  }\n",
              "\n",
              "  .colab-df-spinner {\n",
              "    border: 2px solid var(--fill-color);\n",
              "    border-color: transparent;\n",
              "    border-bottom-color: var(--fill-color);\n",
              "    animation:\n",
              "      spin 1s steps(1) infinite;\n",
              "  }\n",
              "\n",
              "  @keyframes spin {\n",
              "    0% {\n",
              "      border-color: transparent;\n",
              "      border-bottom-color: var(--fill-color);\n",
              "      border-left-color: var(--fill-color);\n",
              "    }\n",
              "    20% {\n",
              "      border-color: transparent;\n",
              "      border-left-color: var(--fill-color);\n",
              "      border-top-color: var(--fill-color);\n",
              "    }\n",
              "    30% {\n",
              "      border-color: transparent;\n",
              "      border-left-color: var(--fill-color);\n",
              "      border-top-color: var(--fill-color);\n",
              "      border-right-color: var(--fill-color);\n",
              "    }\n",
              "    40% {\n",
              "      border-color: transparent;\n",
              "      border-right-color: var(--fill-color);\n",
              "      border-top-color: var(--fill-color);\n",
              "    }\n",
              "    60% {\n",
              "      border-color: transparent;\n",
              "      border-right-color: var(--fill-color);\n",
              "    }\n",
              "    80% {\n",
              "      border-color: transparent;\n",
              "      border-right-color: var(--fill-color);\n",
              "      border-bottom-color: var(--fill-color);\n",
              "    }\n",
              "    90% {\n",
              "      border-color: transparent;\n",
              "      border-bottom-color: var(--fill-color);\n",
              "    }\n",
              "  }\n",
              "</style>\n",
              "\n",
              "  <script>\n",
              "    async function quickchart(key) {\n",
              "      const quickchartButtonEl =\n",
              "        document.querySelector('#' + key + ' button');\n",
              "      quickchartButtonEl.disabled = true;  // To prevent multiple clicks.\n",
              "      quickchartButtonEl.classList.add('colab-df-spinner');\n",
              "      try {\n",
              "        const charts = await google.colab.kernel.invokeFunction(\n",
              "            'suggestCharts', [key], {});\n",
              "      } catch (error) {\n",
              "        console.error('Error during call to suggestCharts:', error);\n",
              "      }\n",
              "      quickchartButtonEl.classList.remove('colab-df-spinner');\n",
              "      quickchartButtonEl.classList.add('colab-df-quickchart-complete');\n",
              "    }\n",
              "    (() => {\n",
              "      let quickchartButtonEl =\n",
              "        document.querySelector('#df-52a3fb04-d538-4118-8337-5f2f47af86b5 button');\n",
              "      quickchartButtonEl.style.display =\n",
              "        google.colab.kernel.accessAllowed ? 'block' : 'none';\n",
              "    })();\n",
              "  </script>\n",
              "</div>\n",
              "\n",
              "  <div id=\"id_ff05c218-bf1f-49a7-85ec-dfcffc7fe3db\">\n",
              "    <style>\n",
              "      .colab-df-generate {\n",
              "        background-color: #E8F0FE;\n",
              "        border: none;\n",
              "        border-radius: 50%;\n",
              "        cursor: pointer;\n",
              "        display: none;\n",
              "        fill: #1967D2;\n",
              "        height: 32px;\n",
              "        padding: 0 0 0 0;\n",
              "        width: 32px;\n",
              "      }\n",
              "\n",
              "      .colab-df-generate:hover {\n",
              "        background-color: #E2EBFA;\n",
              "        box-shadow: 0px 1px 2px rgba(60, 64, 67, 0.3), 0px 1px 3px 1px rgba(60, 64, 67, 0.15);\n",
              "        fill: #174EA6;\n",
              "      }\n",
              "\n",
              "      [theme=dark] .colab-df-generate {\n",
              "        background-color: #3B4455;\n",
              "        fill: #D2E3FC;\n",
              "      }\n",
              "\n",
              "      [theme=dark] .colab-df-generate:hover {\n",
              "        background-color: #434B5C;\n",
              "        box-shadow: 0px 1px 3px 1px rgba(0, 0, 0, 0.15);\n",
              "        filter: drop-shadow(0px 1px 2px rgba(0, 0, 0, 0.3));\n",
              "        fill: #FFFFFF;\n",
              "      }\n",
              "    </style>\n",
              "    <button class=\"colab-df-generate\" onclick=\"generateWithVariable('crosstab')\"\n",
              "            title=\"Generate code using this dataframe.\"\n",
              "            style=\"display:none;\">\n",
              "\n",
              "  <svg xmlns=\"http://www.w3.org/2000/svg\" height=\"24px\"viewBox=\"0 0 24 24\"\n",
              "       width=\"24px\">\n",
              "    <path d=\"M7,19H8.4L18.45,9,17,7.55,7,17.6ZM5,21V16.75L18.45,3.32a2,2,0,0,1,2.83,0l1.4,1.43a1.91,1.91,0,0,1,.58,1.4,1.91,1.91,0,0,1-.58,1.4L9.25,21ZM18.45,9,17,7.55Zm-12,3A5.31,5.31,0,0,0,4.9,8.1,5.31,5.31,0,0,0,1,6.5,5.31,5.31,0,0,0,4.9,4.9,5.31,5.31,0,0,0,6.5,1,5.31,5.31,0,0,0,8.1,4.9,5.31,5.31,0,0,0,12,6.5,5.46,5.46,0,0,0,6.5,12Z\"/>\n",
              "  </svg>\n",
              "    </button>\n",
              "    <script>\n",
              "      (() => {\n",
              "      const buttonEl =\n",
              "        document.querySelector('#id_ff05c218-bf1f-49a7-85ec-dfcffc7fe3db button.colab-df-generate');\n",
              "      buttonEl.style.display =\n",
              "        google.colab.kernel.accessAllowed ? 'block' : 'none';\n",
              "\n",
              "      buttonEl.onclick = () => {\n",
              "        google.colab.notebook.generateWithVariable('crosstab');\n",
              "      }\n",
              "      })();\n",
              "    </script>\n",
              "  </div>\n",
              "\n",
              "    </div>\n",
              "  </div>\n"
            ],
            "application/vnd.google.colaboratory.intrinsic+json": {
              "type": "dataframe",
              "variable_name": "crosstab",
              "summary": "{\n  \"name\": \"crosstab\",\n  \"rows\": 5,\n  \"fields\": [\n    {\n      \"column\": [\n        \"SATISFIED_DEMOCRACY_W124r2\",\n        \"\"\n      ],\n      \"properties\": {\n        \"dtype\": \"string\",\n        \"num_unique_values\": 5,\n        \"samples\": [\n          \"Somewhat satisfied\",\n          \"All\",\n          \"Not too satisfied\"\n        ],\n        \"semantic_type\": \"\",\n        \"description\": \"\"\n      }\n    },\n    {\n      \"column\": [\n        \"ECON_SIT_W124r2\",\n        \"Very good\"\n      ],\n      \"properties\": {\n        \"dtype\": \"number\",\n        \"std\": 37.33459856487009,\n        \"min\": 5.97,\n        \"max\": 100.0,\n        \"num_unique_values\": 5,\n        \"samples\": [\n          32.84,\n          100.0,\n          13.43\n        ],\n        \"semantic_type\": \"\",\n        \"description\": \"\"\n      }\n    },\n    {\n      \"column\": [\n        \"ECON_SIT_W124r2\",\n        \"Somewhat good\"\n      ],\n      \"properties\": {\n        \"dtype\": \"number\",\n        \"std\": 40.13329228956927,\n        \"min\": 4.73,\n        \"max\": 100.0,\n        \"num_unique_values\": 5,\n        \"samples\": [\n          59.76,\n          100.0,\n          28.21\n        ],\n        \"semantic_type\": \"\",\n        \"description\": \"\"\n      }\n    },\n    {\n      \"column\": [\n        \"ECON_SIT_W124r2\",\n        \"Somewhat bad\"\n      ],\n      \"properties\": {\n        \"dtype\": \"number\",\n        \"std\": 39.77464958990839,\n        \"min\": 2.02,\n        \"max\": 100.0,\n        \"num_unique_values\": 5,\n        \"samples\": [\n          28.53,\n          100.0,\n          58.16\n        ],\n        \"semantic_type\": \"\",\n        \"description\": \"\"\n      }\n    },\n    {\n      \"column\": [\n        \"ECON_SIT_W124r2\",\n        \"Very bad\"\n      ],\n      \"properties\": {\n        \"dtype\": \"number\",\n        \"std\": 39.76131977185868,\n        \"min\": 1.36,\n        \"max\": 100.0,\n        \"num_unique_values\": 5,\n        \"samples\": [\n          7.81,\n          100.0,\n          37.17\n        ],\n        \"semantic_type\": \"\",\n        \"description\": \"\"\n      }\n    },\n    {\n      \"column\": [\n        \"ECON_SIT_W124r2\",\n        \"All\"\n      ],\n      \"properties\": {\n        \"dtype\": \"number\",\n        \"std\": 36.685784712883,\n        \"min\": 4.26,\n        \"max\": 100.0,\n        \"num_unique_values\": 5,\n        \"samples\": [\n          32.86,\n          100.0,\n          43.86\n        ],\n        \"semantic_type\": \"\",\n        \"description\": \"\"\n      }\n    }\n  ]\n}"
            }
          },
          "metadata": {},
          "execution_count": 18
        }
      ]
    },
    {
      "cell_type": "markdown",
      "source": [
        "### (4A) Table Interpretation\n",
        "\n",
        "**Cross tab**\n",
        "- The cross table shows that the satisfaction in the way democracy works in the US corresponds proportionally (diagonally) with the descriptions of the current economic situation in the US.\n",
        "- 47.76% of those who described the current economic situation as very good also rated themselves very satisfied with the way democracy works\n",
        "- 59.76% of those who described the current economic situation as somewhat good also rated themselves as somewhat satisfied with the way democracy works\n",
        "- 58.16% of those who described the current economic situation as somewhat bad also rated themselves as not too satisifed with the way deomocracy works\n",
        "- 53.66% of those who described the current economic situation as very bad also rated themselves as not at all satisfied with the way democracy works\n",
        "\n",
        "\n",
        "\n",
        "---\n",
        "\n",
        "\n",
        "\n",
        "**Sig tab**\n",
        "- The chi-square statistic of 1571.27 is statistically significant at p < 0.05.\n",
        "- The table is reliable, and the observed patterns are due to real differences in descriptions of the current economic situation and the satisfaction in the way democracy operates rather than random measurement error. We can reject the null hypothesis that there is no relationship between the categorical variables.\n"
      ],
      "metadata": {
        "id": "md3vv_lr3yck"
      }
    },
    {
      "cell_type": "code",
      "metadata": {
        "id": "rgws-85YMrOe",
        "colab": {
          "base_uri": "https://localhost:8080/",
          "height": 143
        },
        "outputId": "9f05fa29-ae62-4110-e082-e8f7cca2f2a4"
      },
      "source": [
        "sigtab"
      ],
      "execution_count": null,
      "outputs": [
        {
          "output_type": "execute_result",
          "data": {
            "text/plain": [
              "                Chi-square test    results\n",
              "0  Pearson Chi-square ( 9.0) =   1571.2689\n",
              "1                    p-value =      0.0000\n",
              "2                 Cramer's V =      0.3858"
            ],
            "text/html": [
              "\n",
              "  <div id=\"df-5fbfd678-050a-4884-b9fc-a015b18c0d97\" class=\"colab-df-container\">\n",
              "    <div>\n",
              "<style scoped>\n",
              "    .dataframe tbody tr th:only-of-type {\n",
              "        vertical-align: middle;\n",
              "    }\n",
              "\n",
              "    .dataframe tbody tr th {\n",
              "        vertical-align: top;\n",
              "    }\n",
              "\n",
              "    .dataframe thead th {\n",
              "        text-align: right;\n",
              "    }\n",
              "</style>\n",
              "<table border=\"1\" class=\"dataframe\">\n",
              "  <thead>\n",
              "    <tr style=\"text-align: right;\">\n",
              "      <th></th>\n",
              "      <th>Chi-square test</th>\n",
              "      <th>results</th>\n",
              "    </tr>\n",
              "  </thead>\n",
              "  <tbody>\n",
              "    <tr>\n",
              "      <th>0</th>\n",
              "      <td>Pearson Chi-square ( 9.0) =</td>\n",
              "      <td>1571.2689</td>\n",
              "    </tr>\n",
              "    <tr>\n",
              "      <th>1</th>\n",
              "      <td>p-value =</td>\n",
              "      <td>0.0000</td>\n",
              "    </tr>\n",
              "    <tr>\n",
              "      <th>2</th>\n",
              "      <td>Cramer's V =</td>\n",
              "      <td>0.3858</td>\n",
              "    </tr>\n",
              "  </tbody>\n",
              "</table>\n",
              "</div>\n",
              "    <div class=\"colab-df-buttons\">\n",
              "\n",
              "  <div class=\"colab-df-container\">\n",
              "    <button class=\"colab-df-convert\" onclick=\"convertToInteractive('df-5fbfd678-050a-4884-b9fc-a015b18c0d97')\"\n",
              "            title=\"Convert this dataframe to an interactive table.\"\n",
              "            style=\"display:none;\">\n",
              "\n",
              "  <svg xmlns=\"http://www.w3.org/2000/svg\" height=\"24px\" viewBox=\"0 -960 960 960\">\n",
              "    <path d=\"M120-120v-720h720v720H120Zm60-500h600v-160H180v160Zm220 220h160v-160H400v160Zm0 220h160v-160H400v160ZM180-400h160v-160H180v160Zm440 0h160v-160H620v160ZM180-180h160v-160H180v160Zm440 0h160v-160H620v160Z\"/>\n",
              "  </svg>\n",
              "    </button>\n",
              "\n",
              "  <style>\n",
              "    .colab-df-container {\n",
              "      display:flex;\n",
              "      gap: 12px;\n",
              "    }\n",
              "\n",
              "    .colab-df-convert {\n",
              "      background-color: #E8F0FE;\n",
              "      border: none;\n",
              "      border-radius: 50%;\n",
              "      cursor: pointer;\n",
              "      display: none;\n",
              "      fill: #1967D2;\n",
              "      height: 32px;\n",
              "      padding: 0 0 0 0;\n",
              "      width: 32px;\n",
              "    }\n",
              "\n",
              "    .colab-df-convert:hover {\n",
              "      background-color: #E2EBFA;\n",
              "      box-shadow: 0px 1px 2px rgba(60, 64, 67, 0.3), 0px 1px 3px 1px rgba(60, 64, 67, 0.15);\n",
              "      fill: #174EA6;\n",
              "    }\n",
              "\n",
              "    .colab-df-buttons div {\n",
              "      margin-bottom: 4px;\n",
              "    }\n",
              "\n",
              "    [theme=dark] .colab-df-convert {\n",
              "      background-color: #3B4455;\n",
              "      fill: #D2E3FC;\n",
              "    }\n",
              "\n",
              "    [theme=dark] .colab-df-convert:hover {\n",
              "      background-color: #434B5C;\n",
              "      box-shadow: 0px 1px 3px 1px rgba(0, 0, 0, 0.15);\n",
              "      filter: drop-shadow(0px 1px 2px rgba(0, 0, 0, 0.3));\n",
              "      fill: #FFFFFF;\n",
              "    }\n",
              "  </style>\n",
              "\n",
              "    <script>\n",
              "      const buttonEl =\n",
              "        document.querySelector('#df-5fbfd678-050a-4884-b9fc-a015b18c0d97 button.colab-df-convert');\n",
              "      buttonEl.style.display =\n",
              "        google.colab.kernel.accessAllowed ? 'block' : 'none';\n",
              "\n",
              "      async function convertToInteractive(key) {\n",
              "        const element = document.querySelector('#df-5fbfd678-050a-4884-b9fc-a015b18c0d97');\n",
              "        const dataTable =\n",
              "          await google.colab.kernel.invokeFunction('convertToInteractive',\n",
              "                                                    [key], {});\n",
              "        if (!dataTable) return;\n",
              "\n",
              "        const docLinkHtml = 'Like what you see? Visit the ' +\n",
              "          '<a target=\"_blank\" href=https://colab.research.google.com/notebooks/data_table.ipynb>data table notebook</a>'\n",
              "          + ' to learn more about interactive tables.';\n",
              "        element.innerHTML = '';\n",
              "        dataTable['output_type'] = 'display_data';\n",
              "        await google.colab.output.renderOutput(dataTable, element);\n",
              "        const docLink = document.createElement('div');\n",
              "        docLink.innerHTML = docLinkHtml;\n",
              "        element.appendChild(docLink);\n",
              "      }\n",
              "    </script>\n",
              "  </div>\n",
              "\n",
              "\n",
              "<div id=\"df-64c65d7f-7b89-46a6-9976-f53be1275070\">\n",
              "  <button class=\"colab-df-quickchart\" onclick=\"quickchart('df-64c65d7f-7b89-46a6-9976-f53be1275070')\"\n",
              "            title=\"Suggest charts\"\n",
              "            style=\"display:none;\">\n",
              "\n",
              "<svg xmlns=\"http://www.w3.org/2000/svg\" height=\"24px\"viewBox=\"0 0 24 24\"\n",
              "     width=\"24px\">\n",
              "    <g>\n",
              "        <path d=\"M19 3H5c-1.1 0-2 .9-2 2v14c0 1.1.9 2 2 2h14c1.1 0 2-.9 2-2V5c0-1.1-.9-2-2-2zM9 17H7v-7h2v7zm4 0h-2V7h2v10zm4 0h-2v-4h2v4z\"/>\n",
              "    </g>\n",
              "</svg>\n",
              "  </button>\n",
              "\n",
              "<style>\n",
              "  .colab-df-quickchart {\n",
              "      --bg-color: #E8F0FE;\n",
              "      --fill-color: #1967D2;\n",
              "      --hover-bg-color: #E2EBFA;\n",
              "      --hover-fill-color: #174EA6;\n",
              "      --disabled-fill-color: #AAA;\n",
              "      --disabled-bg-color: #DDD;\n",
              "  }\n",
              "\n",
              "  [theme=dark] .colab-df-quickchart {\n",
              "      --bg-color: #3B4455;\n",
              "      --fill-color: #D2E3FC;\n",
              "      --hover-bg-color: #434B5C;\n",
              "      --hover-fill-color: #FFFFFF;\n",
              "      --disabled-bg-color: #3B4455;\n",
              "      --disabled-fill-color: #666;\n",
              "  }\n",
              "\n",
              "  .colab-df-quickchart {\n",
              "    background-color: var(--bg-color);\n",
              "    border: none;\n",
              "    border-radius: 50%;\n",
              "    cursor: pointer;\n",
              "    display: none;\n",
              "    fill: var(--fill-color);\n",
              "    height: 32px;\n",
              "    padding: 0;\n",
              "    width: 32px;\n",
              "  }\n",
              "\n",
              "  .colab-df-quickchart:hover {\n",
              "    background-color: var(--hover-bg-color);\n",
              "    box-shadow: 0 1px 2px rgba(60, 64, 67, 0.3), 0 1px 3px 1px rgba(60, 64, 67, 0.15);\n",
              "    fill: var(--button-hover-fill-color);\n",
              "  }\n",
              "\n",
              "  .colab-df-quickchart-complete:disabled,\n",
              "  .colab-df-quickchart-complete:disabled:hover {\n",
              "    background-color: var(--disabled-bg-color);\n",
              "    fill: var(--disabled-fill-color);\n",
              "    box-shadow: none;\n",
              "  }\n",
              "\n",
              "  .colab-df-spinner {\n",
              "    border: 2px solid var(--fill-color);\n",
              "    border-color: transparent;\n",
              "    border-bottom-color: var(--fill-color);\n",
              "    animation:\n",
              "      spin 1s steps(1) infinite;\n",
              "  }\n",
              "\n",
              "  @keyframes spin {\n",
              "    0% {\n",
              "      border-color: transparent;\n",
              "      border-bottom-color: var(--fill-color);\n",
              "      border-left-color: var(--fill-color);\n",
              "    }\n",
              "    20% {\n",
              "      border-color: transparent;\n",
              "      border-left-color: var(--fill-color);\n",
              "      border-top-color: var(--fill-color);\n",
              "    }\n",
              "    30% {\n",
              "      border-color: transparent;\n",
              "      border-left-color: var(--fill-color);\n",
              "      border-top-color: var(--fill-color);\n",
              "      border-right-color: var(--fill-color);\n",
              "    }\n",
              "    40% {\n",
              "      border-color: transparent;\n",
              "      border-right-color: var(--fill-color);\n",
              "      border-top-color: var(--fill-color);\n",
              "    }\n",
              "    60% {\n",
              "      border-color: transparent;\n",
              "      border-right-color: var(--fill-color);\n",
              "    }\n",
              "    80% {\n",
              "      border-color: transparent;\n",
              "      border-right-color: var(--fill-color);\n",
              "      border-bottom-color: var(--fill-color);\n",
              "    }\n",
              "    90% {\n",
              "      border-color: transparent;\n",
              "      border-bottom-color: var(--fill-color);\n",
              "    }\n",
              "  }\n",
              "</style>\n",
              "\n",
              "  <script>\n",
              "    async function quickchart(key) {\n",
              "      const quickchartButtonEl =\n",
              "        document.querySelector('#' + key + ' button');\n",
              "      quickchartButtonEl.disabled = true;  // To prevent multiple clicks.\n",
              "      quickchartButtonEl.classList.add('colab-df-spinner');\n",
              "      try {\n",
              "        const charts = await google.colab.kernel.invokeFunction(\n",
              "            'suggestCharts', [key], {});\n",
              "      } catch (error) {\n",
              "        console.error('Error during call to suggestCharts:', error);\n",
              "      }\n",
              "      quickchartButtonEl.classList.remove('colab-df-spinner');\n",
              "      quickchartButtonEl.classList.add('colab-df-quickchart-complete');\n",
              "    }\n",
              "    (() => {\n",
              "      let quickchartButtonEl =\n",
              "        document.querySelector('#df-64c65d7f-7b89-46a6-9976-f53be1275070 button');\n",
              "      quickchartButtonEl.style.display =\n",
              "        google.colab.kernel.accessAllowed ? 'block' : 'none';\n",
              "    })();\n",
              "  </script>\n",
              "</div>\n",
              "\n",
              "  <div id=\"id_02be5c7c-4f9e-4baf-8346-de4a0d08fb4d\">\n",
              "    <style>\n",
              "      .colab-df-generate {\n",
              "        background-color: #E8F0FE;\n",
              "        border: none;\n",
              "        border-radius: 50%;\n",
              "        cursor: pointer;\n",
              "        display: none;\n",
              "        fill: #1967D2;\n",
              "        height: 32px;\n",
              "        padding: 0 0 0 0;\n",
              "        width: 32px;\n",
              "      }\n",
              "\n",
              "      .colab-df-generate:hover {\n",
              "        background-color: #E2EBFA;\n",
              "        box-shadow: 0px 1px 2px rgba(60, 64, 67, 0.3), 0px 1px 3px 1px rgba(60, 64, 67, 0.15);\n",
              "        fill: #174EA6;\n",
              "      }\n",
              "\n",
              "      [theme=dark] .colab-df-generate {\n",
              "        background-color: #3B4455;\n",
              "        fill: #D2E3FC;\n",
              "      }\n",
              "\n",
              "      [theme=dark] .colab-df-generate:hover {\n",
              "        background-color: #434B5C;\n",
              "        box-shadow: 0px 1px 3px 1px rgba(0, 0, 0, 0.15);\n",
              "        filter: drop-shadow(0px 1px 2px rgba(0, 0, 0, 0.3));\n",
              "        fill: #FFFFFF;\n",
              "      }\n",
              "    </style>\n",
              "    <button class=\"colab-df-generate\" onclick=\"generateWithVariable('sigtab')\"\n",
              "            title=\"Generate code using this dataframe.\"\n",
              "            style=\"display:none;\">\n",
              "\n",
              "  <svg xmlns=\"http://www.w3.org/2000/svg\" height=\"24px\"viewBox=\"0 0 24 24\"\n",
              "       width=\"24px\">\n",
              "    <path d=\"M7,19H8.4L18.45,9,17,7.55,7,17.6ZM5,21V16.75L18.45,3.32a2,2,0,0,1,2.83,0l1.4,1.43a1.91,1.91,0,0,1,.58,1.4,1.91,1.91,0,0,1-.58,1.4L9.25,21ZM18.45,9,17,7.55Zm-12,3A5.31,5.31,0,0,0,4.9,8.1,5.31,5.31,0,0,0,1,6.5,5.31,5.31,0,0,0,4.9,4.9,5.31,5.31,0,0,0,6.5,1,5.31,5.31,0,0,0,8.1,4.9,5.31,5.31,0,0,0,12,6.5,5.46,5.46,0,0,0,6.5,12Z\"/>\n",
              "  </svg>\n",
              "    </button>\n",
              "    <script>\n",
              "      (() => {\n",
              "      const buttonEl =\n",
              "        document.querySelector('#id_02be5c7c-4f9e-4baf-8346-de4a0d08fb4d button.colab-df-generate');\n",
              "      buttonEl.style.display =\n",
              "        google.colab.kernel.accessAllowed ? 'block' : 'none';\n",
              "\n",
              "      buttonEl.onclick = () => {\n",
              "        google.colab.notebook.generateWithVariable('sigtab');\n",
              "      }\n",
              "      })();\n",
              "    </script>\n",
              "  </div>\n",
              "\n",
              "    </div>\n",
              "  </div>\n"
            ],
            "application/vnd.google.colaboratory.intrinsic+json": {
              "type": "dataframe",
              "variable_name": "sigtab",
              "summary": "{\n  \"name\": \"sigtab\",\n  \"rows\": 3,\n  \"fields\": [\n    {\n      \"column\": \"Chi-square test\",\n      \"properties\": {\n        \"dtype\": \"string\",\n        \"num_unique_values\": 3,\n        \"samples\": [\n          \"Pearson Chi-square ( 9.0) = \",\n          \"p-value = \",\n          \"Cramer's V = \"\n        ],\n        \"semantic_type\": \"\",\n        \"description\": \"\"\n      }\n    },\n    {\n      \"column\": \"results\",\n      \"properties\": {\n        \"dtype\": \"number\",\n        \"std\": 907.0611720288825,\n        \"min\": 0.0,\n        \"max\": 1571.2689,\n        \"num_unique_values\": 3,\n        \"samples\": [\n          1571.2689,\n          0.0,\n          0.3858\n        ],\n        \"semantic_type\": \"\",\n        \"description\": \"\"\n      }\n    }\n  ]\n}"
            }
          },
          "metadata": {},
          "execution_count": 19
        }
      ]
    },
    {
      "cell_type": "code",
      "metadata": {
        "id": "oQaC8MkLMzYL",
        "colab": {
          "base_uri": "https://localhost:8080/",
          "height": 629
        },
        "outputId": "354a8089-8cca-4216-aadb-b8b40dfb0bbc"
      },
      "source": [
        "p = sb.displot(ATPW124_df, x='SATISFIED_DEMOCRACY_W124r2', hue='ECON_SIT_W124r2', multiple=\"stack\", height=6, aspect=1.25)\n",
        "plt.title('Attitude toward Climate Change by Gender')\n",
        "plt.show()"
      ],
      "execution_count": null,
      "outputs": [
        {
          "output_type": "display_data",
          "data": {
            "text/plain": [
              "<Figure size 912.625x600 with 1 Axes>"
            ],
            "image/png": "[encoded data removed]"
          },
          "metadata": {}
        }
      ]
    },
    {
      "cell_type": "markdown",
      "source": [
        "# **Part 3: Creating a linear model without converting variables to categoricals**\n",
        "\n",
        "### (1B) Read in SPSS file and add convert_categoricals=False to preserve the numeric variables (it's TRUE by default)\n",
        "\n",
        "## **Do NOT convert categoricals if you want to run the linear model**"
      ],
      "metadata": {
        "id": "KuvAlRAq5p3M"
      }
    },
    {
      "cell_type": "code",
      "metadata": {
        "id": "ZUKiFv4k1c5F"
      },
      "source": [
        "# To create a linear model, we will first read in some variables without converting them to categoricals.\n",
        "\n",
        "\n",
        "Demo_df = pd.read_spss('ATP W124.sav', usecols=['SATISFIED_DEMOCRACY_W124', 'F_AGECAT', 'F_GENDER', 'F_EDUCCAT', 'F_HISP', 'F_RACECMB', 'F_METRO', 'F_CITIZEN', 'F_PARTY_FINAL', 'F_INC_TIER2', 'ECON_SIT_W124'], convert_categoricals=False)"
      ],
      "execution_count": null,
      "outputs": []
    },
    {
      "cell_type": "markdown",
      "source": [
        "### (2B) Create **BINARY** variables to identify demographic characteristics to model\n",
        "- Divide the survey question into 2 categories (yes/no)\n",
        "- Create variable to describe the high category vs the low category\n",
        "- Set the new variable to 0 and then switch it to 1 for some respondents\n",
        "- Code below uses a more condensed version of the np.where statement\n",
        "-- Where is an if/then question\n"
      ],
      "metadata": {
        "id": "QfaCtwzFQlpY"
      }
    },
    {
      "cell_type": "code",
      "metadata": {
        "id": "Taz6AP4m62QP"
      },
      "source": [
        "# Is the respondent young or not?\n",
        "Demo_df['young'] = 0\n",
        "Demo_df.loc[Demo_df['F_AGECAT'] == 1, ['young']] = 1\n",
        "\n",
        "# Is respondent a woman?\n",
        "Demo_df['women'] = 0\n",
        "Demo_df.loc[Demo_df['F_GENDER'] == 2, ['women']] = 1\n",
        "\n",
        "# Does respondent have college degree?\n",
        "Demo_df['college'] = 0\n",
        "Demo_df.loc[Demo_df['F_EDUCCAT'] == 1, ['college']] = 1\n",
        "\n",
        "# Is respondent black or not?\n",
        "Demo_df['black'] = 0\n",
        "Demo_df.loc[Demo_df['F_RACECMB'] == 2, ['black']] = 1\n",
        "\n",
        "# Is respondent Latino or not?\n",
        "Demo_df['latin'] = 0\n",
        "Demo_df.loc[Demo_df['F_HISP'] == 1, ['latin']] = 1\n",
        "\n",
        "# Does respondent live in a metropolitan area?\n",
        "Demo_df['metro'] = 0\n",
        "Demo_df.loc[Demo_df['F_METRO'] == 1, ['metro']] = 1\n",
        "\n",
        "# Does respondent have US citizenaship?\n",
        "Demo_df['citizen'] = 0\n",
        "Demo_df.loc[Demo_df['F_CITIZEN'] == 1, ['citizen']] = 1\n",
        "\n",
        "# Is respondent a republican or not?\n",
        "Demo_df['republican'] = 0\n",
        "Demo_df.loc[Demo_df['F_PARTY_FINAL'] == 1, ['republican']] = 1\n",
        "\n",
        "# Is respondent lower-income?\n",
        "Demo_df['low-income'] = 0\n",
        "Demo_df.loc[Demo_df['F_INC_TIER2'] == 1, ['low-income']] = 1\n",
        "\n",
        "# Does respondent think the current economic situation is good?\n",
        "Demo_df['good-econ'] = 0\n",
        "Demo_df.loc[Demo_df['ECON_SIT_W124'] < 3, ['good-econ']] = 1"
      ],
      "execution_count": null,
      "outputs": []
    },
    {
      "cell_type": "markdown",
      "source": [
        "### (3B) Use .value_counts() to confirm the newly created binary variables are accurate"
      ],
      "metadata": {
        "id": "oRMxjrtoTY8d"
      }
    },
    {
      "cell_type": "code",
      "source": [
        "Demo_df['young'].value_counts()"
      ],
      "metadata": {
        "colab": {
          "base_uri": "https://localhost:8080/",
          "height": 178
        },
        "id": "jpMHWW-brdjp",
        "outputId": "fba80410-7940-400d-9874-87d49d935a73"
      },
      "execution_count": null,
      "outputs": [
        {
          "output_type": "execute_result",
          "data": {
            "text/plain": [
              "young\n",
              "0    3081\n",
              "1     495\n",
              "Name: count, dtype: int64"
            ],
            "text/html": [
              "<div>\n",
              "<style scoped>\n",
              "    .dataframe tbody tr th:only-of-type {\n",
              "        vertical-align: middle;\n",
              "    }\n",
              "\n",
              "    .dataframe tbody tr th {\n",
              "        vertical-align: top;\n",
              "    }\n",
              "\n",
              "    .dataframe thead th {\n",
              "        text-align: right;\n",
              "    }\n",
              "</style>\n",
              "<table border=\"1\" class=\"dataframe\">\n",
              "  <thead>\n",
              "    <tr style=\"text-align: right;\">\n",
              "      <th></th>\n",
              "      <th>count</th>\n",
              "    </tr>\n",
              "    <tr>\n",
              "      <th>young</th>\n",
              "      <th></th>\n",
              "    </tr>\n",
              "  </thead>\n",
              "  <tbody>\n",
              "    <tr>\n",
              "      <th>0</th>\n",
              "      <td>3081</td>\n",
              "    </tr>\n",
              "    <tr>\n",
              "      <th>1</th>\n",
              "      <td>495</td>\n",
              "    </tr>\n",
              "  </tbody>\n",
              "</table>\n",
              "</div><br><label><b>dtype:</b> int64</label>"
            ]
          },
          "metadata": {},
          "execution_count": 23
        }
      ]
    },
    {
      "cell_type": "code",
      "source": [
        "Demo_df['women'].value_counts()"
      ],
      "metadata": {
        "colab": {
          "base_uri": "https://localhost:8080/",
          "height": 178
        },
        "id": "pO-k6Qbcr3Ph",
        "outputId": "93945f19-fa77-4d96-df2f-69bde6118372"
      },
      "execution_count": null,
      "outputs": [
        {
          "output_type": "execute_result",
          "data": {
            "text/plain": [
              "women\n",
              "0    2164\n",
              "1    1412\n",
              "Name: count, dtype: int64"
            ],
            "text/html": [
              "<div>\n",
              "<style scoped>\n",
              "    .dataframe tbody tr th:only-of-type {\n",
              "        vertical-align: middle;\n",
              "    }\n",
              "\n",
              "    .dataframe tbody tr th {\n",
              "        vertical-align: top;\n",
              "    }\n",
              "\n",
              "    .dataframe thead th {\n",
              "        text-align: right;\n",
              "    }\n",
              "</style>\n",
              "<table border=\"1\" class=\"dataframe\">\n",
              "  <thead>\n",
              "    <tr style=\"text-align: right;\">\n",
              "      <th></th>\n",
              "      <th>count</th>\n",
              "    </tr>\n",
              "    <tr>\n",
              "      <th>women</th>\n",
              "      <th></th>\n",
              "    </tr>\n",
              "  </thead>\n",
              "  <tbody>\n",
              "    <tr>\n",
              "      <th>0</th>\n",
              "      <td>2164</td>\n",
              "    </tr>\n",
              "    <tr>\n",
              "      <th>1</th>\n",
              "      <td>1412</td>\n",
              "    </tr>\n",
              "  </tbody>\n",
              "</table>\n",
              "</div><br><label><b>dtype:</b> int64</label>"
            ]
          },
          "metadata": {},
          "execution_count": 24
        }
      ]
    },
    {
      "cell_type": "code",
      "source": [
        "Demo_df['college'].value_counts()"
      ],
      "metadata": {
        "colab": {
          "base_uri": "https://localhost:8080/",
          "height": 178
        },
        "id": "-xDfFTUSsZPF",
        "outputId": "0765a8aa-e482-4ac8-bf70-a82c88019e62"
      },
      "execution_count": null,
      "outputs": [
        {
          "output_type": "execute_result",
          "data": {
            "text/plain": [
              "college\n",
              "0    2043\n",
              "1    1533\n",
              "Name: count, dtype: int64"
            ],
            "text/html": [
              "<div>\n",
              "<style scoped>\n",
              "    .dataframe tbody tr th:only-of-type {\n",
              "        vertical-align: middle;\n",
              "    }\n",
              "\n",
              "    .dataframe tbody tr th {\n",
              "        vertical-align: top;\n",
              "    }\n",
              "\n",
              "    .dataframe thead th {\n",
              "        text-align: right;\n",
              "    }\n",
              "</style>\n",
              "<table border=\"1\" class=\"dataframe\">\n",
              "  <thead>\n",
              "    <tr style=\"text-align: right;\">\n",
              "      <th></th>\n",
              "      <th>count</th>\n",
              "    </tr>\n",
              "    <tr>\n",
              "      <th>college</th>\n",
              "      <th></th>\n",
              "    </tr>\n",
              "  </thead>\n",
              "  <tbody>\n",
              "    <tr>\n",
              "      <th>0</th>\n",
              "      <td>2043</td>\n",
              "    </tr>\n",
              "    <tr>\n",
              "      <th>1</th>\n",
              "      <td>1533</td>\n",
              "    </tr>\n",
              "  </tbody>\n",
              "</table>\n",
              "</div><br><label><b>dtype:</b> int64</label>"
            ]
          },
          "metadata": {},
          "execution_count": 25
        }
      ]
    },
    {
      "cell_type": "code",
      "source": [
        "Demo_df['black'].value_counts()"
      ],
      "metadata": {
        "colab": {
          "base_uri": "https://localhost:8080/",
          "height": 178
        },
        "id": "8C3SkfThscFo",
        "outputId": "39dbd1bd-f71b-42f5-bc18-519be8acdd77"
      },
      "execution_count": null,
      "outputs": [
        {
          "output_type": "execute_result",
          "data": {
            "text/plain": [
              "black\n",
              "0    2862\n",
              "1     714\n",
              "Name: count, dtype: int64"
            ],
            "text/html": [
              "<div>\n",
              "<style scoped>\n",
              "    .dataframe tbody tr th:only-of-type {\n",
              "        vertical-align: middle;\n",
              "    }\n",
              "\n",
              "    .dataframe tbody tr th {\n",
              "        vertical-align: top;\n",
              "    }\n",
              "\n",
              "    .dataframe thead th {\n",
              "        text-align: right;\n",
              "    }\n",
              "</style>\n",
              "<table border=\"1\" class=\"dataframe\">\n",
              "  <thead>\n",
              "    <tr style=\"text-align: right;\">\n",
              "      <th></th>\n",
              "      <th>count</th>\n",
              "    </tr>\n",
              "    <tr>\n",
              "      <th>black</th>\n",
              "      <th></th>\n",
              "    </tr>\n",
              "  </thead>\n",
              "  <tbody>\n",
              "    <tr>\n",
              "      <th>0</th>\n",
              "      <td>2862</td>\n",
              "    </tr>\n",
              "    <tr>\n",
              "      <th>1</th>\n",
              "      <td>714</td>\n",
              "    </tr>\n",
              "  </tbody>\n",
              "</table>\n",
              "</div><br><label><b>dtype:</b> int64</label>"
            ]
          },
          "metadata": {},
          "execution_count": 26
        }
      ]
    },
    {
      "cell_type": "code",
      "source": [
        "Demo_df['latin'].value_counts()"
      ],
      "metadata": {
        "colab": {
          "base_uri": "https://localhost:8080/",
          "height": 178
        },
        "id": "BT7boe-DseXV",
        "outputId": "d80a9abe-cfef-42d8-ec94-e0c9b7f54517"
      },
      "execution_count": null,
      "outputs": [
        {
          "output_type": "execute_result",
          "data": {
            "text/plain": [
              "latin\n",
              "0    2755\n",
              "1     821\n",
              "Name: count, dtype: int64"
            ],
            "text/html": [
              "<div>\n",
              "<style scoped>\n",
              "    .dataframe tbody tr th:only-of-type {\n",
              "        vertical-align: middle;\n",
              "    }\n",
              "\n",
              "    .dataframe tbody tr th {\n",
              "        vertical-align: top;\n",
              "    }\n",
              "\n",
              "    .dataframe thead th {\n",
              "        text-align: right;\n",
              "    }\n",
              "</style>\n",
              "<table border=\"1\" class=\"dataframe\">\n",
              "  <thead>\n",
              "    <tr style=\"text-align: right;\">\n",
              "      <th></th>\n",
              "      <th>count</th>\n",
              "    </tr>\n",
              "    <tr>\n",
              "      <th>latin</th>\n",
              "      <th></th>\n",
              "    </tr>\n",
              "  </thead>\n",
              "  <tbody>\n",
              "    <tr>\n",
              "      <th>0</th>\n",
              "      <td>2755</td>\n",
              "    </tr>\n",
              "    <tr>\n",
              "      <th>1</th>\n",
              "      <td>821</td>\n",
              "    </tr>\n",
              "  </tbody>\n",
              "</table>\n",
              "</div><br><label><b>dtype:</b> int64</label>"
            ]
          },
          "metadata": {},
          "execution_count": 27
        }
      ]
    },
    {
      "cell_type": "code",
      "source": [
        "Demo_df['metro'].value_counts()"
      ],
      "metadata": {
        "colab": {
          "base_uri": "https://localhost:8080/",
          "height": 178
        },
        "id": "UwUwCaObsOIF",
        "outputId": "67b5afc1-99d5-4b89-d088-2a2e405984bb"
      },
      "execution_count": null,
      "outputs": [
        {
          "output_type": "execute_result",
          "data": {
            "text/plain": [
              "metro\n",
              "1    3240\n",
              "0     336\n",
              "Name: count, dtype: int64"
            ],
            "text/html": [
              "<div>\n",
              "<style scoped>\n",
              "    .dataframe tbody tr th:only-of-type {\n",
              "        vertical-align: middle;\n",
              "    }\n",
              "\n",
              "    .dataframe tbody tr th {\n",
              "        vertical-align: top;\n",
              "    }\n",
              "\n",
              "    .dataframe thead th {\n",
              "        text-align: right;\n",
              "    }\n",
              "</style>\n",
              "<table border=\"1\" class=\"dataframe\">\n",
              "  <thead>\n",
              "    <tr style=\"text-align: right;\">\n",
              "      <th></th>\n",
              "      <th>count</th>\n",
              "    </tr>\n",
              "    <tr>\n",
              "      <th>metro</th>\n",
              "      <th></th>\n",
              "    </tr>\n",
              "  </thead>\n",
              "  <tbody>\n",
              "    <tr>\n",
              "      <th>1</th>\n",
              "      <td>3240</td>\n",
              "    </tr>\n",
              "    <tr>\n",
              "      <th>0</th>\n",
              "      <td>336</td>\n",
              "    </tr>\n",
              "  </tbody>\n",
              "</table>\n",
              "</div><br><label><b>dtype:</b> int64</label>"
            ]
          },
          "metadata": {},
          "execution_count": 28
        }
      ]
    },
    {
      "cell_type": "code",
      "source": [
        "Demo_df['citizen'].value_counts()"
      ],
      "metadata": {
        "colab": {
          "base_uri": "https://localhost:8080/",
          "height": 178
        },
        "id": "g_a7qKMHshRr",
        "outputId": "1651cc30-a68d-4011-8b1b-94b006d9caa8"
      },
      "execution_count": null,
      "outputs": [
        {
          "output_type": "execute_result",
          "data": {
            "text/plain": [
              "citizen\n",
              "1    3348\n",
              "0     228\n",
              "Name: count, dtype: int64"
            ],
            "text/html": [
              "<div>\n",
              "<style scoped>\n",
              "    .dataframe tbody tr th:only-of-type {\n",
              "        vertical-align: middle;\n",
              "    }\n",
              "\n",
              "    .dataframe tbody tr th {\n",
              "        vertical-align: top;\n",
              "    }\n",
              "\n",
              "    .dataframe thead th {\n",
              "        text-align: right;\n",
              "    }\n",
              "</style>\n",
              "<table border=\"1\" class=\"dataframe\">\n",
              "  <thead>\n",
              "    <tr style=\"text-align: right;\">\n",
              "      <th></th>\n",
              "      <th>count</th>\n",
              "    </tr>\n",
              "    <tr>\n",
              "      <th>citizen</th>\n",
              "      <th></th>\n",
              "    </tr>\n",
              "  </thead>\n",
              "  <tbody>\n",
              "    <tr>\n",
              "      <th>1</th>\n",
              "      <td>3348</td>\n",
              "    </tr>\n",
              "    <tr>\n",
              "      <th>0</th>\n",
              "      <td>228</td>\n",
              "    </tr>\n",
              "  </tbody>\n",
              "</table>\n",
              "</div><br><label><b>dtype:</b> int64</label>"
            ]
          },
          "metadata": {},
          "execution_count": 29
        }
      ]
    },
    {
      "cell_type": "code",
      "source": [
        "Demo_df['republican'].value_counts()"
      ],
      "metadata": {
        "colab": {
          "base_uri": "https://localhost:8080/",
          "height": 178
        },
        "id": "mYRqd-qhskvD",
        "outputId": "99f235f6-b336-4267-e70a-56603ab58118"
      },
      "execution_count": null,
      "outputs": [
        {
          "output_type": "execute_result",
          "data": {
            "text/plain": [
              "republican\n",
              "0    2687\n",
              "1     889\n",
              "Name: count, dtype: int64"
            ],
            "text/html": [
              "<div>\n",
              "<style scoped>\n",
              "    .dataframe tbody tr th:only-of-type {\n",
              "        vertical-align: middle;\n",
              "    }\n",
              "\n",
              "    .dataframe tbody tr th {\n",
              "        vertical-align: top;\n",
              "    }\n",
              "\n",
              "    .dataframe thead th {\n",
              "        text-align: right;\n",
              "    }\n",
              "</style>\n",
              "<table border=\"1\" class=\"dataframe\">\n",
              "  <thead>\n",
              "    <tr style=\"text-align: right;\">\n",
              "      <th></th>\n",
              "      <th>count</th>\n",
              "    </tr>\n",
              "    <tr>\n",
              "      <th>republican</th>\n",
              "      <th></th>\n",
              "    </tr>\n",
              "  </thead>\n",
              "  <tbody>\n",
              "    <tr>\n",
              "      <th>0</th>\n",
              "      <td>2687</td>\n",
              "    </tr>\n",
              "    <tr>\n",
              "      <th>1</th>\n",
              "      <td>889</td>\n",
              "    </tr>\n",
              "  </tbody>\n",
              "</table>\n",
              "</div><br><label><b>dtype:</b> int64</label>"
            ]
          },
          "metadata": {},
          "execution_count": 30
        }
      ]
    },
    {
      "cell_type": "code",
      "source": [
        "Demo_df['low-income'].value_counts()"
      ],
      "metadata": {
        "colab": {
          "base_uri": "https://localhost:8080/",
          "height": 178
        },
        "id": "XOV9NckFTVZH",
        "outputId": "85a17eb6-6fa5-40c2-ccae-01b51aacb8c5"
      },
      "execution_count": null,
      "outputs": [
        {
          "output_type": "execute_result",
          "data": {
            "text/plain": [
              "low-income\n",
              "0    2623\n",
              "1     953\n",
              "Name: count, dtype: int64"
            ],
            "text/html": [
              "<div>\n",
              "<style scoped>\n",
              "    .dataframe tbody tr th:only-of-type {\n",
              "        vertical-align: middle;\n",
              "    }\n",
              "\n",
              "    .dataframe tbody tr th {\n",
              "        vertical-align: top;\n",
              "    }\n",
              "\n",
              "    .dataframe thead th {\n",
              "        text-align: right;\n",
              "    }\n",
              "</style>\n",
              "<table border=\"1\" class=\"dataframe\">\n",
              "  <thead>\n",
              "    <tr style=\"text-align: right;\">\n",
              "      <th></th>\n",
              "      <th>count</th>\n",
              "    </tr>\n",
              "    <tr>\n",
              "      <th>low-income</th>\n",
              "      <th></th>\n",
              "    </tr>\n",
              "  </thead>\n",
              "  <tbody>\n",
              "    <tr>\n",
              "      <th>0</th>\n",
              "      <td>2623</td>\n",
              "    </tr>\n",
              "    <tr>\n",
              "      <th>1</th>\n",
              "      <td>953</td>\n",
              "    </tr>\n",
              "  </tbody>\n",
              "</table>\n",
              "</div><br><label><b>dtype:</b> int64</label>"
            ]
          },
          "metadata": {},
          "execution_count": 31
        }
      ]
    },
    {
      "cell_type": "code",
      "source": [
        "Demo_df['good-econ'].value_counts()"
      ],
      "metadata": {
        "colab": {
          "base_uri": "https://localhost:8080/",
          "height": 178
        },
        "id": "4PpIthoAnr6x",
        "outputId": "674fbcb5-5e98-467a-f1e5-f57f67b4a33d"
      },
      "execution_count": null,
      "outputs": [
        {
          "output_type": "execute_result",
          "data": {
            "text/plain": [
              "good-econ\n",
              "0    2478\n",
              "1    1098\n",
              "Name: count, dtype: int64"
            ],
            "text/html": [
              "<div>\n",
              "<style scoped>\n",
              "    .dataframe tbody tr th:only-of-type {\n",
              "        vertical-align: middle;\n",
              "    }\n",
              "\n",
              "    .dataframe tbody tr th {\n",
              "        vertical-align: top;\n",
              "    }\n",
              "\n",
              "    .dataframe thead th {\n",
              "        text-align: right;\n",
              "    }\n",
              "</style>\n",
              "<table border=\"1\" class=\"dataframe\">\n",
              "  <thead>\n",
              "    <tr style=\"text-align: right;\">\n",
              "      <th></th>\n",
              "      <th>count</th>\n",
              "    </tr>\n",
              "    <tr>\n",
              "      <th>good-econ</th>\n",
              "      <th></th>\n",
              "    </tr>\n",
              "  </thead>\n",
              "  <tbody>\n",
              "    <tr>\n",
              "      <th>0</th>\n",
              "      <td>2478</td>\n",
              "    </tr>\n",
              "    <tr>\n",
              "      <th>1</th>\n",
              "      <td>1098</td>\n",
              "    </tr>\n",
              "  </tbody>\n",
              "</table>\n",
              "</div><br><label><b>dtype:</b> int64</label>"
            ]
          },
          "metadata": {},
          "execution_count": 23
        }
      ]
    },
    {
      "cell_type": "markdown",
      "source": [
        "# Alternative way to create binary variables\n",
        "## Can create binaries using where\n",
        "- Code is more efficient but harder to interpret\n",
        "- Can create binaries using the code above (no where) or the code below (where) - don't need to do both\n",
        "\n",
        "# **np.where(logical condition, value if true, value if false)**\n",
        "Example looking at who is rural and who is not\n",
        "- **ATPW55_df['rural'] = np.where(ATPW55_df['F_METRO'] == 2, 1, 0)**\n",
        "- logical condition = ATPW55_df['F_METRO'] == 2 (in SPSS, rural is coded as 2, so if F_METRO is set to 2)\n",
        "- value if true = 1 (If ['F_METRO'] == 2, (TRUE) then recode it as 1\n",
        "- value if false = 0 (If ['F_METRO'] !== 2, (FALSE -doesn't equal 2), then recode it as 0"
      ],
      "metadata": {
        "id": "S_YqLjR2SoEV"
      }
    },
    {
      "cell_type": "code",
      "metadata": {
        "id": "AtOdJxwXbFQ6",
        "colab": {
          "base_uri": "https://localhost:8080/",
          "height": 178
        },
        "outputId": "84a69926-5178-47fa-aff4-958a66f84282"
      },
      "source": [
        "# Or, you can use the where() method in the NumPy library to create a binary using\n",
        "# a logical test, as done above to code missing values.\n",
        "# WHERE method\n",
        "Demo_df['youngr'] = np.where(Demo_df['F_AGECAT'] == 1, 1, 0)\n",
        "\n",
        "# This is more efficient code, but harder to read when learning Python\n",
        "Demo_df['youngr'].value_counts()"
      ],
      "execution_count": null,
      "outputs": [
        {
          "output_type": "execute_result",
          "data": {
            "text/plain": [
              "youngr\n",
              "0    3081\n",
              "1     495\n",
              "Name: count, dtype: int64"
            ],
            "text/html": [
              "<div>\n",
              "<style scoped>\n",
              "    .dataframe tbody tr th:only-of-type {\n",
              "        vertical-align: middle;\n",
              "    }\n",
              "\n",
              "    .dataframe tbody tr th {\n",
              "        vertical-align: top;\n",
              "    }\n",
              "\n",
              "    .dataframe thead th {\n",
              "        text-align: right;\n",
              "    }\n",
              "</style>\n",
              "<table border=\"1\" class=\"dataframe\">\n",
              "  <thead>\n",
              "    <tr style=\"text-align: right;\">\n",
              "      <th></th>\n",
              "      <th>count</th>\n",
              "    </tr>\n",
              "    <tr>\n",
              "      <th>youngr</th>\n",
              "      <th></th>\n",
              "    </tr>\n",
              "  </thead>\n",
              "  <tbody>\n",
              "    <tr>\n",
              "      <th>0</th>\n",
              "      <td>3081</td>\n",
              "    </tr>\n",
              "    <tr>\n",
              "      <th>1</th>\n",
              "      <td>495</td>\n",
              "    </tr>\n",
              "  </tbody>\n",
              "</table>\n",
              "</div><br><label><b>dtype:</b> int64</label>"
            ]
          },
          "metadata": {},
          "execution_count": 26
        }
      ]
    },
    {
      "cell_type": "markdown",
      "source": [
        "### (4B) Recode satisfaction in the way democracy works variable into binary\n",
        "- Use where method or not"
      ],
      "metadata": {
        "id": "k2olQIDrTBTr"
      }
    },
    {
      "cell_type": "code",
      "metadata": {
        "id": "KtGJne-6_gQK",
        "colab": {
          "base_uri": "https://localhost:8080/",
          "height": 241
        },
        "outputId": "edc58781-5579-4806-c88d-c9798f8c6a48"
      },
      "source": [
        "# If value is greater than 4, then label as NaN - write this in 2 ways\n",
        "\n",
        "# (1) No where method\n",
        "Demo_df.loc[Demo_df['SATISFIED_DEMOCRACY_W124'] > 4, ['SATISFIED_DEMOCRACY_W124']] = np.nan\n",
        "\n",
        "# (2) Where method:\n",
        "Demo_df['SATISFIED_DEMOCRACY_W124r'] = np.where(Demo_df['SATISFIED_DEMOCRACY_W124'] > 4, np.nan, Demo_df['SATISFIED_DEMOCRACY_W124'])\n",
        "\n",
        "Demo_df['SATISFIED_DEMOCRACY_W124r'].value_counts()"
      ],
      "execution_count": null,
      "outputs": [
        {
          "output_type": "execute_result",
          "data": {
            "text/plain": [
              "SATISFIED_DEMOCRACY_W124r\n",
              "3.0    1547\n",
              "2.0    1157\n",
              "4.0     670\n",
              "1.0     151\n",
              "Name: count, dtype: int64"
            ],
            "text/html": [
              "<div>\n",
              "<style scoped>\n",
              "    .dataframe tbody tr th:only-of-type {\n",
              "        vertical-align: middle;\n",
              "    }\n",
              "\n",
              "    .dataframe tbody tr th {\n",
              "        vertical-align: top;\n",
              "    }\n",
              "\n",
              "    .dataframe thead th {\n",
              "        text-align: right;\n",
              "    }\n",
              "</style>\n",
              "<table border=\"1\" class=\"dataframe\">\n",
              "  <thead>\n",
              "    <tr style=\"text-align: right;\">\n",
              "      <th></th>\n",
              "      <th>count</th>\n",
              "    </tr>\n",
              "    <tr>\n",
              "      <th>SATISFIED_DEMOCRACY_W124r</th>\n",
              "      <th></th>\n",
              "    </tr>\n",
              "  </thead>\n",
              "  <tbody>\n",
              "    <tr>\n",
              "      <th>3.0</th>\n",
              "      <td>1547</td>\n",
              "    </tr>\n",
              "    <tr>\n",
              "      <th>2.0</th>\n",
              "      <td>1157</td>\n",
              "    </tr>\n",
              "    <tr>\n",
              "      <th>4.0</th>\n",
              "      <td>670</td>\n",
              "    </tr>\n",
              "    <tr>\n",
              "      <th>1.0</th>\n",
              "      <td>151</td>\n",
              "    </tr>\n",
              "  </tbody>\n",
              "</table>\n",
              "</div><br><label><b>dtype:</b> int64</label>"
            ]
          },
          "metadata": {},
          "execution_count": 27
        }
      ]
    },
    {
      "cell_type": "markdown",
      "source": [
        "### (5B) Create linear model to predict the level of satisfaction with the way democracy works using the original variable and controls"
      ],
      "metadata": {
        "id": "S1KTKnsCV4ii"
      }
    },
    {
      "cell_type": "code",
      "source": [
        "# Linear model to predict satisfaction in democracy operations using the original variable\n",
        "Y = Demo_df['SATISFIED_DEMOCRACY_W124'] # A higher score indicates greater satisfaction with how democracy works\n",
        "X = Demo_df[['young', 'women', 'college', 'black', 'latin', 'metro', 'citizen', 'republican', 'low-income']]\n",
        "X = sm.add_constant(X)\n",
        "model0 = sm.OLS(Y, X, missing='drop').fit()\n",
        "print(model0.summary())"
      ],
      "metadata": {
        "colab": {
          "base_uri": "https://localhost:8080/"
        },
        "id": "AxyKf5Ooo_Wm",
        "outputId": "2d0efe9f-c597-4ece-8f52-eb777f40fe95"
      },
      "execution_count": null,
      "outputs": [
        {
          "output_type": "stream",
          "name": "stdout",
          "text": [
            "                               OLS Regression Results                               \n",
            "====================================================================================\n",
            "Dep. Variable:     SATISFIED_DEMOCRACY_W124   R-squared:                       0.068\n",
            "Model:                                  OLS   Adj. R-squared:                  0.065\n",
            "Method:                       Least Squares   F-statistic:                     28.28\n",
            "Date:                      Tue, 24 Dec 2024   Prob (F-statistic):           7.02e-48\n",
            "Time:                              17:08:22   Log-Likelihood:                -4090.7\n",
            "No. Observations:                      3525   AIC:                             8201.\n",
            "Df Residuals:                          3515   BIC:                             8263.\n",
            "Df Model:                                 9                                         \n",
            "Covariance Type:                  nonrobust                                         \n",
            "==============================================================================\n",
            "                 coef    std err          t      P>|t|      [0.025      0.975]\n",
            "------------------------------------------------------------------------------\n",
            "const          2.5912      0.073     35.523      0.000       2.448       2.734\n",
            "young          0.0700      0.038      1.835      0.067      -0.005       0.145\n",
            "women          0.0241      0.028      0.862      0.389      -0.031       0.079\n",
            "college       -0.1134      0.028     -4.090      0.000      -0.168      -0.059\n",
            "black         -0.1059      0.036     -2.923      0.003      -0.177      -0.035\n",
            "latin         -0.1396      0.034     -4.082      0.000      -0.207      -0.073\n",
            "metro         -0.0350      0.045     -0.770      0.441      -0.124       0.054\n",
            "citizen        0.2195      0.055      4.017      0.000       0.112       0.327\n",
            "republican     0.3728      0.031     11.882      0.000       0.311       0.434\n",
            "low-income     0.0050      0.032      0.159      0.874      -0.057       0.067\n",
            "==============================================================================\n",
            "Omnibus:                       52.066   Durbin-Watson:                   2.062\n",
            "Prob(Omnibus):                  0.000   Jarque-Bera (JB):               35.079\n",
            "Skew:                          -0.117   Prob(JB):                     2.41e-08\n",
            "Kurtosis:                       2.571   Cond. No.                         12.5\n",
            "==============================================================================\n",
            "\n",
            "Notes:\n",
            "[1] Standard Errors assume that the covariance matrix of the errors is correctly specified.\n"
          ]
        }
      ]
    },
    {
      "cell_type": "markdown",
      "source": [
        "### (6B) Create linear model to predict the level of satisfaction with the way democracy works using the recoded variable"
      ],
      "metadata": {
        "id": "f48-i6a9WIf9"
      }
    },
    {
      "cell_type": "code",
      "source": [
        "# Same model, with the recoded dependent variable, showing the same results.\n",
        "# Linear model to predict satisfaction with the way democracy works\n",
        "Y = Demo_df['SATISFIED_DEMOCRACY_W124r'] # A higher score indicates more satisfaction with the way democracy works\n",
        "X = Demo_df[['young', 'women', 'college', 'black', 'latin', 'metro', 'citizen', 'republican', 'low-income']]\n",
        "X = sm.add_constant(X)\n",
        "model1 = sm.OLS(Y, X, missing='drop').fit()\n",
        "print(model1.summary())"
      ],
      "metadata": {
        "colab": {
          "base_uri": "https://localhost:8080/"
        },
        "id": "2Q7mpSaOpGNX",
        "outputId": "7006a79f-ab43-4c86-c0c5-71aed232ede5"
      },
      "execution_count": null,
      "outputs": [
        {
          "output_type": "stream",
          "name": "stdout",
          "text": [
            "                                OLS Regression Results                               \n",
            "=====================================================================================\n",
            "Dep. Variable:     SATISFIED_DEMOCRACY_W124r   R-squared:                       0.068\n",
            "Model:                                   OLS   Adj. R-squared:                  0.065\n",
            "Method:                        Least Squares   F-statistic:                     28.28\n",
            "Date:                       Tue, 24 Dec 2024   Prob (F-statistic):           7.02e-48\n",
            "Time:                               17:08:47   Log-Likelihood:                -4090.7\n",
            "No. Observations:                       3525   AIC:                             8201.\n",
            "Df Residuals:                           3515   BIC:                             8263.\n",
            "Df Model:                                  9                                         \n",
            "Covariance Type:                   nonrobust                                         \n",
            "==============================================================================\n",
            "                 coef    std err          t      P>|t|      [0.025      0.975]\n",
            "------------------------------------------------------------------------------\n",
            "const          2.5912      0.073     35.523      0.000       2.448       2.734\n",
            "young          0.0700      0.038      1.835      0.067      -0.005       0.145\n",
            "women          0.0241      0.028      0.862      0.389      -0.031       0.079\n",
            "college       -0.1134      0.028     -4.090      0.000      -0.168      -0.059\n",
            "black         -0.1059      0.036     -2.923      0.003      -0.177      -0.035\n",
            "latin         -0.1396      0.034     -4.082      0.000      -0.207      -0.073\n",
            "metro         -0.0350      0.045     -0.770      0.441      -0.124       0.054\n",
            "citizen        0.2195      0.055      4.017      0.000       0.112       0.327\n",
            "republican     0.3728      0.031     11.882      0.000       0.311       0.434\n",
            "low-income     0.0050      0.032      0.159      0.874      -0.057       0.067\n",
            "==============================================================================\n",
            "Omnibus:                       52.066   Durbin-Watson:                   2.062\n",
            "Prob(Omnibus):                  0.000   Jarque-Bera (JB):               35.079\n",
            "Skew:                          -0.117   Prob(JB):                     2.41e-08\n",
            "Kurtosis:                       2.571   Cond. No.                         12.5\n",
            "==============================================================================\n",
            "\n",
            "Notes:\n",
            "[1] Standard Errors assume that the covariance matrix of the errors is correctly specified.\n"
          ]
        }
      ]
    },
    {
      "cell_type": "markdown",
      "source": [
        "### (7B) Linear Regression Model Interpretation\n",
        "- Adjusted R-squared shows that about 6.8% of the variance in the satisfaction of how US democracy operates can be explained by the explanatory variables. Such a low R-squared indicates that this is a weak model\n",
        "- The F-statistic is statistically significant at p < 0.05, so we can reject the null hypothesis that all the regression coefficients are equal to 0, resulting in a model with no predictive capability.\n",
        "\n",
        "\n",
        "---\n",
        "\n",
        "\n",
        "Still, there are several explanatory variables that are statistically significant at p < 0.05.\n",
        "1. **College** - for each additional year of education, the satisfaction with US democracy operation *decreases by -0.11*\n",
        "2. **Black** - for each incremental increase in the amount of black respondents, the satsifaction with US democracy operation *decreases by -0.11*\n",
        "3. **Hispanic** - for each incremental increase in the amount of Hispanic respondents, the satisfsaction with US democracy operation *decreases by -0.14*\n",
        "4. **Citizen** - for each incremental increase in US citizens, the satisfaction with US democracy operation *increases by 0.22*\n",
        "5. **Republican** - for each incremental increase in republicans, the satisfaction with US democracy operation *increases by 0.37*\n",
        "\n",
        "\n"
      ],
      "metadata": {
        "id": "N_HfKmsNZawx"
      }
    },
    {
      "cell_type": "markdown",
      "source": [
        "## **(8B) Revise the linear model**\n",
        "- Add the variable of current economic situation\n",
        "\n",
        "\n",
        "---\n",
        "- Model actually loses reliability - adjusted R-squared drops is the same as before, but the R-squared value drops slightly in this simpler model\n"
      ],
      "metadata": {
        "id": "OlzsN_WZZNLm"
      }
    },
    {
      "cell_type": "code",
      "metadata": {
        "id": "ai0N1YJ4rwaT",
        "colab": {
          "base_uri": "https://localhost:8080/"
        },
        "outputId": "b0698ccd-44ff-4195-b322-1442307199d1"
      },
      "source": [
        "# Linear model to predict satisfaction in democracy operations using the original variable\n",
        "Y = Demo_df['SATISFIED_DEMOCRACY_W124'] # A higher score indicates greater satisfaction with how democracy works\n",
        "X = Demo_df[['young', 'women', 'college', 'black', 'latin', 'metro', 'citizen', 'republican', 'low-income', 'good-econ']]\n",
        "X = sm.add_constant(X)\n",
        "model0 = sm.OLS(Y, X, missing='drop').fit()\n",
        "print(model0.summary())"
      ],
      "execution_count": null,
      "outputs": [
        {
          "output_type": "stream",
          "name": "stdout",
          "text": [
            "                               OLS Regression Results                               \n",
            "====================================================================================\n",
            "Dep. Variable:     SATISFIED_DEMOCRACY_W124   R-squared:                       0.207\n",
            "Model:                                  OLS   Adj. R-squared:                  0.205\n",
            "Method:                       Least Squares   F-statistic:                     91.70\n",
            "Date:                      Tue, 24 Dec 2024   Prob (F-statistic):          8.81e-169\n",
            "Time:                              17:05:29   Log-Likelihood:                -3805.3\n",
            "No. Observations:                      3525   AIC:                             7633.\n",
            "Df Residuals:                          3514   BIC:                             7700.\n",
            "Df Model:                                10                                         \n",
            "Covariance Type:                  nonrobust                                         \n",
            "==============================================================================\n",
            "                 coef    std err          t      P>|t|      [0.025      0.975]\n",
            "------------------------------------------------------------------------------\n",
            "const          2.8246      0.068     41.580      0.000       2.691       2.958\n",
            "young         -0.0012      0.035     -0.034      0.973      -0.070       0.068\n",
            "women         -0.0086      0.026     -0.333      0.739      -0.059       0.042\n",
            "college       -0.0818      0.026     -3.194      0.001      -0.132      -0.032\n",
            "black         -0.0474      0.034     -1.416      0.157      -0.113       0.018\n",
            "latin         -0.0982      0.032     -3.109      0.002      -0.160      -0.036\n",
            "metro         -0.0304      0.042     -0.725      0.469      -0.113       0.052\n",
            "citizen        0.2050      0.050      4.067      0.000       0.106       0.304\n",
            "republican     0.2469      0.029      8.405      0.000       0.189       0.305\n",
            "low-income     0.0050      0.029      0.171      0.864      -0.052       0.062\n",
            "good-econ     -0.6672      0.027    -24.855      0.000      -0.720      -0.615\n",
            "==============================================================================\n",
            "Omnibus:                       10.767   Durbin-Watson:                   2.060\n",
            "Prob(Omnibus):                  0.005   Jarque-Bera (JB):               10.578\n",
            "Skew:                          -0.116   Prob(JB):                      0.00505\n",
            "Kurtosis:                       2.865   Cond. No.                         12.7\n",
            "==============================================================================\n",
            "\n",
            "Notes:\n",
            "[1] Standard Errors assume that the covariance matrix of the errors is correctly specified.\n"
          ]
        }
      ]
    },
    {
      "cell_type": "markdown",
      "source": [
        "### Revised linear model with recoded dependent variable (same results as non-recoded)"
      ],
      "metadata": {
        "id": "Z85lCXpcpvU8"
      }
    },
    {
      "cell_type": "code",
      "metadata": {
        "colab": {
          "base_uri": "https://localhost:8080/"
        },
        "id": "7yv-zkIiePjy",
        "outputId": "6815bd7c-b72a-4242-f6d4-9264f1b39e0a"
      },
      "source": [
        "# Same model, with the recoded dependent variable, showing the same results.\n",
        "# Linear model to predict satisfaction with the way democracy works\n",
        "Y = Demo_df['SATISFIED_DEMOCRACY_W124r'] # A higher score indicates more satisfaction with the way democracy works\n",
        "X = Demo_df[['young', 'women', 'college', 'black', 'latin', 'metro', 'citizen', 'republican', 'low-income', 'good-econ']]\n",
        "X = sm.add_constant(X)\n",
        "model1 = sm.OLS(Y, X, missing='drop').fit()\n",
        "print(model1.summary())"
      ],
      "execution_count": null,
      "outputs": [
        {
          "output_type": "stream",
          "name": "stdout",
          "text": [
            "                                OLS Regression Results                               \n",
            "=====================================================================================\n",
            "Dep. Variable:     SATISFIED_DEMOCRACY_W124r   R-squared:                       0.207\n",
            "Model:                                   OLS   Adj. R-squared:                  0.205\n",
            "Method:                        Least Squares   F-statistic:                     91.70\n",
            "Date:                       Tue, 24 Dec 2024   Prob (F-statistic):          8.81e-169\n",
            "Time:                               17:05:56   Log-Likelihood:                -3805.3\n",
            "No. Observations:                       3525   AIC:                             7633.\n",
            "Df Residuals:                           3514   BIC:                             7700.\n",
            "Df Model:                                 10                                         \n",
            "Covariance Type:                   nonrobust                                         \n",
            "==============================================================================\n",
            "                 coef    std err          t      P>|t|      [0.025      0.975]\n",
            "------------------------------------------------------------------------------\n",
            "const          2.8246      0.068     41.580      0.000       2.691       2.958\n",
            "young         -0.0012      0.035     -0.034      0.973      -0.070       0.068\n",
            "women         -0.0086      0.026     -0.333      0.739      -0.059       0.042\n",
            "college       -0.0818      0.026     -3.194      0.001      -0.132      -0.032\n",
            "black         -0.0474      0.034     -1.416      0.157      -0.113       0.018\n",
            "latin         -0.0982      0.032     -3.109      0.002      -0.160      -0.036\n",
            "metro         -0.0304      0.042     -0.725      0.469      -0.113       0.052\n",
            "citizen        0.2050      0.050      4.067      0.000       0.106       0.304\n",
            "republican     0.2469      0.029      8.405      0.000       0.189       0.305\n",
            "low-income     0.0050      0.029      0.171      0.864      -0.052       0.062\n",
            "good-econ     -0.6672      0.027    -24.855      0.000      -0.720      -0.615\n",
            "==============================================================================\n",
            "Omnibus:                       10.767   Durbin-Watson:                   2.060\n",
            "Prob(Omnibus):                  0.005   Jarque-Bera (JB):               10.578\n",
            "Skew:                          -0.116   Prob(JB):                      0.00505\n",
            "Kurtosis:                       2.865   Cond. No.                         12.7\n",
            "==============================================================================\n",
            "\n",
            "Notes:\n",
            "[1] Standard Errors assume that the covariance matrix of the errors is correctly specified.\n"
          ]
        }
      ]
    },
    {
      "cell_type": "markdown",
      "source": [
        "### Revised linear model interpretation\n",
        "- Adjusted R-squared increased substantially to 0.205; 20.5% of the variance in the satisfaction in democracy can be explained by the indenpendent variables in the model\n",
        "\n",
        "- Race is no longer statistically significant\n",
        "\n",
        "---\n",
        "\n",
        "Examining the explanatory variables that are statistically significant at p < 0.05.\n",
        "1. **College** - for each additional year of education, the satisfaction with US democracy operation *decreases by -0.08*\n",
        "2. **Hispanic** - for each incremental increase in the amount of Hispanic respondents, the satisfsaction with US democracy operation *decreases by -0.09*\n",
        "3. **Citizen** - for each incremental increase in US citizens, the satisfaction with US democracy operation *increases by 0.21*\n",
        "4. **Republican** - for each incremental increase in republicans, the satisfaction with US democracy operation *increases by 0.25*\n",
        "5. **Good-economy** - for each incremental increase in how good the current economic situation is described, the satisfaction with US democracy operation *decreases by 0.67*\n",
        "\n",
        "\n",
        "\n",
        "---\n",
        "\n",
        "The results of current economic situation are a bit surprising because one would think that positive feelings of the current economic situation would correlate with higher satisfaction in the way democracy, where that economic situation exists, works.\n",
        "\n"
      ],
      "metadata": {
        "id": "xaKQC3Opp-no"
      }
    },
    {
      "cell_type": "markdown",
      "source": [
        "### **(9B) Revise the linear model to remove the variables that are not statistically significant**\n",
        "- Model only has the demographic variables"
      ],
      "metadata": {
        "id": "Tp3KUk8rrxbV"
      }
    },
    {
      "cell_type": "code",
      "source": [
        "# Same model, with the recoded dependent variable, showing the same results.\n",
        "# Linear model to predict satisfaction with the way democracy works\n",
        "Y = Demo_df['SATISFIED_DEMOCRACY_W124'] # A higher score indicates more satisfaction with the way democracy works\n",
        "X = Demo_df[['college', 'latin', 'citizen', 'republican']]\n",
        "X = sm.add_constant(X)\n",
        "model1 = sm.OLS(Y, X, missing='drop').fit()\n",
        "print(model1.summary())"
      ],
      "metadata": {
        "colab": {
          "base_uri": "https://localhost:8080/"
        },
        "id": "6qiyDrn7sLLc",
        "outputId": "77014771-311d-4a81-aa80-7d59fe0e9b5b"
      },
      "execution_count": null,
      "outputs": [
        {
          "output_type": "stream",
          "name": "stdout",
          "text": [
            "                               OLS Regression Results                               \n",
            "====================================================================================\n",
            "Dep. Variable:     SATISFIED_DEMOCRACY_W124   R-squared:                       0.063\n",
            "Model:                                  OLS   Adj. R-squared:                  0.062\n",
            "Method:                       Least Squares   F-statistic:                     59.29\n",
            "Date:                      Tue, 24 Dec 2024   Prob (F-statistic):           1.62e-48\n",
            "Time:                              17:26:12   Log-Likelihood:                -4099.0\n",
            "No. Observations:                      3525   AIC:                             8208.\n",
            "Df Residuals:                          3520   BIC:                             8239.\n",
            "Df Model:                                 4                                         \n",
            "Covariance Type:                  nonrobust                                         \n",
            "==============================================================================\n",
            "                 coef    std err          t      P>|t|      [0.025      0.975]\n",
            "------------------------------------------------------------------------------\n",
            "const          2.5545      0.056     45.245      0.000       2.444       2.665\n",
            "college       -0.1102      0.026     -4.167      0.000      -0.162      -0.058\n",
            "latin         -0.1195      0.032     -3.763      0.000      -0.182      -0.057\n",
            "citizen        0.2128      0.054      3.905      0.000       0.106       0.320\n",
            "republican     0.3918      0.030     12.952      0.000       0.333       0.451\n",
            "==============================================================================\n",
            "Omnibus:                       54.957   Durbin-Watson:                   2.057\n",
            "Prob(Omnibus):                  0.000   Jarque-Bera (JB):               36.991\n",
            "Skew:                          -0.125   Prob(JB):                     9.28e-09\n",
            "Kurtosis:                       2.565   Cond. No.                         8.90\n",
            "==============================================================================\n",
            "\n",
            "Notes:\n",
            "[1] Standard Errors assume that the covariance matrix of the errors is correctly specified.\n"
          ]
        }
      ]
    },
    {
      "cell_type": "code",
      "metadata": {
        "colab": {
          "base_uri": "https://localhost:8080/"
        },
        "outputId": "8126721a-709f-48b7-8a62-c84f06721b3c",
        "id": "3GM6q0MKZXRV"
      },
      "source": [
        "# Same model, with the recoded dependent variable, showing the same results.\n",
        "# Linear model to predict satisfaction with the way democracy works\n",
        "Y = Demo_df['SATISFIED_DEMOCRACY_W124r'] # A higher score indicates more satisfaction with the way democracy works\n",
        "X = Demo_df[['college', 'latin', 'citizen', 'republican']]\n",
        "X = sm.add_constant(X)\n",
        "model1 = sm.OLS(Y, X, missing='drop').fit()\n",
        "print(model1.summary())"
      ],
      "execution_count": null,
      "outputs": [
        {
          "output_type": "stream",
          "name": "stdout",
          "text": [
            "                                OLS Regression Results                               \n",
            "=====================================================================================\n",
            "Dep. Variable:     SATISFIED_DEMOCRACY_W124r   R-squared:                       0.063\n",
            "Model:                                   OLS   Adj. R-squared:                  0.062\n",
            "Method:                        Least Squares   F-statistic:                     59.29\n",
            "Date:                       Tue, 24 Dec 2024   Prob (F-statistic):           1.62e-48\n",
            "Time:                               17:26:17   Log-Likelihood:                -4099.0\n",
            "No. Observations:                       3525   AIC:                             8208.\n",
            "Df Residuals:                           3520   BIC:                             8239.\n",
            "Df Model:                                  4                                         \n",
            "Covariance Type:                   nonrobust                                         \n",
            "==============================================================================\n",
            "                 coef    std err          t      P>|t|      [0.025      0.975]\n",
            "------------------------------------------------------------------------------\n",
            "const          2.5545      0.056     45.245      0.000       2.444       2.665\n",
            "college       -0.1102      0.026     -4.167      0.000      -0.162      -0.058\n",
            "latin         -0.1195      0.032     -3.763      0.000      -0.182      -0.057\n",
            "citizen        0.2128      0.054      3.905      0.000       0.106       0.320\n",
            "republican     0.3918      0.030     12.952      0.000       0.333       0.451\n",
            "==============================================================================\n",
            "Omnibus:                       54.957   Durbin-Watson:                   2.057\n",
            "Prob(Omnibus):                  0.000   Jarque-Bera (JB):               36.991\n",
            "Skew:                          -0.125   Prob(JB):                     9.28e-09\n",
            "Kurtosis:                       2.565   Cond. No.                         8.90\n",
            "==============================================================================\n",
            "\n",
            "Notes:\n",
            "[1] Standard Errors assume that the covariance matrix of the errors is correctly specified.\n"
          ]
        }
      ]
    },
    {
      "cell_type": "markdown",
      "source": [
        "### Revised model with only the statistically significant variables\n",
        "- Adjusted R-squared of 0.060 shows that only 6.2% of the variance in the dependent variable can be explained by the model\n",
        "- All the explanatory variables still remain statistically significant at p < 0.05 and move in the same direction as the original"
      ],
      "metadata": {
        "id": "zd85_HCdsUaa"
      }
    },
    {
      "cell_type": "markdown",
      "source": [
        "### **(10B) Final model with only statistically significant model and the main independent variable added**"
      ],
      "metadata": {
        "id": "J-3_UKxtss5b"
      }
    },
    {
      "cell_type": "code",
      "source": [
        "# Same model, with the recoded dependent variable, showing the same results.\n",
        "# Linear model to predict satisfaction with the way democracy works\n",
        "Y = Demo_df['SATISFIED_DEMOCRACY_W124'] # A higher score indicates more satisfaction with the way democracy works\n",
        "X = Demo_df[['college', 'latin', 'citizen', 'republican', 'good-econ']]\n",
        "X = sm.add_constant(X)\n",
        "model1 = sm.OLS(Y, X, missing='drop').fit()\n",
        "print(model1.summary())"
      ],
      "metadata": {
        "colab": {
          "base_uri": "https://localhost:8080/"
        },
        "id": "0GgOEaSSs3_k",
        "outputId": "8b45b208-6a80-412f-895f-f20f8e200cc1"
      },
      "execution_count": null,
      "outputs": [
        {
          "output_type": "stream",
          "name": "stdout",
          "text": [
            "                               OLS Regression Results                               \n",
            "====================================================================================\n",
            "Dep. Variable:     SATISFIED_DEMOCRACY_W124   R-squared:                       0.206\n",
            "Model:                                  OLS   Adj. R-squared:                  0.205\n",
            "Method:                       Least Squares   F-statistic:                     182.9\n",
            "Date:                      Tue, 24 Dec 2024   Prob (F-statistic):          1.42e-173\n",
            "Time:                              17:26:44   Log-Likelihood:                -3806.7\n",
            "No. Observations:                      3525   AIC:                             7625.\n",
            "Df Residuals:                          3519   BIC:                             7662.\n",
            "Df Model:                                 5                                         \n",
            "Covariance Type:                  nonrobust                                         \n",
            "==============================================================================\n",
            "                 coef    std err          t      P>|t|      [0.025      0.975]\n",
            "------------------------------------------------------------------------------\n",
            "const          2.7831      0.053     52.751      0.000       2.680       2.887\n",
            "college       -0.0804      0.024     -3.300      0.001      -0.128      -0.033\n",
            "latin         -0.0874      0.029     -2.986      0.003      -0.145      -0.030\n",
            "citizen        0.2024      0.050      4.036      0.000       0.104       0.301\n",
            "republican     0.2569      0.028      9.061      0.000       0.201       0.313\n",
            "good-econ     -0.6703      0.027    -25.196      0.000      -0.722      -0.618\n",
            "==============================================================================\n",
            "Omnibus:                       10.946   Durbin-Watson:                   2.058\n",
            "Prob(Omnibus):                  0.004   Jarque-Bera (JB):               10.737\n",
            "Skew:                          -0.116   Prob(JB):                      0.00466\n",
            "Kurtosis:                       2.863   Cond. No.                         9.14\n",
            "==============================================================================\n",
            "\n",
            "Notes:\n",
            "[1] Standard Errors assume that the covariance matrix of the errors is correctly specified.\n"
          ]
        }
      ]
    },
    {
      "cell_type": "markdown",
      "source": [
        "### Revised model with recoded variable - same results as non-recoded variable"
      ],
      "metadata": {
        "id": "O5RoEu_8tXZd"
      }
    },
    {
      "cell_type": "code",
      "source": [
        "# Same model, with the recoded dependent variable, showing the same results.\n",
        "# Linear model to predict satisfaction with the way democracy works\n",
        "Y = Demo_df['SATISFIED_DEMOCRACY_W124r'] # A higher score indicates more satisfaction with the way democracy works\n",
        "X = Demo_df[['college', 'latin', 'citizen', 'republican', 'good-econ']]\n",
        "X = sm.add_constant(X)\n",
        "model1 = sm.OLS(Y, X, missing='drop').fit()\n",
        "print(model1.summary())"
      ],
      "metadata": {
        "colab": {
          "base_uri": "https://localhost:8080/"
        },
        "id": "PMy1p9vBs8rE",
        "outputId": "82fae013-8bbf-41da-e924-d2de3c576df4"
      },
      "execution_count": null,
      "outputs": [
        {
          "output_type": "stream",
          "name": "stdout",
          "text": [
            "                                OLS Regression Results                               \n",
            "=====================================================================================\n",
            "Dep. Variable:     SATISFIED_DEMOCRACY_W124r   R-squared:                       0.206\n",
            "Model:                                   OLS   Adj. R-squared:                  0.205\n",
            "Method:                        Least Squares   F-statistic:                     182.9\n",
            "Date:                       Tue, 24 Dec 2024   Prob (F-statistic):          1.42e-173\n",
            "Time:                               17:26:51   Log-Likelihood:                -3806.7\n",
            "No. Observations:                       3525   AIC:                             7625.\n",
            "Df Residuals:                           3519   BIC:                             7662.\n",
            "Df Model:                                  5                                         \n",
            "Covariance Type:                   nonrobust                                         \n",
            "==============================================================================\n",
            "                 coef    std err          t      P>|t|      [0.025      0.975]\n",
            "------------------------------------------------------------------------------\n",
            "const          2.7831      0.053     52.751      0.000       2.680       2.887\n",
            "college       -0.0804      0.024     -3.300      0.001      -0.128      -0.033\n",
            "latin         -0.0874      0.029     -2.986      0.003      -0.145      -0.030\n",
            "citizen        0.2024      0.050      4.036      0.000       0.104       0.301\n",
            "republican     0.2569      0.028      9.061      0.000       0.201       0.313\n",
            "good-econ     -0.6703      0.027    -25.196      0.000      -0.722      -0.618\n",
            "==============================================================================\n",
            "Omnibus:                       10.946   Durbin-Watson:                   2.058\n",
            "Prob(Omnibus):                  0.004   Jarque-Bera (JB):               10.737\n",
            "Skew:                          -0.116   Prob(JB):                      0.00466\n",
            "Kurtosis:                       2.863   Cond. No.                         9.14\n",
            "==============================================================================\n",
            "\n",
            "Notes:\n",
            "[1] Standard Errors assume that the covariance matrix of the errors is correctly specified.\n"
          ]
        }
      ]
    },
    {
      "cell_type": "markdown",
      "source": [
        "### **Final model interpretation**\n",
        "\n",
        "- Overall R-squred dipped slightly from 0.207 (original model) to 0.206\n",
        "- Adjusted R-squared is the same for the original model with all the control variables and the final at 0.205. 20.5% of the variance in the satisfaction with the way democracy works can be explained by the explanatory variables.\n",
        "- All independent variables remain statistically significant at p < 0.05\n",
        "\n",
        "\n",
        "---\n",
        "\n",
        "1. **College** - for each additional year of education, the satisfaction with US democracy operation *decreases by -0.08*\n",
        "2. **Hispanic** - for each incremental increase in the amount of Hispanic respondents, the satisfsaction with US democracy operation *decreases by -0.09*\n",
        "3. **Citizen** - for each incremental increase in US citizens, the satisfaction with US democracy operation *increases by 0.20*\n",
        "4. **Republican** - for each incremental increase in republicans, the satisfaction with US democracy operation *increases by 0.26*\n",
        "5. **Good-economy** - for each incremental increase in how good the current economic situation is described, the satisfaction with US democracy operation *decreases by 0.67*"
      ],
      "metadata": {
        "id": "4LPrQw5HthuM"
      }
    },
    {
      "cell_type": "markdown",
      "source": [
        "# **Part 4: Creating a logistic regression mdoel to predict probability of satisfaction with the way democracy works**"
      ],
      "metadata": {
        "id": "Agdi7Z52Xdrb"
      }
    },
    {
      "cell_type": "markdown",
      "source": [
        "### (1C) Recode dependent variable as binary"
      ],
      "metadata": {
        "id": "F_iNbwCwXuT7"
      }
    },
    {
      "cell_type": "code",
      "metadata": {
        "id": "Kw909XQUf55b",
        "colab": {
          "base_uri": "https://localhost:8080/",
          "height": 178
        },
        "outputId": "e9e61b84-3417-4491-8516-3b5c0821b695"
      },
      "source": [
        "# Recode dependent variable as binary\n",
        "# If somewhat or very satisfied, recode as 1 (yes), and if somewhat or very dissatisfied, recode as 0\n",
        "Demo_df['satisfied_demo'] = np.where(Demo_df['SATISFIED_DEMOCRACY_W124'] < 3, 1, 0)\n",
        "Demo_df['satisfied_demo'].value_counts()"
      ],
      "execution_count": null,
      "outputs": [
        {
          "output_type": "execute_result",
          "data": {
            "text/plain": [
              "satisfied_demo\n",
              "0    2268\n",
              "1    1308\n",
              "Name: count, dtype: int64"
            ],
            "text/html": [
              "<div>\n",
              "<style scoped>\n",
              "    .dataframe tbody tr th:only-of-type {\n",
              "        vertical-align: middle;\n",
              "    }\n",
              "\n",
              "    .dataframe tbody tr th {\n",
              "        vertical-align: top;\n",
              "    }\n",
              "\n",
              "    .dataframe thead th {\n",
              "        text-align: right;\n",
              "    }\n",
              "</style>\n",
              "<table border=\"1\" class=\"dataframe\">\n",
              "  <thead>\n",
              "    <tr style=\"text-align: right;\">\n",
              "      <th></th>\n",
              "      <th>count</th>\n",
              "    </tr>\n",
              "    <tr>\n",
              "      <th>satisfied_demo</th>\n",
              "      <th></th>\n",
              "    </tr>\n",
              "  </thead>\n",
              "  <tbody>\n",
              "    <tr>\n",
              "      <th>0</th>\n",
              "      <td>2268</td>\n",
              "    </tr>\n",
              "    <tr>\n",
              "      <th>1</th>\n",
              "      <td>1308</td>\n",
              "    </tr>\n",
              "  </tbody>\n",
              "</table>\n",
              "</div><br><label><b>dtype:</b> int64</label>"
            ]
          },
          "metadata": {},
          "execution_count": 42
        }
      ]
    },
    {
      "cell_type": "markdown",
      "source": [
        "### (2C) Create logistic regression model of original model with only the control variables (sans economic situation)"
      ],
      "metadata": {
        "id": "kBys9GTJYKNa"
      }
    },
    {
      "cell_type": "code",
      "metadata": {
        "colab": {
          "base_uri": "https://localhost:8080/"
        },
        "id": "W-TybDcRfwpW",
        "outputId": "6d4d0cc4-ca83-4198-d6ce-4d37e0dff5ce"
      },
      "source": [
        "# Logistic mregression model to predict satisfaction with democracy\n",
        "Y = Demo_df['satisfied_demo'] # binary measure of satisfaction with democracy\n",
        "X = Demo_df[['young', 'women', 'college', 'black', 'latin', 'metro', 'citizen', 'republican', 'low-income']]\n",
        "#X = sm.add_constant(X) #this hides the constant because it throws me off for the odds ratio calculations\n",
        "model2 = sm.Logit(Y, X, missing='drop').fit()\n",
        "print(model2.summary())"
      ],
      "execution_count": null,
      "outputs": [
        {
          "output_type": "stream",
          "name": "stdout",
          "text": [
            "Optimization terminated successfully.\n",
            "         Current function value: 0.629248\n",
            "         Iterations 5\n",
            "                           Logit Regression Results                           \n",
            "==============================================================================\n",
            "Dep. Variable:         satisfied_demo   No. Observations:                 3576\n",
            "Model:                          Logit   Df Residuals:                     3567\n",
            "Method:                           MLE   Df Model:                            8\n",
            "Date:                Tue, 24 Dec 2024   Pseudo R-squ.:                 0.04175\n",
            "Time:                        17:32:52   Log-Likelihood:                -2250.2\n",
            "converged:                       True   LL-Null:                       -2348.2\n",
            "Covariance Type:            nonrobust   LLR p-value:                 4.234e-38\n",
            "==============================================================================\n",
            "                 coef    std err          z      P>|z|      [0.025      0.975]\n",
            "------------------------------------------------------------------------------\n",
            "young         -0.2611      0.106     -2.473      0.013      -0.468      -0.054\n",
            "women         -0.1465      0.075     -1.942      0.052      -0.294       0.001\n",
            "college        0.2781      0.074      3.739      0.000       0.132       0.424\n",
            "black          0.2571      0.096      2.687      0.007       0.070       0.445\n",
            "latin          0.3438      0.090      3.812      0.000       0.167       0.521\n",
            "metro         -0.0611      0.104     -0.587      0.557      -0.265       0.143\n",
            "citizen       -0.4996      0.098     -5.084      0.000      -0.692      -0.307\n",
            "republican    -0.9279      0.094     -9.872      0.000      -1.112      -0.744\n",
            "low-income     0.0246      0.085      0.290      0.772      -0.142       0.191\n",
            "==============================================================================\n"
          ]
        }
      ]
    },
    {
      "cell_type": "markdown",
      "source": [
        "### (3C) Logistic Regression Model Interpretation\n",
        "- LLR p-value is statistically significant at p < 0.05, so the model is reliable and the dataset is sufficiently large.\n",
        "- Pseudo R-squared value (goodness of fit) shows that only 4.2% of the model fits the data."
      ],
      "metadata": {
        "id": "h9uFMXBcwm9H"
      }
    },
    {
      "cell_type": "markdown",
      "source": [
        "### (4C) Convert the coefficients to odds so they are interpretable.\n",
        "- Must exponentiate (or the take anti-logs of) the coefficients in order to interpret them as odds.\n",
        "- For the negative coefficients, take the inverse of the result & interpret it in the opposite direction (that is, the odds of not being in the high satisfaction of democracy group).\n",
        "- Can also change the increment of change in X."
      ],
      "metadata": {
        "id": "tpmFAMIQwae7"
      }
    },
    {
      "cell_type": "code",
      "source": [
        "# These odds take the inverse so that it is easier to say\n",
        "print(1/math.exp(model2.params[0]), 1/math.exp(model2.params[1]), math.exp(model2.params[2]), math.exp(model2.params[3]), math.exp(model2.params[4]), 1/math.exp(model2.params[5]), 1/math.exp(model2.params[6]), 1/math.exp(model2.params[7]), math.exp(model2.params[8]))"
      ],
      "metadata": {
        "colab": {
          "base_uri": "https://localhost:8080/"
        },
        "id": "vMo0DK-Ju2E3",
        "outputId": "ae363fb4-bee3-4822-b31f-47a3e4119c30"
      },
      "execution_count": null,
      "outputs": [
        {
          "output_type": "stream",
          "name": "stdout",
          "text": [
            "1.2983107919006496 1.1577863699345305 1.3206578894697996 1.2932125693685566 1.4102301064337928 1.062955975255495 1.6479993117843676 2.5291394158932117 1.0249444748512226\n"
          ]
        },
        {
          "output_type": "stream",
          "name": "stderr",
          "text": [
            "<ipython-input-79-c82462aa18f0>:1: FutureWarning: Series.__getitem__ treating keys as positions is deprecated. In a future version, integer keys will always be treated as labels (consistent with DataFrame behavior). To access a value by position, use `ser.iloc[pos]`\n",
            "  print(1/math.exp(model2.params[0]), 1/math.exp(model2.params[1]), math.exp(model2.params[2]), math.exp(model2.params[3]), math.exp(model2.params[4]), 1/math.exp(model2.params[5]), 1/math.exp(model2.params[6]), 1/math.exp(model2.params[7]), math.exp(model2.params[8]))\n"
          ]
        }
      ]
    },
    {
      "cell_type": "markdown",
      "source": [
        "### (5C) Odds ratio interpretation\n",
        "1. For every 1 unit change in young, there is 1.3 times greater odds of being in the less satisfied with US democracy operation group\n",
        "2. For every 1 unit change in women, there is 1.16 times greater odds of being in the less satisfied with US democracy operation group\n",
        "3. For every 1 unit change in college education, there is 1.32 times greater odds of being in the more satisfied with US democracy operation group\n",
        "4. For every 1 unit change in black, there is 1.29 times greater odds of being in the more satisfied with US democracy operation group\n",
        "5. For every 1 unit change in Hispanic, there is 1.41 times greater odds of being in the more satisfied with US democracy operation group\n",
        "6. For every 1 unit change in metropolitan area, there is 1.06 times greater odds of being less satisfied with US democracy operation group\n",
        "7. For every 1 unit change in citizenship, there is 1.65 times greater odds of being less satisfied with US democracy operation group\n",
        "8. For every 1 unit change in republican, there is 2.53 times greater odds of being less satisfied with US democracy operation group\n",
        "9. For every 1 unit change in low-income, there is 1.02 times greater odds of being in the more satisfied with US democracy operation group\n",
        "\n",
        "\n",
        "---\n",
        "\n",
        "**Seeing that self-reporting as republican has the highest odds of dissatisfaction with the way democracy in the US works is interesting considering what would happen in the next election.**\n"
      ],
      "metadata": {
        "id": "o9-4knsNzmNw"
      }
    },
    {
      "cell_type": "code",
      "source": [
        "print(np.exp(model2.params)) #These are expressed as odds ratios but the odds ratios less than 1 are a little harder to interpret, see above code for the inverse"
      ],
      "metadata": {
        "colab": {
          "base_uri": "https://localhost:8080/"
        },
        "id": "eEaEc-DFzThy",
        "outputId": "55366303-7845-4d01-b374-993e973a1ffa"
      },
      "execution_count": null,
      "outputs": [
        {
          "output_type": "stream",
          "name": "stdout",
          "text": [
            "young         0.770232\n",
            "women         0.863717\n",
            "college       1.320658\n",
            "black         1.293213\n",
            "latin         1.410230\n",
            "metro         0.940773\n",
            "citizen       0.606796\n",
            "republican    0.395391\n",
            "low-income    1.024944\n",
            "dtype: float64\n"
          ]
        }
      ]
    },
    {
      "cell_type": "code",
      "metadata": {
        "id": "eVD8eCRWPnC5",
        "colab": {
          "base_uri": "https://localhost:8080/"
        },
        "outputId": "0ce9be29-4c39-4dbf-ed29-5a8c3a36882f"
      },
      "source": [
        "model2_marginals = model2.get_margeff(at='median')\n",
        "print(model2_marginals.summary())"
      ],
      "execution_count": null,
      "outputs": [
        {
          "output_type": "stream",
          "name": "stdout",
          "text": [
            "        Logit Marginal Effects       \n",
            "=====================================\n",
            "Dep. Variable:         satisfied_demo\n",
            "Method:                          dydx\n",
            "At:                            median\n",
            "==============================================================================\n",
            "                dy/dx    std err          z      P>|z|      [0.025      0.975]\n",
            "------------------------------------------------------------------------------\n",
            "young         -0.0604      0.025     -2.447      0.014      -0.109      -0.012\n",
            "women         -0.0339      0.018     -1.906      0.057      -0.069       0.001\n",
            "college        0.0643      0.016      3.906      0.000       0.032       0.097\n",
            "black          0.0595      0.022      2.766      0.006       0.017       0.102\n",
            "latin          0.0795      0.020      3.931      0.000       0.040       0.119\n",
            "metro         -0.0141      0.024     -0.591      0.555      -0.061       0.033\n",
            "citizen       -0.1156      0.022     -5.262      0.000      -0.159      -0.073\n",
            "republican    -0.2147      0.024     -9.058      0.000      -0.261      -0.168\n",
            "low-income     0.0057      0.020      0.290      0.772      -0.033       0.044\n",
            "==============================================================================\n"
          ]
        }
      ]
    },
    {
      "cell_type": "markdown",
      "source": [
        "### (6C) Revised logisitic regression to include all controls and the economic situation"
      ],
      "metadata": {
        "id": "nu5uT5tDu2R8"
      }
    },
    {
      "cell_type": "code",
      "source": [
        "# Logistic mregression model to predict satisfaction with democracy\n",
        "Y = Demo_df['satisfied_demo'] # binary measure of satisfaction with democracy\n",
        "X = Demo_df[['young', 'women', 'college', 'black', 'latin', 'metro', 'citizen', 'republican', 'low-income', 'good-econ']]\n",
        "#X = sm.add_constant(X) #this hides the constant because it throws me off for the odds ratio calculations\n",
        "model2 = sm.Logit(Y, X, missing='drop').fit()\n",
        "print(model2.summary())"
      ],
      "metadata": {
        "colab": {
          "base_uri": "https://localhost:8080/"
        },
        "id": "iKPHD6Wdu1I1",
        "outputId": "3088e96f-b212-44ff-dc10-3da22d18181c"
      },
      "execution_count": null,
      "outputs": [
        {
          "output_type": "stream",
          "name": "stdout",
          "text": [
            "Optimization terminated successfully.\n",
            "         Current function value: 0.558654\n",
            "         Iterations 5\n",
            "                           Logit Regression Results                           \n",
            "==============================================================================\n",
            "Dep. Variable:         satisfied_demo   No. Observations:                 3576\n",
            "Model:                          Logit   Df Residuals:                     3566\n",
            "Method:                           MLE   Df Model:                            9\n",
            "Date:                Tue, 24 Dec 2024   Pseudo R-squ.:                  0.1493\n",
            "Time:                        17:34:23   Log-Likelihood:                -1997.7\n",
            "converged:                       True   LL-Null:                       -2348.2\n",
            "Covariance Type:            nonrobust   LLR p-value:                4.232e-145\n",
            "==============================================================================\n",
            "                 coef    std err          z      P>|z|      [0.025      0.975]\n",
            "------------------------------------------------------------------------------\n",
            "young         -0.0885      0.114     -0.780      0.436      -0.311       0.134\n",
            "women         -0.1130      0.082     -1.384      0.166      -0.273       0.047\n",
            "college        0.1775      0.081      2.200      0.028       0.019       0.336\n",
            "black          0.0967      0.105      0.923      0.356      -0.109       0.302\n",
            "latin          0.2062      0.098      2.103      0.036       0.014       0.398\n",
            "metro         -0.3048      0.111     -2.743      0.006      -0.523      -0.087\n",
            "citizen       -0.8553      0.107     -8.027      0.000      -1.064      -0.646\n",
            "republican    -0.6899      0.100     -6.874      0.000      -0.887      -0.493\n",
            "low-income    -0.0112      0.092     -0.121      0.904      -0.192       0.169\n",
            "good-econ      1.7644      0.082     21.595      0.000       1.604       1.925\n",
            "==============================================================================\n"
          ]
        }
      ]
    },
    {
      "cell_type": "markdown",
      "source": [
        "### (7C) Revised Logistic Regression Model Interpretation\n",
        "- LLR p-value is statistically significant at p < 0.05, so the model is reliable and the dataset is sufficiently large.\n",
        "- Pseudo R-squared value (goodness of fit) shows that about 15% of the model fits the data."
      ],
      "metadata": {
        "id": "uQdQeaE9vKoU"
      }
    },
    {
      "cell_type": "code",
      "source": [
        "# These odds take the inverse so that it is easier to say\n",
        "print(1/math.exp(model2.params[0]), 1/math.exp(model2.params[1]), math.exp(model2.params[2]), math.exp(model2.params[3]), math.exp(model2.params[4]), 1/math.exp(model2.params[5]), 1/math.exp(model2.params[6]), 1/math.exp(model2.params[7]), 1/math.exp(model2.params[8]), math.exp(model2.params[9]))"
      ],
      "metadata": {
        "colab": {
          "base_uri": "https://localhost:8080/"
        },
        "id": "FYE_RDOcvUot",
        "outputId": "00db983d-a3a4-423b-8ae7-73631b96d667"
      },
      "execution_count": null,
      "outputs": [
        {
          "output_type": "stream",
          "name": "stdout",
          "text": [
            "1.092518146899218 1.11957844861067 1.1942609450760506 1.101583866033296 1.2289589147227176 1.356388438459737 2.3521316342851404 1.9935488650764674 1.0112233431846156 5.837854127836491\n"
          ]
        },
        {
          "output_type": "stream",
          "name": "stderr",
          "text": [
            "<ipython-input-45-0371ad28c61b>:2: FutureWarning: Series.__getitem__ treating keys as positions is deprecated. In a future version, integer keys will always be treated as labels (consistent with DataFrame behavior). To access a value by position, use `ser.iloc[pos]`\n",
            "  print(1/math.exp(model2.params[0]), 1/math.exp(model2.params[1]), math.exp(model2.params[2]), math.exp(model2.params[3]), math.exp(model2.params[4]), 1/math.exp(model2.params[5]), 1/math.exp(model2.params[6]), 1/math.exp(model2.params[7]), 1/math.exp(model2.params[8]), math.exp(model2.params[9]))\n"
          ]
        }
      ]
    },
    {
      "cell_type": "code",
      "source": [
        "print(np.exp(model2.params)) #These are expressed as odds ratios but the odds ratios less than 1 are a little harder to interpret, see above code for the inverse"
      ],
      "metadata": {
        "colab": {
          "base_uri": "https://localhost:8080/"
        },
        "id": "Daau5ZOyvtZB",
        "outputId": "b2349dab-9de7-4ee5-df13-20b0722f726e"
      },
      "execution_count": null,
      "outputs": [
        {
          "output_type": "stream",
          "name": "stdout",
          "text": [
            "young         0.915317\n",
            "women         0.893193\n",
            "college       1.194261\n",
            "black         1.101584\n",
            "latin         1.228959\n",
            "metro         0.737252\n",
            "citizen       0.425146\n",
            "republican    0.501618\n",
            "low-income    0.988901\n",
            "good-econ     5.837854\n",
            "dtype: float64\n"
          ]
        }
      ]
    },
    {
      "cell_type": "markdown",
      "source": [
        "### (8C) Revised Odds ratio interpretation including all controls & economic situation\n",
        "1. For every 1 unit change in young, there is 1.1 times greater odds of being in the less satisfied with US democracy operation group\n",
        "2. For every 1 unit change in women, there is 1.12 times greater odds of being in the less satisfied with US democracy operation group\n",
        "3. For every 1 unit change in college education, there is 1.19 times greater odds of being in the more satisfied with US democracy operation group\n",
        "4. For every 1 unit change in black, there is 1.10 times greater odds of being in the more satisfied with US democracy operation group\n",
        "5. For every 1 unit change in Hispanic, there is 1.22 times greater odds of being in the more satisfied with US democracy operation group\n",
        "6. For every 1 unit change in metropolitan residency, there is 1.35 times greater odds of being less satisfied with US democracy operation group\n",
        "7. For every 1 unit change in citizenship, there is 2.35 times greater odds of being less satisfied with US democracy operation group\n",
        "8. For every 1 unit change in republican, there is 1.99 times greater odds of being less satisfied with US democracy operation group\n",
        "9. For every 1 unit change in low-income, there is 1.01 times greater odds of being in the more satisfied with US democracy operation group\n",
        "10. For every 1 unit change in good descriptions of the current economic situation, there is 5.83 times greater odds of being in the more satisfied with US democracy operation group\n",
        "\n",
        "\n",
        "---\n",
        "\n",
        "**Unlike the linear model, the logistic model shows that there are much higher odds of satisfaction with the the way democracy works for those who describe the current economic situation as good. Compared to the first logistic regression (which excluded economic situation), citizenship had the greatest odds of dissatisfaction with the way democracy in the US works. That did play a factor in the most recent election**\n"
      ],
      "metadata": {
        "id": "OGS2yBcewzqf"
      }
    },
    {
      "cell_type": "markdown",
      "source": [
        "### (9C) Final logistic model (using only the statistically significant variables from the linear model + economic situation)\n"
      ],
      "metadata": {
        "id": "6lCrdtY4yaOd"
      }
    },
    {
      "cell_type": "code",
      "source": [
        "# Logistic mregression model to predict satisfaction with democracy\n",
        "Y = Demo_df['satisfied_demo'] # binary measure of satisfaction with democracy\n",
        "X = Demo_df[['college', 'latin', 'citizen', 'republican', 'good-econ']]\n",
        "#X = sm.add_constant(X) #this hides the constant because it throws me off for the odds ratio calculations\n",
        "model2 = sm.Logit(Y, X, missing='drop').fit()\n",
        "print(model2.summary())"
      ],
      "metadata": {
        "colab": {
          "base_uri": "https://localhost:8080/"
        },
        "id": "Htn5eT4OyqIf",
        "outputId": "f02fe018-c933-4185-aecd-6b2c02fdf716"
      },
      "execution_count": null,
      "outputs": [
        {
          "output_type": "stream",
          "name": "stdout",
          "text": [
            "Optimization terminated successfully.\n",
            "         Current function value: 0.560451\n",
            "         Iterations 5\n",
            "                           Logit Regression Results                           \n",
            "==============================================================================\n",
            "Dep. Variable:         satisfied_demo   No. Observations:                 3576\n",
            "Model:                          Logit   Df Residuals:                     3571\n",
            "Method:                           MLE   Df Model:                            4\n",
            "Date:                Tue, 24 Dec 2024   Pseudo R-squ.:                  0.1465\n",
            "Time:                        17:50:56   Log-Likelihood:                -2004.2\n",
            "converged:                       True   LL-Null:                       -2348.2\n",
            "Covariance Type:            nonrobust   LLR p-value:                1.290e-147\n",
            "==============================================================================\n",
            "                 coef    std err          z      P>|z|      [0.025      0.975]\n",
            "------------------------------------------------------------------------------\n",
            "college        0.1200      0.075      1.589      0.112      -0.028       0.268\n",
            "latin          0.1092      0.087      1.248      0.212      -0.062       0.281\n",
            "citizen       -1.1149      0.064    -17.348      0.000      -1.241      -0.989\n",
            "republican    -0.7131      0.098     -7.273      0.000      -0.905      -0.521\n",
            "good-econ      1.7602      0.081     21.730      0.000       1.601       1.919\n",
            "==============================================================================\n"
          ]
        }
      ]
    },
    {
      "cell_type": "markdown",
      "source": [
        "### (10C) Revised Logistic Regression Model Interpretation\n",
        "- LLR p-value is statistically significant at p < 0.05, so the model is reliable and the dataset is sufficiently large.\n",
        "- Pseudo R-squared value (goodness of fit) shows that 14.6% of the model fits the data, a slight decrease from the original logistic regression model."
      ],
      "metadata": {
        "id": "XugIRkay0V2z"
      }
    },
    {
      "cell_type": "code",
      "source": [
        "# These odds take the inverse so that it is easier to say\n",
        "print(math.exp(model2.params[0]), math.exp(model2.params[1]), 1/math.exp(model2.params[2]), 1/math.exp(model2.params[3]), math.exp(model2.params[4]))"
      ],
      "metadata": {
        "colab": {
          "base_uri": "https://localhost:8080/"
        },
        "id": "vs00OBlEy7rI",
        "outputId": "b179124b-8596-461e-824d-a6ac6843bb6f"
      },
      "execution_count": null,
      "outputs": [
        {
          "output_type": "stream",
          "name": "stdout",
          "text": [
            "1.127443083393237 1.1153346873857044 3.049158679870986 2.040279162803224 5.813707783145707\n"
          ]
        },
        {
          "output_type": "stream",
          "name": "stderr",
          "text": [
            "<ipython-input-48-04d53f1b6e9b>:2: FutureWarning: Series.__getitem__ treating keys as positions is deprecated. In a future version, integer keys will always be treated as labels (consistent with DataFrame behavior). To access a value by position, use `ser.iloc[pos]`\n",
            "  print(math.exp(model2.params[0]), math.exp(model2.params[1]), 1/math.exp(model2.params[2]), 1/math.exp(model2.params[3]), math.exp(model2.params[4]))\n"
          ]
        }
      ]
    },
    {
      "cell_type": "code",
      "source": [
        "print(np.exp(model2.params)) #These are expressed as odds ratios but the odds ratios less than 1 are a little harder to interpret, see above code for the inverse"
      ],
      "metadata": {
        "colab": {
          "base_uri": "https://localhost:8080/"
        },
        "id": "Yoc8ZXgbzE3G",
        "outputId": "5f79a6d2-457e-4181-8e41-f06e48c1e86a"
      },
      "execution_count": null,
      "outputs": [
        {
          "output_type": "stream",
          "name": "stdout",
          "text": [
            "college       1.127443\n",
            "latin         1.115335\n",
            "citizen       0.327959\n",
            "republican    0.490129\n",
            "good-econ     5.813708\n",
            "dtype: float64\n"
          ]
        }
      ]
    },
    {
      "cell_type": "markdown",
      "source": [
        "### (11C) Final Odds ratio interpretation including only statistically significant controls & economic situation\n",
        "1. For every 1 unit change in college education, there is 1.13 times greater odds of being in the *more satisfied* with US democracy operation group\n",
        "2. For every 1 unit change in Hispanic, there is 1.12 times greater odds of being in the *more satisfied* with US democracy operation group\n",
        "3. For every 1 unit change in citizenship, there is 3.05 times greater odds of being in the *less satisfied* with US democracy operation group\n",
        "4. For every 1 unit change in republican, there is 2.04 times greater odds of being in the *less satisfied* with US democracy operation group\n",
        "5. For every 1 unit change in good descriptions of the current economic situation, there is 5.81 times greater odds of being in the *more satisfied* with US democracy operation group\n",
        "\n",
        "\n",
        "---\n",
        "\n",
        "**Odds of dissatisfaction with democracy has increased for both citizenship and republican, and odds for satisfaction with democracy has slightly decreased for economic situation and there were more significant decreases for college and Hispanic. But overall, all 5 of these factors played a key role in the recent election results.**"
      ],
      "metadata": {
        "id": "DT2HVDkKzNio"
      }
    },
    {
      "cell_type": "markdown",
      "source": [
        "## Summary\n",
        "- Based on the analysis of ATP Wave 124, we are unable to predict how satisfied people are with the way democracy works in the US using controls, such as age, gender, education, race, Hispanic, metropolitan living, citizenship, political party, income status.  \n",
        "-- The linear and logistic models have low adjusted R^2 and pseudo R^2 values, respectively, meaing that the very little of the variance of the outcome can be attributed to the explanatory variables and there is very little goodness fit of the model to the data.\n",
        "- Revised models that pared down the number of explanatory variables and included the current economic situation increased the adjusted R-squared so that approximately **20.5%** of the variance in the outcome was explained.\n",
        "\n",
        "\n",
        "---\n",
        "\n",
        "\n",
        "- However, the direction in the linear regression model seemed to indicate that the satisfaction with the way democracy operates decreased as the good descriptions of the current economic situation increased.\n",
        "Using the logistic regression model, we see that the pseudo-R-squared value shows that approximately **14.6%** of the model fits the data.\n",
        "- The final logistic regression model which used the variables from the final linear regression model indicates that education, Hispanic ethnicity, citizenship, republican affiliation, and positive descriptions of the current economic situation were the main variables that affected the outcome of satisfaction with the way democracy works.\n",
        "- Positive descriptions of the current economic situation is associated with the highest odds of being satisfied with democracy, and citizenship is associated with the lowest odds of satisfaction."
      ],
      "metadata": {
        "id": "9Fik2PSvbhJk"
      }
    }
  ]
}