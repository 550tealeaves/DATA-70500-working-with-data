{
  "nbformat": 4,
  "nbformat_minor": 0,
  "metadata": {
    "colab": {
      "provenance": [],
      "include_colab_link": true
    },
    "kernelspec": {
      "name": "python3",
      "display_name": "Python 3"
    }
  },
  "cells": [
    {
      "cell_type": "markdown",
      "metadata": {
        "id": "view-in-github",
        "colab_type": "text"
      },
      "source": [
        "<a href=\"https://colab.research.google.com/github/550tealeaves/DATA-70500-working-with-data/blob/main/Lab7_DataNarratives2.ipynb\" target=\"_parent\"><img src=\"https://colab.research.google.com/assets/colab-badge.svg\" alt=\"Open In Colab\"/></a>"
      ]
    },
    {
      "cell_type": "markdown",
      "metadata": {
        "id": "Xy-5BFZTSD88"
      },
      "source": [
        "# Telling a Story with Data\n",
        "\n",
        "In this notebook, I'll show you how to use the tools we've learned to pose a sociological question, find and read appropriate data, and then do a series of analyses that form an answer to the question. Through this process, we'll keep the principles of *Data Feminism* in mind.\n",
        "\n"
      ]
    },
    {
      "cell_type": "markdown",
      "metadata": {
        "id": "CErN33JRU8fP"
      },
      "source": [
        "The data source I identified as relevant to my question is IPUMS at the University of Minnesota: https://usa.ipums.org/usa/index.shtml\n",
        "\n",
        "IPUMS is a form of US Census data that is made available to researchers, with identifying information removed. IPUMS used to stand for \"Integrated Public Use Microdata Series\" but now people just consider it the name of a data source. It allows us to ask many different kinds of questions about the US population, including individual adults and households. It is a popular data source for many kinds of sociological research.\n",
        "\n"
      ]
    },
    {
      "cell_type": "markdown",
      "source": [
        "IPUMS data: https://usa.ipums.org/usa-action/variables/group\n",
        "\n",
        "NYC Department of City Planning: https://www.nyc.gov/site/planning/data-maps/open-data.page\n",
        "\n",
        "American Community Survey from US Census: https://www.census.gov/programs-surveys/acs/"
      ],
      "metadata": {
        "id": "U68t5drB7EmQ"
      }
    },
    {
      "cell_type": "markdown",
      "source": [
        "Getting American Community Survey data from the US Census via their API:\n",
        "https://www.census.gov/programs-surveys/acs/data/data-via-api.html\n",
        "\n",
        "Here's a handy summary:\n",
        "https://www.census.gov/content/dam/Census/programs-surveys/acs/data/census-data-api-flyer_ACS.pdf\n",
        "\n"
      ],
      "metadata": {
        "id": "HXxqmFrSZtZb"
      }
    },
    {
      "cell_type": "code",
      "metadata": {
        "id": "5xFmrDK71a4O",
        "colab": {
          "base_uri": "https://localhost:8080/"
        },
        "outputId": "683c18ed-69f4-4d42-8210-a0d254aa76ab"
      },
      "source": [
        "# Code block 0: Install library\n",
        "!pip install researchpy"
      ],
      "execution_count": null,
      "outputs": [
        {
          "output_type": "stream",
          "name": "stdout",
          "text": [
            "Collecting researchpy\n",
            "  Downloading researchpy-0.3.6-py3-none-any.whl.metadata (1.2 kB)\n",
            "Requirement already satisfied: scipy in /usr/local/lib/python3.10/dist-packages (from researchpy) (1.13.1)\n",
            "Requirement already satisfied: numpy in /usr/local/lib/python3.10/dist-packages (from researchpy) (1.26.4)\n",
            "Requirement already satisfied: pandas in /usr/local/lib/python3.10/dist-packages (from researchpy) (2.2.2)\n",
            "Requirement already satisfied: statsmodels in /usr/local/lib/python3.10/dist-packages (from researchpy) (0.14.4)\n",
            "Requirement already satisfied: patsy in /usr/local/lib/python3.10/dist-packages (from researchpy) (0.5.6)\n",
            "Requirement already satisfied: python-dateutil>=2.8.2 in /usr/local/lib/python3.10/dist-packages (from pandas->researchpy) (2.8.2)\n",
            "Requirement already satisfied: pytz>=2020.1 in /usr/local/lib/python3.10/dist-packages (from pandas->researchpy) (2024.2)\n",
            "Requirement already satisfied: tzdata>=2022.7 in /usr/local/lib/python3.10/dist-packages (from pandas->researchpy) (2024.2)\n",
            "Requirement already satisfied: six in /usr/local/lib/python3.10/dist-packages (from patsy->researchpy) (1.16.0)\n",
            "Requirement already satisfied: packaging>=21.3 in /usr/local/lib/python3.10/dist-packages (from statsmodels->researchpy) (24.1)\n",
            "Downloading researchpy-0.3.6-py3-none-any.whl (34 kB)\n",
            "Installing collected packages: researchpy\n",
            "Successfully installed researchpy-0.3.6\n"
          ]
        }
      ]
    },
    {
      "cell_type": "code",
      "metadata": {
        "id": "b6kTWy09caYT"
      },
      "source": [
        "# Code block 1: Libraries\n",
        "import pandas as pd\n",
        "import numpy as np\n",
        "import statsmodels.api as sm\n",
        "import seaborn as sb\n",
        "import matplotlib.pyplot as plt\n",
        "import math\n",
        "import researchpy as rp"
      ],
      "execution_count": null,
      "outputs": []
    },
    {
      "cell_type": "code",
      "metadata": {
        "id": "o5khpCFnzZRu"
      },
      "source": [
        "# Code block 2: Reading the data\n",
        "IPUMS_df = pd.read_csv('https://raw.githubusercontent.com/550tealeaves/DATA-70500-working-with-data/refs/heads/main/datasets/usa_00019.csv')\n"
      ],
      "execution_count": null,
      "outputs": []
    },
    {
      "cell_type": "code",
      "metadata": {
        "id": "Wn5Kk1e8R4Rw",
        "colab": {
          "base_uri": "https://localhost:8080/"
        },
        "outputId": "be166f23-049c-48f8-bcec-555a4c22f5fe"
      },
      "source": [
        "IPUMS_df.info('verbose')"
      ],
      "execution_count": null,
      "outputs": [
        {
          "output_type": "stream",
          "name": "stdout",
          "text": [
            "<class 'pandas.core.frame.DataFrame'>\n",
            "RangeIndex: 20416 entries, 0 to 20415\n",
            "Data columns (total 33 columns):\n",
            " #   Column     Non-Null Count  Dtype  \n",
            "---  ------     --------------  -----  \n",
            " 0   YEAR       20416 non-null  int64  \n",
            " 1   SAMPLE     20416 non-null  int64  \n",
            " 2   SERIAL     20416 non-null  int64  \n",
            " 3   CBSERIAL   20416 non-null  int64  \n",
            " 4   HHWT       20416 non-null  float64\n",
            " 5   CLUSTER    20416 non-null  int64  \n",
            " 6   STATEFIP   20416 non-null  int64  \n",
            " 7   COUNTYFIP  20416 non-null  int64  \n",
            " 8   STRATA     20416 non-null  int64  \n",
            " 9   GQ         20416 non-null  int64  \n",
            " 10  PERNUM     20416 non-null  int64  \n",
            " 11  PERWT      20416 non-null  float64\n",
            " 12  SEX        20416 non-null  int64  \n",
            " 13  AGE        20416 non-null  int64  \n",
            " 14  MARST      20416 non-null  int64  \n",
            " 15  HISPAN     20416 non-null  int64  \n",
            " 16  HISPAND    20416 non-null  int64  \n",
            " 17  CITIZEN    20416 non-null  int64  \n",
            " 18  RACASIAN   20416 non-null  int64  \n",
            " 19  RACBLK     20416 non-null  int64  \n",
            " 20  RACPACIS   20416 non-null  int64  \n",
            " 21  RACWHT     20416 non-null  int64  \n",
            " 22  RACOTHER   20416 non-null  int64  \n",
            " 23  EDUC       20416 non-null  int64  \n",
            " 24  EDUCD      20416 non-null  int64  \n",
            " 25  EMPSTAT    20416 non-null  int64  \n",
            " 26  EMPSTATD   20416 non-null  int64  \n",
            " 27  LABFORCE   20416 non-null  int64  \n",
            " 28  OCC2010    20416 non-null  int64  \n",
            " 29  UHRSWORK   20416 non-null  int64  \n",
            " 30  INCTOT     20416 non-null  int64  \n",
            " 31  FTOTINC    20416 non-null  int64  \n",
            " 32  POVERTY    20416 non-null  int64  \n",
            "dtypes: float64(2), int64(31)\n",
            "memory usage: 5.1 MB\n"
          ]
        }
      ]
    },
    {
      "cell_type": "code",
      "source": [
        "# This will drop the other categories in this variable that are NOT 1 or 2\n",
        "IPUMS_df['EMPSTAT_recoded'] = IPUMS_df['EMPSTAT']\n",
        "IPUMS_df.loc[~IPUMS_df['EMPSTAT_recoded'].isin([1, 2]), 'EMPSTAT_recoded'] = np.nan"
      ],
      "metadata": {
        "id": "ARH1V1U2_ZJL"
      },
      "execution_count": null,
      "outputs": []
    },
    {
      "cell_type": "code",
      "source": [
        "# Handle missing values - turn missing values into not a number\n",
        "IPUMS_df['SEX'] = np.where(IPUMS_df['SEX'] > 2, np.nan, IPUMS_df['SEX'])\n",
        "IPUMS_df['AGE'] = np.where(IPUMS_df['AGE'] > 140, np.nan, IPUMS_df['AGE'])\n",
        "IPUMS_df['EDUC'] = np.where(IPUMS_df['EDUC'] > 11, np.nan, IPUMS_df['EDUC'])\n"
      ],
      "metadata": {
        "id": "nWT5jFDZpan_"
      },
      "execution_count": null,
      "outputs": []
    },
    {
      "cell_type": "code",
      "source": [
        "# Build a model to start the data narrative\n",
        "# When using categorical variables - you have to remove one of the options and leave it as the comparison and create binary variables for all the other categories\n",
        "Y = IPUMS_df['EMPSTAT'] # Hours usually worked (in hours) # DEPENDENT VARIABLE - numeric variable\n",
        "X = IPUMS_df[['SEX', 'AGE', 'RACASIAN', 'RACBLK', 'RACPACIS', 'RACOTHER', 'CITIZEN', 'EDUC']] #INDEPENDENT VARIABLES - race=white is the comparison category b/c the other races are clearly listed - binary/numeric variables\n",
        "X = sm.add_constant(X)\n",
        "model0 = sm.OLS(Y, X, missing='drop').fit()\n",
        "print(model0.summary())"
      ],
      "metadata": {
        "colab": {
          "base_uri": "https://localhost:8080/"
        },
        "id": "lpUDjNRYrfoO",
        "outputId": "97ad85be-e920-441d-aee7-9b4768204c12"
      },
      "execution_count": null,
      "outputs": [
        {
          "output_type": "stream",
          "name": "stdout",
          "text": [
            "                            OLS Regression Results                            \n",
            "==============================================================================\n",
            "Dep. Variable:                EMPSTAT   R-squared:                       0.357\n",
            "Model:                            OLS   Adj. R-squared:                  0.356\n",
            "Method:                 Least Squares   F-statistic:                     1414.\n",
            "Date:                Wed, 06 Nov 2024   Prob (F-statistic):               0.00\n",
            "Time:                        01:02:13   Log-Likelihood:                -26748.\n",
            "No. Observations:               20416   AIC:                         5.351e+04\n",
            "Df Residuals:                   20407   BIC:                         5.359e+04\n",
            "Df Model:                           8                                         \n",
            "Covariance Type:            nonrobust                                         \n",
            "==============================================================================\n",
            "                 coef    std err          t      P>|t|      [0.025      0.975]\n",
            "------------------------------------------------------------------------------\n",
            "const         -0.1799      0.167     -1.074      0.283      -0.508       0.148\n",
            "SEX            0.0835      0.013      6.632      0.000       0.059       0.108\n",
            "AGE            0.0283      0.000     94.019      0.000       0.028       0.029\n",
            "RACASIAN       0.0994      0.023      4.354      0.000       0.055       0.144\n",
            "RACBLK         0.1814      0.019      9.346      0.000       0.143       0.219\n",
            "RACPACIS      -0.0096      0.159     -0.061      0.952      -0.321       0.302\n",
            "RACOTHER       0.0821      0.020      4.150      0.000       0.043       0.121\n",
            "CITIZEN       -0.0227      0.008     -3.028      0.002      -0.037      -0.008\n",
            "EDUC           0.0011      0.002      0.505      0.613      -0.003       0.005\n",
            "==============================================================================\n",
            "Omnibus:                     1708.535   Durbin-Watson:                   1.686\n",
            "Prob(Omnibus):                  0.000   Jarque-Bera (JB):             2169.646\n",
            "Skew:                           0.796   Prob(JB):                         0.00\n",
            "Kurtosis:                       2.873   Cond. No.                     1.80e+03\n",
            "==============================================================================\n",
            "\n",
            "Notes:\n",
            "[1] Standard Errors assume that the covariance matrix of the errors is correctly specified.\n",
            "[2] The condition number is large, 1.8e+03. This might indicate that there are\n",
            "strong multicollinearity or other numerical problems.\n"
          ]
        }
      ]
    },
    {
      "cell_type": "markdown",
      "source": [
        "~ **About 35% of the variation in the model is explained by the demographic variables**\n",
        "\n",
        "Treat demographic variables as if they are statistically independent, but what about intersectionality? Variables don't exist in a vacuum.\n",
        "\n",
        "\n",
        "\n",
        "\n",
        "So here we've asked if race, gender, age, and education affect the amount usually worked. By using OLS, we are able to look at the unique effects since all the IVs serve as control variables for any of the others.\n",
        "\n",
        "We see a pattern of significant effects. So our next step is to think about what would be meaningful follow-up questions. This is how we construct a data narrative, by thinking about how we can explain the meaning of the pattern we see in the original model.\n",
        "\n",
        "One question we might ask is about interaction effects. This is a way to operationalize the concept of intersectionality."
      ],
      "metadata": {
        "id": "tf05ulNcsptq"
      }
    },
    {
      "cell_type": "code",
      "source": [
        "# Create interaction variable - identify as woman and as black - black women vs everyone else\n",
        "IPUMS_df['WOMAN'] = np.where(IPUMS_df['SEX'] == 2, 1, 0)\n",
        "IPUMS_df['BLACK_WOMAN'] = IPUMS_df['WOMAN'] * IPUMS_df['RACBLK'] #'Black_woman' - is the interaction b/w woman and black\n"
      ],
      "metadata": {
        "id": "TucUIZhDuaZX"
      },
      "execution_count": null,
      "outputs": []
    },
    {
      "cell_type": "code",
      "source": [
        "# Build a model to start the data narrative\n",
        "Y = IPUMS_df['EMPSTAT'] # Hours usually worked (in hours)\n",
        "X = IPUMS_df[['SEX', 'AGE', 'RACASIAN', 'RACBLK', 'RACPACIS', 'RACOTHER', 'EDUC', 'CITIZEN', 'BLACK_WOMAN']] # use the original model and then include the new interaction variable 'black_woman'\n",
        "X = sm.add_constant(X)\n",
        "model1 = sm.OLS(Y, X, missing='drop').fit()\n",
        "print(model1.summary())"
      ],
      "metadata": {
        "outputId": "e441fc34-dbd4-4dbe-a9bb-fa4685f94836",
        "colab": {
          "base_uri": "https://localhost:8080/"
        },
        "id": "oFyQKIrhvUvs"
      },
      "execution_count": null,
      "outputs": [
        {
          "output_type": "stream",
          "name": "stdout",
          "text": [
            "                            OLS Regression Results                            \n",
            "==============================================================================\n",
            "Dep. Variable:                EMPSTAT   R-squared:                       0.358\n",
            "Model:                            OLS   Adj. R-squared:                  0.358\n",
            "Method:                 Least Squares   F-statistic:                     1263.\n",
            "Date:                Wed, 06 Nov 2024   Prob (F-statistic):               0.00\n",
            "Time:                        01:02:32   Log-Likelihood:                -26730.\n",
            "No. Observations:               20416   AIC:                         5.348e+04\n",
            "Df Residuals:                   20406   BIC:                         5.356e+04\n",
            "Df Model:                           9                                         \n",
            "Covariance Type:            nonrobust                                         \n",
            "===============================================================================\n",
            "                  coef    std err          t      P>|t|      [0.025      0.975]\n",
            "-------------------------------------------------------------------------------\n",
            "const          -0.5751      0.180     -3.203      0.001      -0.927      -0.223\n",
            "SEX             0.3423      0.044      7.713      0.000       0.255       0.429\n",
            "AGE             0.0283      0.000     94.135      0.000       0.028       0.029\n",
            "RACASIAN        0.0997      0.023      4.369      0.000       0.055       0.144\n",
            "RACBLK          0.3004      0.028     10.904      0.000       0.246       0.354\n",
            "RACPACIS       -0.0105      0.159     -0.066      0.947      -0.321       0.300\n",
            "RACOTHER        0.0833      0.020      4.213      0.000       0.045       0.122\n",
            "EDUC            0.0012      0.002      0.599      0.549      -0.003       0.005\n",
            "CITIZEN        -0.0227      0.008     -3.031      0.002      -0.037      -0.008\n",
            "BLACK_WOMAN    -0.2299      0.038     -6.081      0.000      -0.304      -0.156\n",
            "==============================================================================\n",
            "Omnibus:                     1699.033   Durbin-Watson:                   1.687\n",
            "Prob(Omnibus):                  0.000   Jarque-Bera (JB):             2155.489\n",
            "Skew:                           0.794   Prob(JB):                         0.00\n",
            "Kurtosis:                       2.877   Cond. No.                     1.84e+03\n",
            "==============================================================================\n",
            "\n",
            "Notes:\n",
            "[1] Standard Errors assume that the covariance matrix of the errors is correctly specified.\n",
            "[2] The condition number is large, 1.84e+03. This might indicate that there are\n",
            "strong multicollinearity or other numerical problems.\n"
          ]
        }
      ]
    },
    {
      "cell_type": "markdown",
      "source": [
        "**Sumarry - For black women, they are less likely to be employed**\n",
        "\n",
        "Here, in model 1 (the second model) we see a significant effect for the interaction variable we created to examine one aspect of intersectionality. We could (and should) create other interaction effects to reflect more fully the nature of intersectionality.\n",
        "\n",
        "Then we want to think of the next question that would advance our data narrative."
      ],
      "metadata": {
        "id": "7iiuabJkIxYP"
      }
    },
    {
      "cell_type": "code",
      "metadata": {
        "id": "wb3Y0WyJ3v64",
        "colab": {
          "base_uri": "https://localhost:8080/"
        },
        "outputId": "4396e243-8786-471a-a967-40e4116af418"
      },
      "source": [
        "# Build a model to start the data narrative\n",
        "Y = IPUMS_df['EMPSTAT_recoded'] # Hours usually worked (in hours)\n",
        "X = IPUMS_df[['SEX', 'AGE', 'RACASIAN', 'RACBLK', 'RACPACIS', 'RACOTHER', 'EDUC', 'CITIZEN', 'BLACK_WOMAN']] # use the original model and then include the new interaction variable 'black_woman'\n",
        "X = sm.add_constant(X)\n",
        "model1 = sm.OLS(Y, X, missing='drop').fit()\n",
        "print(model1.summary())"
      ],
      "execution_count": null,
      "outputs": [
        {
          "output_type": "stream",
          "name": "stdout",
          "text": [
            "                            OLS Regression Results                            \n",
            "==============================================================================\n",
            "Dep. Variable:        EMPSTAT_recoded   R-squared:                       0.022\n",
            "Model:                            OLS   Adj. R-squared:                  0.022\n",
            "Method:                 Least Squares   F-statistic:                     25.90\n",
            "Date:                Wed, 06 Nov 2024   Prob (F-statistic):           1.25e-44\n",
            "Time:                        01:03:00   Log-Likelihood:                 1460.2\n",
            "No. Observations:               10175   AIC:                            -2900.\n",
            "Df Residuals:                   10165   BIC:                            -2828.\n",
            "Df Model:                           9                                         \n",
            "Covariance Type:            nonrobust                                         \n",
            "===============================================================================\n",
            "                  coef    std err          t      P>|t|      [0.025      0.975]\n",
            "-------------------------------------------------------------------------------\n",
            "const           0.9372      0.054     17.391      0.000       0.832       1.043\n",
            "SEX             0.0482      0.015      3.203      0.001       0.019       0.078\n",
            "AGE            -0.0010      0.000     -7.115      0.000      -0.001      -0.001\n",
            "RACASIAN        0.0080      0.007      1.070      0.285      -0.007       0.023\n",
            "RACBLK          0.0817      0.010      8.427      0.000       0.063       0.101\n",
            "RACPACIS        0.0395      0.045      0.882      0.378      -0.048       0.127\n",
            "RACOTHER        0.0183      0.007      2.756      0.006       0.005       0.031\n",
            "EDUC           -0.0065      0.001     -7.477      0.000      -0.008      -0.005\n",
            "CITIZEN        -0.0036      0.002     -1.513      0.130      -0.008       0.001\n",
            "BLACK_WOMAN    -0.0431      0.013     -3.330      0.001      -0.069      -0.018\n",
            "==============================================================================\n",
            "Omnibus:                     8359.813   Durbin-Watson:                   1.966\n",
            "Prob(Omnibus):                  0.000   Jarque-Bera (JB):           132259.912\n",
            "Skew:                           4.135   Prob(JB):                         0.00\n",
            "Kurtosis:                      18.607   Cond. No.                     1.52e+03\n",
            "==============================================================================\n",
            "\n",
            "Notes:\n",
            "[1] Standard Errors assume that the covariance matrix of the errors is correctly specified.\n",
            "[2] The condition number is large, 1.52e+03. This might indicate that there are\n",
            "strong multicollinearity or other numerical problems.\n"
          ]
        }
      ]
    },
    {
      "cell_type": "markdown",
      "source": [
        "Now this model is no longer good - only about 0.02% of the variance can be attributed to the independent variables\n"
      ],
      "metadata": {
        "id": "TCNmH3DV_7hh"
      }
    },
    {
      "cell_type": "code",
      "source": [
        "# Create interaction variable - identify as woman and as black - black women vs everyone else\n",
        "IPUMS_df['WOMAN'] = np.where(IPUMS_df['SEX'] == 2, 1, 0)\n",
        "IPUMS_df['PACIS_WOMAN'] = IPUMS_df['WOMAN'] * IPUMS_df['RACPACIS'] #'Black_woman' - is the interaction b/w Pacific Islander and woman"
      ],
      "metadata": {
        "id": "L3NdtoN2AUTu"
      },
      "execution_count": null,
      "outputs": []
    },
    {
      "cell_type": "code",
      "source": [
        "# Build a model to start the data narrative\n",
        "Y = IPUMS_df['EMPSTAT'] # Hours usually worked (in hours)\n",
        "X = IPUMS_df[['SEX', 'AGE', 'RACASIAN', 'RACBLK', 'RACPACIS', 'RACOTHER', 'EDUC', 'CITIZEN', 'PACIS_WOMAN']] # use the original model and then include the new interaction variable 'PACIS_WOMAN'\n",
        "X = sm.add_constant(X)\n",
        "model1 = sm.OLS(Y, X, missing='drop').fit()\n",
        "print(model1.summary())"
      ],
      "metadata": {
        "colab": {
          "base_uri": "https://localhost:8080/"
        },
        "id": "3nyVabCEAWIn",
        "outputId": "285cd2d9-6638-423c-e94f-9626eef9d5ac"
      },
      "execution_count": null,
      "outputs": [
        {
          "output_type": "stream",
          "name": "stdout",
          "text": [
            "                            OLS Regression Results                            \n",
            "==============================================================================\n",
            "Dep. Variable:                EMPSTAT   R-squared:                       0.357\n",
            "Model:                            OLS   Adj. R-squared:                  0.356\n",
            "Method:                 Least Squares   F-statistic:                     1257.\n",
            "Date:                Wed, 06 Nov 2024   Prob (F-statistic):               0.00\n",
            "Time:                        01:07:10   Log-Likelihood:                -26748.\n",
            "No. Observations:               20416   AIC:                         5.352e+04\n",
            "Df Residuals:                   20406   BIC:                         5.360e+04\n",
            "Df Model:                           9                                         \n",
            "Covariance Type:            nonrobust                                         \n",
            "===============================================================================\n",
            "                  coef    std err          t      P>|t|      [0.025      0.975]\n",
            "-------------------------------------------------------------------------------\n",
            "const           0.1146      0.516      0.222      0.824      -0.897       1.126\n",
            "SEX            -0.1088      0.319     -0.341      0.733      -0.734       0.516\n",
            "AGE             0.0283      0.000     94.007      0.000       0.028       0.029\n",
            "RACASIAN        0.0994      0.023      4.355      0.000       0.055       0.144\n",
            "RACBLK          0.1814      0.019      9.347      0.000       0.143       0.219\n",
            "RACPACIS       -0.1116      0.232     -0.481      0.630      -0.566       0.343\n",
            "RACOTHER        0.0820      0.020      4.145      0.000       0.043       0.121\n",
            "EDUC            0.0011      0.002      0.514      0.607      -0.003       0.005\n",
            "CITIZEN        -0.0228      0.008     -3.035      0.002      -0.038      -0.008\n",
            "PACIS_WOMAN     0.1920      0.318      0.604      0.546      -0.432       0.816\n",
            "==============================================================================\n",
            "Omnibus:                     1708.731   Durbin-Watson:                   1.686\n",
            "Prob(Omnibus):                  0.000   Jarque-Bera (JB):             2169.957\n",
            "Skew:                           0.796   Prob(JB):                         0.00\n",
            "Kurtosis:                       2.873   Cond. No.                     5.55e+03\n",
            "==============================================================================\n",
            "\n",
            "Notes:\n",
            "[1] Standard Errors assume that the covariance matrix of the errors is correctly specified.\n",
            "[2] The condition number is large, 5.55e+03. This might indicate that there are\n",
            "strong multicollinearity or other numerical problems.\n"
          ]
        }
      ]
    },
    {
      "cell_type": "markdown",
      "source": [
        "- **Controlling for other variables Pacific Islander women are more likely to be employed. However, the coefficient is not statistically significant at alpha=0.05, so it is not reliable as a unique effect.**"
      ],
      "metadata": {
        "id": "NZ7dLrkAAvOr"
      }
    },
    {
      "cell_type": "markdown",
      "metadata": {
        "id": "BVEW6zPO2j7A"
      },
      "source": [
        "## Activity\n",
        "1. Think of a follow-up question to ask and compute a new model.\n",
        "\n",
        "2. Interpret the results of your model.\n",
        "\n",
        "3. Explain how your model advances the data narrative.\n",
        "\n",
        "4. What would be a good next question?\n",
        "\n",
        "5.  What information about the American Community Survey from the US Census would you include in a data biography?"
      ]
    }
  ]
}